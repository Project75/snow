{
 "cells": [
  {
   "cell_type": "code",
   "execution_count": 2,
   "metadata": {
    "collapsed": true
   },
   "outputs": [],
   "source": [
    "import numpy as np\n",
    "import pandas as pd\n",
    "import nltk\n",
    "import re\n",
    "import os\n",
    "import codecs\n",
    "from sklearn import feature_extraction\n",
    "from nltk.stem import WordNetLemmatizer\n",
    "from nltk.corpus import stopwords\n",
    "from nltk.tag import pos_tag\n"
   ]
  },
  {
   "cell_type": "code",
   "execution_count": 2,
   "metadata": {},
   "outputs": [
    {
     "name": "stdout",
     "output_type": "stream",
     "text": [
      "Input Dataframe Shape(rows,cols): (13515, 14)\n"
     ]
    }
   ],
   "source": [
    "# I have exported the relevant data into a new excel -  export3.xlsx, convert excel to pandas\n",
    "\n",
    "df = pd.read_excel('data/export3.xlsx')\n",
    "\n",
    "''' \n",
    "#Reading from excel files with multiple tabs.\n",
    "xlsx = pd.ExcelFile('inc1.xlsx')\n",
    "\n",
    "data_sheets = []\n",
    "for sheet in xlsx.sheet_names:\n",
    "    data_sheets.append(pd.read_excel(xlsx,sheet, usecols=[1,3,4,5,6,7,11,12,13,14,15,16,19,27]))\n",
    "df = pd.concat(data_sheets)\n",
    "df=df.reset_index(drop=True)\n",
    "df.columns = [c.replace(' ', '_') for c in df.columns]\n",
    "'''\n",
    "print(\"Input Dataframe Shape(rows,cols):\",df.shape)\n"
   ]
  },
  {
   "cell_type": "code",
   "execution_count": 105,
   "metadata": {},
   "outputs": [
    {
     "data": {
      "text/plain": [
       "Corporate Office - Phoenix 1                                   28199\n",
       "St Joseph's Hospital and Medical Center (SJHMC)                 6009\n",
       "St Joseph's Medical Center Stockton (SJMC)                      2601\n",
       "Chandler Regional Medical Center (CRMC)                         2455\n",
       "Mercy San Juan Hospital (MSJMC)                                 2228\n",
       "Bakersfield Memorial Hospital (BMH)                             2037\n",
       "Northridge Hospital and Medical Center Roscoe (NHMC)            2025\n",
       "St Rose Dominican Hospital - Siena (SRDH-S)                     1939\n",
       "California Hospital Medical Center (CHMC)                       1895\n",
       "Marian Regional Medical Center (MRMC)                           1865\n",
       "St Mary Medical Center Long Beach (SMMC-LB)                     1855\n",
       "St Johns Regional Medical Center (SJRMC)                        1792\n",
       "St Bernardine Medical Center (SBMC)                             1673\n",
       "Mercy General Hospital (MGH)                                    1670\n",
       "Dominican Hospital (DSC)                                        1664\n",
       "Mercy Medical Center Redding (MMCR)                             1641\n",
       "Mercy Medical Center Merced (MMCM)                              1446\n",
       "Corporate Office - Phoenix GAT                                  1416\n",
       "Community Hospital of San Bernardino (CHSB)                     1363\n",
       "St Mary's Medical Center San Francisco (SMMC-SF)                1306\n",
       "St Francis Memorial Hospital San Francisco (SFMH)               1206\n",
       "Mercy Gilbert Medical Center (MGMC)                             1145\n",
       "Sequoia Health Services                                         1128\n",
       "Methodist Hospital of Sacramento (METH)                         1095\n",
       "_Remote Work Location                                           1070\n",
       "Mercy Hospital Bakersfield (MHB)                                1038\n",
       "Glendale Memorial Hospital and Health Center (GMHHC)             961\n",
       "Sierra Nevada Memorial Hospital (SNMH)                           947\n",
       "Mercy Hospital of Folsom (MHF)                                   768\n",
       "Woodland Memorial Hospital (WMH)                                 741\n",
       "                                                               ...  \n",
       "St Joseph's Westgate Medical Office Building                       1\n",
       "Dominican Medical Group Health Care                                1\n",
       "Families in Good Health                                            1\n",
       "Dignity Health Medical Group-North State-Edith St                  1\n",
       "Dignity Health Neurological Institute of Central California        1\n",
       "C.A.R.E. Program and Clinic                                        1\n",
       "Hearst Cancer Resource Center                                      1\n",
       "Santa Maria Womens Health Care Center                              1\n",
       "Outpatient Diagnostic Center                                       1\n",
       "SFO Airport Medical Clinic                                         1\n",
       "DHMF Roseville Lead Hill                                           1\n",
       "Women's Care/Outreach Center / Center of Excellence                1\n",
       "Santa Cruz                                                         1\n",
       "St Joseph's Center for Women's Health                              1\n",
       "Mercy Richards Educational Services                                1\n",
       "Davis                                                              1\n",
       "GoHealth Urgent Care - Mission St                                  1\n",
       "Growth Clinic - Dignity Health Cancer Center at Goodyear           1\n",
       "Gilbert                                                            1\n",
       "Silver Oaks Medical Office                                         1\n",
       "St John's Regional Imaging Center                                  1\n",
       "Adolescent Medicine Clinic                                         1\n",
       "Renaissance Imaging Center At Northridge Hospital                  1\n",
       "DHMF - Pediatrics Folsom 03                                        1\n",
       "C.A.R.E Program Office                                             1\n",
       "Stanford Neurosurgery Clinic in Santa Cruz                         1\n",
       "Capitola                                                           1\n",
       "Medical Staff Services (PHX)                                       1\n",
       "St Bernardine Urgent Care Center - Highland                        1\n",
       "Hyperbaric Medicine Center in Grass Valley                         1\n",
       "Name: Location, Length: 546, dtype: int64"
      ]
     },
     "execution_count": 105,
     "metadata": {},
     "output_type": "execute_result"
    }
   ],
   "source": [
    "df1.Location.value_counts()"
   ]
  },
  {
   "cell_type": "code",
   "execution_count": 3,
   "metadata": {},
   "outputs": [
    {
     "data": {
      "text/html": [
       "<div>\n",
       "<style scoped>\n",
       "    .dataframe tbody tr th:only-of-type {\n",
       "        vertical-align: middle;\n",
       "    }\n",
       "\n",
       "    .dataframe tbody tr th {\n",
       "        vertical-align: top;\n",
       "    }\n",
       "\n",
       "    .dataframe thead th {\n",
       "        text-align: right;\n",
       "    }\n",
       "</style>\n",
       "<table border=\"1\" class=\"dataframe\">\n",
       "  <thead>\n",
       "    <tr style=\"text-align: right;\">\n",
       "      <th></th>\n",
       "      <th>Customer</th>\n",
       "      <th>Priority</th>\n",
       "      <th>State</th>\n",
       "      <th>Short description</th>\n",
       "      <th>Assignment group</th>\n",
       "      <th>Category</th>\n",
       "      <th>Child Incidents</th>\n",
       "      <th>Close notes</th>\n",
       "      <th>Close code</th>\n",
       "      <th>Closure CI</th>\n",
       "      <th>Configuration item</th>\n",
       "      <th>Contact type</th>\n",
       "      <th>Created</th>\n",
       "      <th>Location</th>\n",
       "    </tr>\n",
       "  </thead>\n",
       "  <tbody>\n",
       "    <tr>\n",
       "      <th>0</th>\n",
       "      <td>Rebecca Borghi</td>\n",
       "      <td>4 - Low</td>\n",
       "      <td>New</td>\n",
       "      <td>Access DH: Dominican facility not available as...</td>\n",
       "      <td>DH-GSSAPACSAdmin</td>\n",
       "      <td>Application</td>\n",
       "      <td>0.0</td>\n",
       "      <td>NaN</td>\n",
       "      <td>NaN</td>\n",
       "      <td>NaN</td>\n",
       "      <td>Access Dignity Health</td>\n",
       "      <td>Phone</td>\n",
       "      <td>2018-10-25 15:22:02</td>\n",
       "      <td>Dominican Hospital (DSC)</td>\n",
       "    </tr>\n",
       "    <tr>\n",
       "      <th>1</th>\n",
       "      <td>Logan McDaniel</td>\n",
       "      <td>4 - Low</td>\n",
       "      <td>New</td>\n",
       "      <td>ECF update for Location Change for Burns, Josh...</td>\n",
       "      <td>DHE-HR Technology</td>\n",
       "      <td>Application</td>\n",
       "      <td>0.0</td>\n",
       "      <td>NaN</td>\n",
       "      <td>NaN</td>\n",
       "      <td>NaN</td>\n",
       "      <td>Lawson Employee and Manager Self Service 10.0.7</td>\n",
       "      <td>Phone</td>\n",
       "      <td>2018-10-31 00:36:25</td>\n",
       "      <td>St Rose Dominican Hospital - Siena (SRDH-S)</td>\n",
       "    </tr>\n",
       "    <tr>\n",
       "      <th>2</th>\n",
       "      <td>OMI Integration Service</td>\n",
       "      <td>2 - High</td>\n",
       "      <td>New</td>\n",
       "      <td>'mmc-vint-017.chw.edu': Ping packet good perce...</td>\n",
       "      <td>DHE-Server Build Engineering</td>\n",
       "      <td>Server</td>\n",
       "      <td>0.0</td>\n",
       "      <td>NaN</td>\n",
       "      <td>NaN</td>\n",
       "      <td>NaN</td>\n",
       "      <td>mmc-vint-017</td>\n",
       "      <td>Event</td>\n",
       "      <td>2018-10-27 15:28:02</td>\n",
       "      <td>Corporate Office - Phoenix 1</td>\n",
       "    </tr>\n",
       "    <tr>\n",
       "      <th>3</th>\n",
       "      <td>Madeline Richter</td>\n",
       "      <td>3 - Moderate</td>\n",
       "      <td>New</td>\n",
       "      <td>Allscripts || Unable to see any patients chart...</td>\n",
       "      <td>DH-BNI Informatics</td>\n",
       "      <td>Security</td>\n",
       "      <td>0.0</td>\n",
       "      <td>NaN</td>\n",
       "      <td>NaN</td>\n",
       "      <td>NaN</td>\n",
       "      <td>Application ID Issue</td>\n",
       "      <td>Phone</td>\n",
       "      <td>2018-10-29 08:20:20</td>\n",
       "      <td>St Joseph's Hospital and Medical Center (SJHMC)</td>\n",
       "    </tr>\n",
       "    <tr>\n",
       "      <th>4</th>\n",
       "      <td>OMI Integration Service</td>\n",
       "      <td>4 - Low</td>\n",
       "      <td>New</td>\n",
       "      <td>'bni-aio-001.chw.edu': Utilization is '85.17'....</td>\n",
       "      <td>DH-BNI Informatics</td>\n",
       "      <td>Server</td>\n",
       "      <td>0.0</td>\n",
       "      <td>NaN</td>\n",
       "      <td>NaN</td>\n",
       "      <td>NaN</td>\n",
       "      <td>bni-aio-001</td>\n",
       "      <td>Event</td>\n",
       "      <td>2018-11-05 15:00:47</td>\n",
       "      <td>Corporate Office - Phoenix 1</td>\n",
       "    </tr>\n",
       "  </tbody>\n",
       "</table>\n",
       "</div>"
      ],
      "text/plain": [
       "                  Customer      Priority State  \\\n",
       "0           Rebecca Borghi       4 - Low   New   \n",
       "1           Logan McDaniel       4 - Low   New   \n",
       "2  OMI Integration Service      2 - High   New   \n",
       "3         Madeline Richter  3 - Moderate   New   \n",
       "4  OMI Integration Service       4 - Low   New   \n",
       "\n",
       "                                   Short description  \\\n",
       "0  Access DH: Dominican facility not available as...   \n",
       "1  ECF update for Location Change for Burns, Josh...   \n",
       "2  'mmc-vint-017.chw.edu': Ping packet good perce...   \n",
       "3  Allscripts || Unable to see any patients chart...   \n",
       "4  'bni-aio-001.chw.edu': Utilization is '85.17'....   \n",
       "\n",
       "               Assignment group     Category  Child Incidents Close notes  \\\n",
       "0              DH-GSSAPACSAdmin  Application              0.0         NaN   \n",
       "1             DHE-HR Technology  Application              0.0         NaN   \n",
       "2  DHE-Server Build Engineering       Server              0.0         NaN   \n",
       "3            DH-BNI Informatics     Security              0.0         NaN   \n",
       "4            DH-BNI Informatics       Server              0.0         NaN   \n",
       "\n",
       "  Close code Closure CI                               Configuration item  \\\n",
       "0        NaN        NaN                            Access Dignity Health   \n",
       "1        NaN        NaN  Lawson Employee and Manager Self Service 10.0.7   \n",
       "2        NaN        NaN                                     mmc-vint-017   \n",
       "3        NaN        NaN                             Application ID Issue   \n",
       "4        NaN        NaN                                      bni-aio-001   \n",
       "\n",
       "  Contact type             Created  \\\n",
       "0        Phone 2018-10-25 15:22:02   \n",
       "1        Phone 2018-10-31 00:36:25   \n",
       "2        Event 2018-10-27 15:28:02   \n",
       "3        Phone 2018-10-29 08:20:20   \n",
       "4        Event 2018-11-05 15:00:47   \n",
       "\n",
       "                                          Location  \n",
       "0                         Dominican Hospital (DSC)  \n",
       "1      St Rose Dominican Hospital - Siena (SRDH-S)  \n",
       "2                     Corporate Office - Phoenix 1  \n",
       "3  St Joseph's Hospital and Medical Center (SJHMC)  \n",
       "4                     Corporate Office - Phoenix 1  "
      ]
     },
     "execution_count": 3,
     "metadata": {},
     "output_type": "execute_result"
    }
   ],
   "source": [
    "df.head()"
   ]
  },
  {
   "cell_type": "code",
   "execution_count": 42,
   "metadata": {},
   "outputs": [
    {
     "data": {
      "text/plain": [
       "End User Services    22410\n",
       "Application          20651\n",
       "Security             17171\n",
       "Server               12687\n",
       "Network               7831\n",
       "HelpDesk              5169\n",
       "EAI Interface         3028\n",
       "Telecom               2832\n",
       "Human Resources       1224\n",
       "Name: Category, dtype: int64"
      ]
     },
     "execution_count": 42,
     "metadata": {},
     "output_type": "execute_result"
    }
   ],
   "source": [
    "#Filter out some categories with instances <1000 for now , remove this filter in future\n",
    "df1 = df.groupby(\"Category\").filter(lambda x: len(x) >1000)\n",
    "df1 = df1.reset_index(drop =True)\n",
    "df1.Category.value_counts()"
   ]
  },
  {
   "cell_type": "code",
   "execution_count": 53,
   "metadata": {
    "collapsed": true
   },
   "outputs": [],
   "source": [
    "\n",
    "df1['newtext'] = df1.Short_description.map(str) +' '+ df1.Location.map(str)+' '+ df1.Customer.map(str)\n",
    "#+' '+ df1.Contact_type.map(str)\n",
    "# Can join other features since we need to just do clustering for now"
   ]
  },
  {
   "cell_type": "code",
   "execution_count": 63,
   "metadata": {
    "collapsed": true
   },
   "outputs": [],
   "source": [
    "#NLTK text preprocessor ---\n",
    "#todo :try Spacy\n",
    "\n",
    "stop = stopwords.words('english')\n",
    "lemmer=WordNetLemmatizer()\n",
    "\n",
    "#extend stop words\n",
    "newStopWords = ['chw','edu','phx','vapp']\n",
    "stop.extend(newStopWords)\n",
    "\n",
    "#POS tagging(not used)\n",
    "def strip_proppers_POS(text):\n",
    "    tagged = pos_tag(text.split()) #use NLTK's part of speech tagger\n",
    "    non_propernouns = [word for word,pos in tagged if pos != 'NNP' and pos != 'NNPS']\n",
    "    return non_propernouns\n",
    "\n",
    "def pre_process(X):\n",
    "    pat = r'[^A-Za-z ]+'\n",
    "    X = X.str.replace(pat, ' ',regex=True)\n",
    "    X = X.apply(lambda x: ' '.join([word for word in x.split() if word not in (stop)]))   #stop\n",
    "    X = X.apply(lambda x: ' '.join([lemmer.lemmatize(word) for word in x.split()]))       #lemma\n",
    "    X = X.apply(lambda x: ' '.join([word for word in x.split() if len(word) > 1 ]))  #length >1\n",
    "   #X = X.apply(lambda x: ' '.join([word for word,pos in pos_tag(x.split()) if pos != 'NNP' and pos != 'NNPS']))\n",
    "\n",
    "    return X\n"
   ]
  },
  {
   "cell_type": "code",
   "execution_count": 64,
   "metadata": {
    "collapsed": true
   },
   "outputs": [],
   "source": [
    "X2 = pre_process(df1['newtext'])"
   ]
  },
  {
   "cell_type": "code",
   "execution_count": 46,
   "metadata": {
    "collapsed": true
   },
   "outputs": [],
   "source": [
    "# define a tokenizer which returns the set of tokens in the text that it is passed\n",
    "\n",
    "\n",
    "def tokenize_only(text):\n",
    "    # tokenize by  word \n",
    "    tokens = [word.lower() for word in nltk.word_tokenize(text) ]\n",
    "    filtered_tokens = []\n",
    "    # filter out any tokens not containing letters (e.g., numeric tokens, raw punctuation)\n",
    "    for token in tokens:\n",
    "        if re.search('[a-zA-Z]', token):\n",
    "            filtered_tokens.append(token)\n",
    "    return filtered_tokens"
   ]
  },
  {
   "cell_type": "markdown",
   "metadata": {
    "collapsed": true
   },
   "source": [
    "#  tf-idf"
   ]
  },
  {
   "cell_type": "code",
   "execution_count": 99,
   "metadata": {},
   "outputs": [
    {
     "name": "stdout",
     "output_type": "stream",
     "text": [
      "Wall time: 32.1 s\n",
      "(95373, 10000)\n"
     ]
    }
   ],
   "source": [
    "from sklearn.feature_extraction.text import TfidfVectorizer\n",
    "\n",
    "tfidf_vectorizer = TfidfVectorizer( max_features=10000,max_df=0.9,min_df=0.0001,                                  \n",
    "                                  use_idf=True, tokenizer=tokenize_only, ngram_range=(1,3))\n",
    "\n",
    "%time tfidf_matrix = tfidf_vectorizer.fit_transform(X2.values.astype('U'))\n",
    "\n",
    "print(tfidf_matrix.shape)"
   ]
  },
  {
   "cell_type": "code",
   "execution_count": 101,
   "metadata": {
    "scrolled": false
   },
   "outputs": [
    {
     "name": "stdout",
     "output_type": "stream",
     "text": [
      "['access transaction', 'access transaction failed', 'access user', 'access user id', 'access user name', 'access username', 'access website', 'access without', 'access without issue', 'account able', 'account able access', 'account able login', 'account account', 'account account lock', 'account account locked', 'account activated', 'account activated issue', 'account activation', 'account active', 'account created', 'account creation', 'account customer', 'account customer able', 'account customer unable', 'account disabled', 'account disabled user', 'account disablement', 'account enable', 'account enable ms', 'account enabled', 'account enabled able', 'account expired', 'account first', 'account first time', 'account getting', 'account hduv', 'account hduv done', 'account issue', 'account issue account', 'account issue fixed', 'account issue need', 'account issue resolved', 'account issue unable', 'account issue user', 'account lock', 'account lock job', 'account lock network', 'account lock not', 'account lock nt', 'account lock unable', 'account lock unlocked', 'account lock user', 'account lock username', 'account locked', 'account locked enabled', 'account locked ii', 'account locked network', 'account locked unlocked', 'account locked user', 'account locked userid', 'account locked username', 'account login', 'account login issue', 'account ms', 'account need', 'account need activate', 'account need password', 'account needs', 'account network', 'account network account', 'account number', 'account password', 'account password reset', 'account pss', 'account resolved', 'account resolved hold', 'account unable', 'account unable login', 'account unlock', 'account unlocked', 'account unlocked able', 'account unlocked customer', 'account unlocked issue', 'account unlocked user', 'account user', 'account user able', 'account user id', 'account username', 'ack affected', 'ack affected items', 'acknowledge enup', 'acknowledge issue', 'acknowledge nup', 'acknowledge nup issue', 'acknowledge nup user', 'acknowledge user', 'acknowledge username', 'acknowledged nup', 'acknowledging enup', 'action required', 'action taken', 'action taken thank', 'activate account', 'activate account customer', 'activate account issue', 'activate account user', 'activate duo', 'activate issue', 'activate issue resolved', 'activate new', 'activate send', 'activate send activation', 'activated account', 'activated issue', 'activated issue resolved', 'activation code', 'activation link', 'activation link account', 'activation link customer', 'activation link instruction', 'activation link issue', 'activation link sent', 'activation link user', 'activation link username', 'activation sms', 'activation sms guided', 'activation user', 'activation user id', 'active job', 'active job completed', 'active na', 'active na user', 'active transcript', 'active transcript remediation', 'active user', 'active user logged', 'active yes', 'active yes user', 'activity downtime', 'activity downtime monitoring', 'activity messages', 'activity messages crossing', 'ad group', 'adapter log', 'adapter log messages', 'add new', 'add printer', 'added number', 'added phone', 'added printer', 'added user', 'additional info', 'additional info timing', 'address range', 'address range allocated', 'adh request', 'adh unable', 'admin access', 'admin credential', 'admin mdf', 'admin mdf main', 'admin right', 'admin right install', 'admin right issue', 'admin right need', 'admin right user', 'admin rights', 'admin team', 'admission account', 'admitting loc', 'adt allergy', 'adt interface', 'adt issue', 'adt issue cause', 'adt nitiate', 'adt nitiate identity', 'adt orders', 'adt source', 'adt source ini', 'adt st', 'advise user', 'advised user', 'affect patient', 'affect patient care', 'affected facilities', 'affected facilities dhmf', 'affected facilities msjmc', 'affected facilities users', 'affected items', 'affected items systems', 'affected resolution', 'affected resolution smud', 'affected systems', 'affected systems powerchart', 'affected user', 'affected user name', 'affected users', 'affected users name', 'after downtime', 'after downtime completed']\n"
     ]
    }
   ],
   "source": [
    "#Get the ngram features before doing k-means\n",
    "#filter out unnecessary terms and add to stop words\n",
    "terms = tfidf_vectorizer.get_feature_names()\n",
    "print(terms[150:350])"
   ]
  },
  {
   "cell_type": "code",
   "execution_count": null,
   "metadata": {
    "collapsed": true
   },
   "outputs": [],
   "source": [
    "df1.shape"
   ]
  },
  {
   "cell_type": "markdown",
   "metadata": {},
   "source": [
    "# kmeans"
   ]
  },
  {
   "cell_type": "code",
   "execution_count": 102,
   "metadata": {},
   "outputs": [
    {
     "name": "stdout",
     "output_type": "stream",
     "text": [
      "Wall time: 1.39 s\n"
     ]
    }
   ],
   "source": [
    "#Mini Batch K means\n",
    "from sklearn.cluster import MiniBatchKMeans\n",
    "num_clusters = 50\n",
    "km = MiniBatchKMeans(n_clusters=num_clusters, init='k-means++', n_init=3,init_size=3000, batch_size=1000)\n",
    "%time km.fit(tfidf_matrix)\n",
    "clusters = km.labels_.tolist()"
   ]
  },
  {
   "cell_type": "code",
   "execution_count": 118,
   "metadata": {
    "collapsed": true
   },
   "outputs": [],
   "source": [
    "#Save cluster in pickle file for future use\n",
    "import pickle\n",
    "\n",
    "pickle.dump(km, open('pkl/km_1.pkl', 'wb'))"
   ]
  },
  {
   "cell_type": "code",
   "execution_count": 103,
   "metadata": {
    "scrolled": true
   },
   "outputs": [
    {
     "name": "stdout",
     "output_type": "stream",
     "text": [
      "Cluster 0: soh edu, sonifi health, connect socket, unable connect socket, health tier, application unable connect, point application unable, socket timeout, application unable, end point application, point application, thrown end point, end point, error thrown end, thrown end, socket timeout keep, alive error thrown, realtime socket, realtime socket timeout, timeout keep alive,\n",
      "Cluster 1: hduv passed user, passed user able, passed user, login hduv passed, hduv passed, unable login hduv, login hduv, reset network unable, password reset network, network unable login, network password reset, network unable, reset network, network password, user able login, user able, enup active, user logged successfully, logged successfully, user logged,\n",
      "Cluster 2: close yes inventory, yes inventory updated, yes inventory, close yes, customer approval, approval close yes, customer approval close, approval close, affected user name, affected user, user name, inventory updated, device name, inventory updated yes, updated yes, user name multi, name multi, multi user, multi user customer, name multi user,\n",
      "Cluster 3: network account, account locked user, locked user, locked user id, network account locked, account locked, unlocked account issue, unlocked account, account issue resolved, account issue, user id, network account lock, account lock, lock network account, lock network, account lock network, resolved hold kb, issue resolved hold, resolved hold, hold kb,\n",
      "Cluster 4: vprt chw, vprt chw edu, phx vprt chw, phx vprt, chw edu cpu, edu cpu utilization, edu cpu, utilization closed, set utilization closed, utilization closed caller, threshold set utilization, set utilization, cpu utilization threshold, cpu utilization, utilization threshold set, threshold set, utilization threshold, chw edu, closed caller, sjw vprt,\n",
      "Cluster 5: incident chg, phx sql, closed caller, zother standard application, get article, get account, get access, generic username password, generic username, generic user name, generic user, generic credential, get enrolled, generator test rounding, generator test crmc, generator test, generated due scheduled, generated due, general printer issue, general printer,\n",
      "Cluster 6: desktop laptop computer, laptop computer, desktop laptop, laptop computer issue, computer issue, helpdesk desktop, helpdesk desktop laptop, zother desktop laptop, zother desktop, computer issue helpdesk, issue helpdesk desktop, issue helpdesk, computer issue device, issue device, issue device name, device name, inventory updated, inventory updated yes, updated yes, hence closing ticket,\n",
      "Cluster 7: fingerprint database, overdue closed caller, overdue closed, backup overdue closed, backup overdue, database backup overdue, database backup, fingerprint database backup, closed caller, fingerprint database log, log backup overdue, database log backup, database log, log backup, store database backup, store database, vault store database, vault store, login password incorrect, password incorrect user,\n",
      "Cluster 8: cerner physician issue, physician issue, cerner physician, physician issue cerner, issue cerner physician, issue cerner, access dh request, dh request, access dh, careb cerner, issue end, need contact, configuration item, issue cause, affected facilities users, facilities users, customer verification, affected facilities, user need, base article document,\n",
      "Cluster 9: able login, able login account, account locked, locked userid, account locked userid, login account locked, login account, not able login, network not able, network not, not able, customer able login, locked enabled account, account locked enabled, locked enabled, customer able, enabled account, enabled account customer, login computer account, computer account locked,\n",
      "Cluster 10: issue resolved, unable login, dev id, user id, device name, able login, hold kb, inventory updated, password reset, took remote, device id, resolved hold, issue resolved hold, resolved hold kb, closing ticket, user able, closed caller, nmscust chw, kb yes, application issue,\n",
      "Cluster 11: since last hour, bgp stable since, bgp stable, stable since last, stable since, since last, hour minute, last hour, minute incident, minute incident inc, incident bgp, parent incident bgp, mdf edc, dhmf ap mdf, mmg ap not, mmg ap, midtown dhmf ap, midtown dhmf, mdf midtown dhmf, wc mdf midtown,\n",
      "Cluster 12: desktop issue, other desktop issue, other desktop, desktop issue other, issue other desktop, issue other, desktop issue device, issue device, issue device name, device name, inventory updated, updated yes, inventory updated yes, affected user name, affected user, user name, yes inventory, close yes inventory, yes inventory updated, customer approval,\n",
      "Cluster 13: disk file, threshold set disk, set disk, set disk file, disk file system, percent full, file system, edu utilization, chw edu utilization, edu utilization threshold, file system percent, system percent, system percent full, full closed caller, full closed, percent full closed, utilization threshold set, threshold set, utilization threshold, chw edu,\n",
      "Cluster 14: printer mapped, mapping user, printer mapping, user called, mapped dev id, mapped dev, mapped printer, printer id, dev id, issue resolved hold, resolved hold, issue resolved, standard application issue, standard application, application issue, issue helpdesk standard, zother standard, zother standard application, helpdesk standard application, helpdesk standard,\n",
      "Cluster 15: network account, network account locked, network account lock, account lock, unlocked account, account locked user, locked user id, lock network account, lock network, account lock network, locked user, account locked, unlocked account issue, account issue resolved, account issue, user id, issue resolved, unlocked account user, issue resolved kb, resolved kb,\n",
      "Cluster 16: help desk, initial incident inc, your initial incident, initial incident, inc closed reclassified, your initial, closed reclassified, reclassified new, reclassified new request, closed reclassified new, new request req, support team, new request, request req, clinical application issue, clinical application, urgent issue, service request, it help, application issue,\n",
      "Cluster 17: level check, hs cp, hscp qry, error level, level check error, msgw due level, process took dump, to complete process, object error level, error level check, level check file, due level check, due level, process took, complete process took, check file hs, check error affected, file hs, ignore hence good, librr to,\n",
      "Cluster 18: users st joseph, region sjssjm engine, region sjssjm, facility region sjssjm, sjssjm engine, medical center stockton, center stockton, joseph medical center, na resolution skipped, st joseph medical, joseph medical, medseries tier, resolution skipped, cxn utilities, facilities users st, users st, st joseph, cxn effort min, cxn effort, engine cxn effort,\n",
      "Cluster 19: mapped drive, drive mapping, drive issue resolved, access drive, drive issue, customer able access, customer able, able access, map drive, drive mapped, resolved customer wanted, dev id, customer wanted, no kb no, issue resolved customer, resolved customer, kb no, issue resolved, resolved hold no, hold no kb,\n",
      "Cluster 20: smart ups, ups rt, smart ups rt, ups rt xl, rt xl, communication lost, lost link status, lost link, communication lost link, link status, qs nberrorcond, closed caller, status qs, status qs nberrorcond, link status qs, nberrorcond closed, nberrorcond closed caller, qs nberrorcond closed, device alarm, xl main,\n",
      "Cluster 21: kyocera printer issue, kyocera printer, printer issue, printer issue kyocera, issue kyocera printer, issue kyocera, printer issue device, printer issue replaced, issue replaced, tested ok, issue device, issue device name, inventory updated, device name, end user, replaced fuser, check end user, driver inventory, check end, inventory updated yes,\n",
      "Cluster 22: approval close, customer approval close, affected user, affected user name, customer approval, user name, approval close yes, close yes, phone phone, phone issue, issue resolution, phone phone issue, phone issue resolution, resolution replaced, issue resolution replaced, phone affected user, phone affected, ok affected user, ok affected, phone working,\n",
      "Cluster 23: inventory updated yes, inventory updated, updated yes, device name, notification text, amcore date, text amcore date, text amcore, notification text amcore, resolution replaced, resolution installed, resolution rounding, resolution updated, issue device, issue device name, dev id, device id, resolution added, workstation wheels, wow workstation wheels,\n",
      "Cluster 24: cis mix, mix source, mix millennium suite, mix millennium, thrown end point, end point, thrown end, error thrown end, realtime socket timeout, realtime socket, alive error thrown, error thrown, timeout keep alive, socket timeout keep, timeout keep, source realtime socket, keep alive, keep alive error, alive error, socket timeout,\n",
      "Cluster 25: unable login ms, user unable login, login ms, user unable, ms user, unable login, end user resolved, user resolved, end user, is nberrorcond, device alarm, ups rt xl, rt xl, ups rt, smart ups rt, smart ups, closed caller, resolved user, get error, gif cce,\n",
      "Cluster 26: cis mix, currently running, mix millennium suite, mix millennium, mix source, end point application, point application, thrown end point, end point, thrown end, error thrown end, source realtime socket, socket timeout keep, alive error thrown, error thrown, realtime socket timeout, timeout keep alive, realtime socket, timeout keep, keep alive error,\n",
      "Cluster 27: able login vpn, login vpn, vpn certificate, access customer, customer call back, customer call, back hold kb, call back hold, back hold, able login, call back, dev id, hold kb, help desk, service request, it help, help desk analyst, desk analyst, urgent issue, strike process from,\n",
      "Cluster 28: needs one time, needs one, one time boot, time boot, one time, login needs one, encryption not able, encryption not, boot customer, time boot customer, boot customer able, able login needs, able login, login needs, able login computer, not able login, login computer, not able, boot done one, done one time,\n",
      "Cluster 29: there process, chw edu there, edu there process, edu there, running closed caller, running closed, process service called, there process service, service called, process service, chw edu, closed caller, process process called, process called, there process process, process process, service running closed, service running, phx vapp chw, phx vapp,\n",
      "Cluster 30: pc monitor keyboard, monitor keyboard mouse, monitor keyboard, pc monitor, keyboard mouse, mouse pc, mouse pc monitor, keyboard mouse pc, keyboard mouse issue, mouse issue, mouse issue device, issue device, issue device name, device name, inventory updated, inventory updated cg, updated cg, inventory updated no, updated no, docking station,\n",
      "Cluster 31: pc monitor keyboard, monitor keyboard mouse, monitor keyboard, pc monitor, keyboard mouse, mouse issue device, mouse pc monitor, keyboard mouse pc, mouse pc, keyboard mouse issue, mouse issue, issue device, issue device name, inventory updated yes, updated yes, inventory updated, device name, yes inventory, close yes inventory, yes inventory updated,\n",
      "Cluster 32: uma company missing, company missing, uma company, oct mst, oct mst exists, mst exists, ou users, requester cn, users chwidv, ou users chwidv, reach customer, human error, medical group, future open, generic username password, get article, get account, get access, full duplicate, full error,\n",
      "Cluster 33: utilization closed caller, utilization closed, set utilization closed, cpu utilization threshold, set utilization, threshold set utilization, edu cpu, chw edu cpu, edu cpu utilization, cpu utilization, utilization threshold set, threshold set, utilization threshold, chw edu, closed caller, vapp chw edu, vapp chw, phx vapp chw, phx vapp, chwemadm chw edu,\n",
      "Cluster 34: need change, data error data, error data, closing ticket customer, root cause data, data error, cause data error, cause data, ticket customer verification, ms phxasp unable, ticket customer, phxasp unable, ms phxasp, non dayend root, category non dayend, non dayend, category non, hence closing ticket, hence closing, dayend root,\n",
      "Cluster 35: get error, approval close yes, close yes, customer approval close, approval close, customer approval, affected user name, affected user, user name, unable login uid, login uid, network account unable, account unable login, account unable, unlocked account, network account, unlocked account network, account network account, account network, unable login,\n",
      "Cluster 36: login phxasp user, unable login phxasp, ms account lock, phxasp user id, login phxasp, phxasp user, account lock unable, lock unable login, lock unable, ms account, account lock, time hold, issue resolved tt, resolved tt, multiple time, unable login, user id, unlocked account issue, account issue resolved, account issue,\n",
      "Cluster 37: circuit bounced recovered, main seq, bounced recovered, now stable, circuit bounced, bgp peer, bgp peer not, peer not established, peer not, peer bgp peer, peer bgp, not established, nmscust chw cr, chw cr, nmscust chw, chw cr mdf, cr mdf, cr mdf main, master nmscust chw, master nmscust,\n",
      "Cluster 38: low humidity qa, low humidity, humidity qa, too low humidity, humidity qa nberrorcond, nbwl netbotz value, value too low, too low, netbotz value too, netbotz value, qa nberrorcond, nbwl netbotz, value too, closed caller, nberrorcond closed caller, nberrorcond closed, nbrk netbotz value, qa bc nberrorcond, bc nberrorcond, qa bc,\n",
      "Cluster 39: user unable, encryption user, drive encryption, user name password, name password, performed one time, performed one, yes hold no, resolved kb yes, one time boot, time boot, one time, kb yes hold, issue resolved kb, resolved kb, yes hold, hold no, user name, kb yes, issue resolved,\n",
      "Cluster 40: help desk, urgent issue, it help, service request, support team, inc closed reclassified, reclassified new, closed reclassified, closed reclassified new, reclassified new request, new request req, new request, request req, initial incident inc, initial incident, your initial incident, your initial, desk analyst, help desk analyst, immediate response note,\n",
      "Cluster 41: okay close, close ticket, reset network unable, hduv passed user, passed user able, passed user, password reset network, login hduv passed, reset network, hduv passed, unable login hduv, login hduv, network password reset, network unable login, network password, network unable, close incident, user able login, date time, user able,\n",
      "Cluster 42: invision able login, invision able, able login, able login user, reset password customer, password customer able, password customer, done reset password, hduv done reset, done reset, login user id, login user, reset password, customer able login, hduv done, login issue resolved, customer able, able login issue, login issue, issue resolved invision,\n",
      "Cluster 43: login user id, login user, unable login user, unable login, user id, able login, network account, account customer, login issue resolved, able login issue, login issue, customer able login, issue resolved, customer able, unlocked account customer, account customer able, unlocked account, account unable, account unable login, resolved hold,\n",
      "Cluster 44: account locked userid, locked userid, network not able, network not, able login account, able login, account locked, login account locked, login account, not able login, not able, customer able login, customer able, login computer account, computer account locked, computer account, locked enabled account, account locked enabled, locked enabled, enabled account customer,\n",
      "Cluster 45: nurse call, resolution added, phone issue resolution, phone phone issue, phone phone, issue resolution, phone issue, approval close yes, close yes, customer approval close, approval close, customer approval, affected user name, affected user, user name, phx vint chw, phx vint, vint chw edu, vint chw, edu cpu,\n",
      "Cluster 46: internet connection, hospital bakersfield, loc mercy hospital, mercy hospital, loc mercy, device id, user id, resolution ran, inventory updated yes, updated yes, inventory updated, device name, generic credential, get access, generic username password, generic username, generic user name, generic user, generator test rounding, get article,\n",
      "Cluster 47: duration nil, nil resolution, outage duration nil, duration nil resolution, dayend root, dayend root cause, systems phxasp affected, systems phxasp, items systems phxasp, root cause, phxasp affected, phxasp affected facilities, customer verification no, verification no, category non dayend, non dayend, non dayend root, category non, outage duration, affected items systems,\n",
      "Cluster 48: help desk, click here, support team, portal create support, portal create, create support, create support ticket, support ticket, urgent issue, desktop laptop computer, laptop computer issue, laptop computer, desktop laptop, service request, it help, computer issue, email delete email, email may, delete email thank, email may privileged,\n",
      "Cluster 49: phx vapp chw, phx vapp, vapp chw edu, vapp chw, edu cpu, chw edu cpu, edu cpu utilization, utilization closed caller, utilization closed, set utilization closed, threshold set utilization, cpu utilization threshold, set utilization, cpu utilization, utilization threshold set, threshold set, utilization threshold, chw edu, closed caller, chsb vapp,\n",
      "(50, 2)\n"
     ]
    }
   ],
   "source": [
    "##Create mapping of ngram features into clusters, \n",
    "#save into terms map object with key as cluster name (first feature in each cluster)\n",
    "#terms = top 20 ngram features\n",
    "\n",
    "order_centroids = km.cluster_centers_.argsort()[:, ::-1]\n",
    "terms = tfidf_vectorizer.get_feature_names()\n",
    "terms_map = pd.DataFrame(index=np.arange(0, num_clusters),columns=['terms','key'])    \n",
    "for i in range(num_clusters):\n",
    "    print(\"Cluster %d:\" % i, end='')\n",
    "    #terms_map['key'] = i\n",
    "    list = [] \n",
    "    for ind in order_centroids[i, :20]:\n",
    "        print(' %s' % terms[ind], end=',')\n",
    "        list.append(terms[ind])\n",
    "    for ind2 in order_centroids[i, :1]:\n",
    "        terms_map.key.loc[i] = terms[ind2]\n",
    "\n",
    "    str = ', '.join(list) \n",
    "    terms_map.terms.loc[i] = str\n",
    "    print()\n",
    "print(terms_map.shape)"
   ]
  },
  {
   "cell_type": "code",
   "execution_count": 104,
   "metadata": {
    "collapsed": true,
    "scrolled": false
   },
   "outputs": [],
   "source": [
    "#Save Terms Map  to csv , terms = Key =first instance of \n",
    "terms_map.to_csv('terms_map01.csv')\n",
    "#print(terms_map)\n",
    "#MANUAL STEP\n",
    "#Update CSV : meaningful Cluster name for column 'key'. Index has cluster number\n",
    "#0 -> login \n"
   ]
  },
  {
   "cell_type": "markdown",
   "metadata": {},
   "source": [
    "#Terms Map CSV Manual Work\n",
    "#Key is the first instance of each term list, Manually update to make it meaningful\n",
    "\n",
    "             terms\t                                         key             (new) key\n",
    "0\tlogin user, login user id, login, unable login...\tlogin user      ---> login pwd \n",
    "1\tcerner, issue, unable, ms, id, login, user, ac...\tcerner          ---> cerner\n",
    "2\tdragon, dragon medical, dragon application iss...\tdragon          ---> application issue\n",
    "3\tphysician issue, cerner physician issue, cerne...\tphysician issue ---> cerner \n",
    "4\tjob completed, active job, completed exit, com...\tjob completed   ---> job status"
   ]
  },
  {
   "cell_type": "code",
   "execution_count": 86,
   "metadata": {
    "collapsed": true
   },
   "outputs": [],
   "source": [
    "#Read CSV again\n",
    "terms2=pd.read_csv('terms_map01.csv')\n",
    "#Convert Keys to Dict, with index mapped into cluster name\n",
    "dict2 = terms2.key.to_dict()\n"
   ]
  },
  {
   "cell_type": "code",
   "execution_count": 87,
   "metadata": {},
   "outputs": [
    {
     "data": {
      "text/html": [
       "<div>\n",
       "<style scoped>\n",
       "    .dataframe tbody tr th:only-of-type {\n",
       "        vertical-align: middle;\n",
       "    }\n",
       "\n",
       "    .dataframe tbody tr th {\n",
       "        vertical-align: top;\n",
       "    }\n",
       "\n",
       "    .dataframe thead th {\n",
       "        text-align: right;\n",
       "    }\n",
       "</style>\n",
       "<table border=\"1\" class=\"dataframe\">\n",
       "  <thead>\n",
       "    <tr style=\"text-align: right;\">\n",
       "      <th></th>\n",
       "      <th>Number</th>\n",
       "      <th>Assignment_group</th>\n",
       "      <th>Assigned_to</th>\n",
       "      <th>Priority</th>\n",
       "      <th>State</th>\n",
       "      <th>Customer</th>\n",
       "      <th>Category</th>\n",
       "      <th>Subcategory</th>\n",
       "      <th>Severity</th>\n",
       "      <th>Closure_CI</th>\n",
       "      <th>...</th>\n",
       "      <th>mon_nu</th>\n",
       "      <th>month</th>\n",
       "      <th>dom</th>\n",
       "      <th>week</th>\n",
       "      <th>week2</th>\n",
       "      <th>newtext</th>\n",
       "      <th>cluster</th>\n",
       "      <th>cluster1</th>\n",
       "      <th>cluster_name1</th>\n",
       "      <th>cluster_name</th>\n",
       "    </tr>\n",
       "  </thead>\n",
       "  <tbody>\n",
       "    <tr>\n",
       "      <th>0</th>\n",
       "      <td>INC0489304</td>\n",
       "      <td>DH-Enterprise IT Service Cntr</td>\n",
       "      <td>Anil Auluri</td>\n",
       "      <td>4 - Low</td>\n",
       "      <td>Closed</td>\n",
       "      <td>Suresh Kumar Manickavel</td>\n",
       "      <td>Security</td>\n",
       "      <td>NaN</td>\n",
       "      <td>3 - Low</td>\n",
       "      <td>Network Account Issue</td>\n",
       "      <td>...</td>\n",
       "      <td>10</td>\n",
       "      <td>October</td>\n",
       "      <td>14</td>\n",
       "      <td>2</td>\n",
       "      <td>2</td>\n",
       "      <td>Network Password Reset Network ||Unable to log...</td>\n",
       "      <td>14</td>\n",
       "      <td>4</td>\n",
       "      <td>login</td>\n",
       "      <td>login</td>\n",
       "    </tr>\n",
       "    <tr>\n",
       "      <th>1</th>\n",
       "      <td>INC0489303</td>\n",
       "      <td>DHE-Command Center</td>\n",
       "      <td>Irving Tryon</td>\n",
       "      <td>2 - High</td>\n",
       "      <td>Closed</td>\n",
       "      <td>OMI Integration Service</td>\n",
       "      <td>Server</td>\n",
       "      <td>Windows</td>\n",
       "      <td>3 - Low</td>\n",
       "      <td>phx-vapp-835</td>\n",
       "      <td>...</td>\n",
       "      <td>10</td>\n",
       "      <td>October</td>\n",
       "      <td>14</td>\n",
       "      <td>2</td>\n",
       "      <td>2</td>\n",
       "      <td>'10.248.100.25': Ping packet good percentage i...</td>\n",
       "      <td>44</td>\n",
       "      <td>41</td>\n",
       "      <td>socket issue</td>\n",
       "      <td>cerner</td>\n",
       "    </tr>\n",
       "    <tr>\n",
       "      <th>2</th>\n",
       "      <td>INC0489302</td>\n",
       "      <td>DHE-Command Center</td>\n",
       "      <td>Steven Calabro</td>\n",
       "      <td>3 - Moderate</td>\n",
       "      <td>Closed</td>\n",
       "      <td>OMI Integration Service</td>\n",
       "      <td>Server</td>\n",
       "      <td>Windows</td>\n",
       "      <td>3 - Low</td>\n",
       "      <td>phx-vprt-002</td>\n",
       "      <td>...</td>\n",
       "      <td>10</td>\n",
       "      <td>October</td>\n",
       "      <td>14</td>\n",
       "      <td>2</td>\n",
       "      <td>2</td>\n",
       "      <td>'phx-vprt-002.chw.edu':CPU Utilization is '100...</td>\n",
       "      <td>7</td>\n",
       "      <td>1</td>\n",
       "      <td>utilization</td>\n",
       "      <td>utilization</td>\n",
       "    </tr>\n",
       "    <tr>\n",
       "      <th>3</th>\n",
       "      <td>INC0489301</td>\n",
       "      <td>DH-Enterprise IT Service Cntr</td>\n",
       "      <td>Barsha Acharya</td>\n",
       "      <td>4 - Low</td>\n",
       "      <td>Closed</td>\n",
       "      <td>Cheryl Anthony</td>\n",
       "      <td>Application</td>\n",
       "      <td>NaN</td>\n",
       "      <td>3 - Low</td>\n",
       "      <td>Cerner Millennium FirstNet 2015.10.19</td>\n",
       "      <td>...</td>\n",
       "      <td>10</td>\n",
       "      <td>October</td>\n",
       "      <td>14</td>\n",
       "      <td>2</td>\n",
       "      <td>2</td>\n",
       "      <td>cerner||Unable to access the correct view|| ce...</td>\n",
       "      <td>37</td>\n",
       "      <td>25</td>\n",
       "      <td>access</td>\n",
       "      <td>access issue</td>\n",
       "    </tr>\n",
       "    <tr>\n",
       "      <th>4</th>\n",
       "      <td>INC0489300</td>\n",
       "      <td>DHE-Command Center</td>\n",
       "      <td>Steven Calabro</td>\n",
       "      <td>3 - Moderate</td>\n",
       "      <td>Closed</td>\n",
       "      <td>OMI Integration Service</td>\n",
       "      <td>Server</td>\n",
       "      <td>Windows</td>\n",
       "      <td>3 - Low</td>\n",
       "      <td>bmh-vapp-002</td>\n",
       "      <td>...</td>\n",
       "      <td>10</td>\n",
       "      <td>October</td>\n",
       "      <td>14</td>\n",
       "      <td>2</td>\n",
       "      <td>2</td>\n",
       "      <td>'bmh-vapp-002.chw.edu':CPU Utilization is '95'...</td>\n",
       "      <td>7</td>\n",
       "      <td>1</td>\n",
       "      <td>utilization</td>\n",
       "      <td>utilization</td>\n",
       "    </tr>\n",
       "  </tbody>\n",
       "</table>\n",
       "<p>5 rows × 34 columns</p>\n",
       "</div>"
      ],
      "text/plain": [
       "       Number               Assignment_group     Assigned_to      Priority  \\\n",
       "0  INC0489304  DH-Enterprise IT Service Cntr     Anil Auluri       4 - Low   \n",
       "1  INC0489303             DHE-Command Center    Irving Tryon      2 - High   \n",
       "2  INC0489302             DHE-Command Center  Steven Calabro  3 - Moderate   \n",
       "3  INC0489301  DH-Enterprise IT Service Cntr  Barsha Acharya       4 - Low   \n",
       "4  INC0489300             DHE-Command Center  Steven Calabro  3 - Moderate   \n",
       "\n",
       "    State                 Customer     Category Subcategory Severity  \\\n",
       "0  Closed  Suresh Kumar Manickavel     Security         NaN  3 - Low   \n",
       "1  Closed  OMI Integration Service       Server     Windows  3 - Low   \n",
       "2  Closed  OMI Integration Service       Server     Windows  3 - Low   \n",
       "3  Closed           Cheryl Anthony  Application         NaN  3 - Low   \n",
       "4  Closed  OMI Integration Service       Server     Windows  3 - Low   \n",
       "\n",
       "                              Closure_CI      ...      mon_nu    month dom  \\\n",
       "0                  Network Account Issue      ...          10  October  14   \n",
       "1                           phx-vapp-835      ...          10  October  14   \n",
       "2                           phx-vprt-002      ...          10  October  14   \n",
       "3  Cerner Millennium FirstNet 2015.10.19      ...          10  October  14   \n",
       "4                           bmh-vapp-002      ...          10  October  14   \n",
       "\n",
       "   week week2                                            newtext  cluster  \\\n",
       "0     2     2  Network Password Reset Network ||Unable to log...       14   \n",
       "1     2     2  '10.248.100.25': Ping packet good percentage i...       44   \n",
       "2     2     2  'phx-vprt-002.chw.edu':CPU Utilization is '100...        7   \n",
       "3     2     2  cerner||Unable to access the correct view|| ce...       37   \n",
       "4     2     2  'bmh-vapp-002.chw.edu':CPU Utilization is '95'...        7   \n",
       "\n",
       "  cluster1 cluster_name1  cluster_name  \n",
       "0        4         login         login  \n",
       "1       41  socket issue        cerner  \n",
       "2        1   utilization   utilization  \n",
       "3       25        access  access issue  \n",
       "4        1   utilization   utilization  \n",
       "\n",
       "[5 rows x 34 columns]"
      ]
     },
     "execution_count": 87,
     "metadata": {},
     "output_type": "execute_result"
    }
   ],
   "source": [
    "#dataframe add new column 'cluster' for the cluster numbers (int)\n",
    "df1['cluster'] = km.labels_\n",
    "#dataframe map integer 'cluster' into text label 'cluster_name' using dict mapping (0->login)\n",
    "df1['cluster_name'] = df1['cluster'].map(dict2)\n",
    "\n",
    "df1.head()"
   ]
  },
  {
   "cell_type": "markdown",
   "metadata": {
    "collapsed": true
   },
   "source": [
    "##\n",
    "Experiments \n",
    "\n",
    "Clustering by Contact Type -  Seperate event and non events and cluster them seperately\n",
    "or Clustering by categories ?"
   ]
  },
  {
   "cell_type": "markdown",
   "metadata": {},
   "source": [
    "#Security - Top terms"
   ]
  },
  {
   "cell_type": "code",
   "execution_count": 117,
   "metadata": {},
   "outputs": [
    {
     "data": {
      "text/html": [
       "<div>\n",
       "<style scoped>\n",
       "    .dataframe tbody tr th:only-of-type {\n",
       "        vertical-align: middle;\n",
       "    }\n",
       "\n",
       "    .dataframe tbody tr th {\n",
       "        vertical-align: top;\n",
       "    }\n",
       "\n",
       "    .dataframe thead th {\n",
       "        text-align: right;\n",
       "    }\n",
       "</style>\n",
       "<table border=\"1\" class=\"dataframe\">\n",
       "  <thead>\n",
       "    <tr style=\"text-align: right;\">\n",
       "      <th></th>\n",
       "      <th>terms</th>\n",
       "      <th>key</th>\n",
       "    </tr>\n",
       "  </thead>\n",
       "  <tbody>\n",
       "    <tr>\n",
       "      <th>0</th>\n",
       "      <td>login user, login user id, login, unable login...</td>\n",
       "      <td>login user</td>\n",
       "    </tr>\n",
       "    <tr>\n",
       "      <th>1</th>\n",
       "      <td>cerner, issue, unable, ms, id, login, user, ac...</td>\n",
       "      <td>cerner</td>\n",
       "    </tr>\n",
       "    <tr>\n",
       "      <th>2</th>\n",
       "      <td>dragon, dragon medical, dragon application iss...</td>\n",
       "      <td>dragon</td>\n",
       "    </tr>\n",
       "    <tr>\n",
       "      <th>3</th>\n",
       "      <td>physician issue, cerner physician issue, cerne...</td>\n",
       "      <td>physician issue</td>\n",
       "    </tr>\n",
       "    <tr>\n",
       "      <th>4</th>\n",
       "      <td>job completed, active job, completed exit, com...</td>\n",
       "      <td>job completed</td>\n",
       "    </tr>\n",
       "  </tbody>\n",
       "</table>\n",
       "</div>"
      ],
      "text/plain": [
       "                                               terms              key\n",
       "0  login user, login user id, login, unable login...       login user\n",
       "1  cerner, issue, unable, ms, id, login, user, ac...           cerner\n",
       "2  dragon, dragon medical, dragon application iss...           dragon\n",
       "3  physician issue, cerner physician issue, cerne...  physician issue\n",
       "4  job completed, active job, completed exit, com...    job completed"
      ]
     },
     "execution_count": 117,
     "metadata": {},
     "output_type": "execute_result"
    }
   ],
   "source": [
    "terms_map.head()"
   ]
  },
  {
   "cell_type": "code",
   "execution_count": 61,
   "metadata": {},
   "outputs": [
    {
     "ename": "KeyboardInterrupt",
     "evalue": "",
     "output_type": "error",
     "traceback": [
      "\u001b[1;31m---------------------------------------------------------------------------\u001b[0m",
      "\u001b[1;31mKeyboardInterrupt\u001b[0m                         Traceback (most recent call last)",
      "\u001b[1;32m<timed eval>\u001b[0m in \u001b[0;36m<module>\u001b[1;34m()\u001b[0m\n",
      "\u001b[1;32m~\\AppData\\Local\\Continuum\\anaconda2\\envs\\py36\\lib\\site-packages\\sklearn\\cluster\\k_means_.py\u001b[0m in \u001b[0;36mfit\u001b[1;34m(self, X, y)\u001b[0m\n\u001b[0;32m    894\u001b[0m                 \u001b[0mtol\u001b[0m\u001b[1;33m=\u001b[0m\u001b[0mself\u001b[0m\u001b[1;33m.\u001b[0m\u001b[0mtol\u001b[0m\u001b[1;33m,\u001b[0m \u001b[0mrandom_state\u001b[0m\u001b[1;33m=\u001b[0m\u001b[0mrandom_state\u001b[0m\u001b[1;33m,\u001b[0m \u001b[0mcopy_x\u001b[0m\u001b[1;33m=\u001b[0m\u001b[0mself\u001b[0m\u001b[1;33m.\u001b[0m\u001b[0mcopy_x\u001b[0m\u001b[1;33m,\u001b[0m\u001b[1;33m\u001b[0m\u001b[0m\n\u001b[0;32m    895\u001b[0m                 \u001b[0mn_jobs\u001b[0m\u001b[1;33m=\u001b[0m\u001b[0mself\u001b[0m\u001b[1;33m.\u001b[0m\u001b[0mn_jobs\u001b[0m\u001b[1;33m,\u001b[0m \u001b[0malgorithm\u001b[0m\u001b[1;33m=\u001b[0m\u001b[0mself\u001b[0m\u001b[1;33m.\u001b[0m\u001b[0malgorithm\u001b[0m\u001b[1;33m,\u001b[0m\u001b[1;33m\u001b[0m\u001b[0m\n\u001b[1;32m--> 896\u001b[1;33m                 return_n_iter=True)\n\u001b[0m\u001b[0;32m    897\u001b[0m         \u001b[1;32mreturn\u001b[0m \u001b[0mself\u001b[0m\u001b[1;33m\u001b[0m\u001b[0m\n\u001b[0;32m    898\u001b[0m \u001b[1;33m\u001b[0m\u001b[0m\n",
      "\u001b[1;32m~\\AppData\\Local\\Continuum\\anaconda2\\envs\\py36\\lib\\site-packages\\sklearn\\cluster\\k_means_.py\u001b[0m in \u001b[0;36mk_means\u001b[1;34m(X, n_clusters, init, precompute_distances, n_init, max_iter, verbose, tol, random_state, copy_x, n_jobs, algorithm, return_n_iter)\u001b[0m\n\u001b[0;32m    344\u001b[0m                 \u001b[0mX\u001b[0m\u001b[1;33m,\u001b[0m \u001b[0mn_clusters\u001b[0m\u001b[1;33m,\u001b[0m \u001b[0mmax_iter\u001b[0m\u001b[1;33m=\u001b[0m\u001b[0mmax_iter\u001b[0m\u001b[1;33m,\u001b[0m \u001b[0minit\u001b[0m\u001b[1;33m=\u001b[0m\u001b[0minit\u001b[0m\u001b[1;33m,\u001b[0m \u001b[0mverbose\u001b[0m\u001b[1;33m=\u001b[0m\u001b[0mverbose\u001b[0m\u001b[1;33m,\u001b[0m\u001b[1;33m\u001b[0m\u001b[0m\n\u001b[0;32m    345\u001b[0m                 \u001b[0mprecompute_distances\u001b[0m\u001b[1;33m=\u001b[0m\u001b[0mprecompute_distances\u001b[0m\u001b[1;33m,\u001b[0m \u001b[0mtol\u001b[0m\u001b[1;33m=\u001b[0m\u001b[0mtol\u001b[0m\u001b[1;33m,\u001b[0m\u001b[1;33m\u001b[0m\u001b[0m\n\u001b[1;32m--> 346\u001b[1;33m                 x_squared_norms=x_squared_norms, random_state=random_state)\n\u001b[0m\u001b[0;32m    347\u001b[0m             \u001b[1;31m# determine if these results are the best so far\u001b[0m\u001b[1;33m\u001b[0m\u001b[1;33m\u001b[0m\u001b[0m\n\u001b[0;32m    348\u001b[0m             \u001b[1;32mif\u001b[0m \u001b[0mbest_inertia\u001b[0m \u001b[1;32mis\u001b[0m \u001b[1;32mNone\u001b[0m \u001b[1;32mor\u001b[0m \u001b[0minertia\u001b[0m \u001b[1;33m<\u001b[0m \u001b[0mbest_inertia\u001b[0m\u001b[1;33m:\u001b[0m\u001b[1;33m\u001b[0m\u001b[0m\n",
      "\u001b[1;32m~\\AppData\\Local\\Continuum\\anaconda2\\envs\\py36\\lib\\site-packages\\sklearn\\cluster\\k_means_.py\u001b[0m in \u001b[0;36m_kmeans_single_lloyd\u001b[1;34m(X, n_clusters, max_iter, init, verbose, x_squared_norms, random_state, tol, precompute_distances)\u001b[0m\n\u001b[0;32m    496\u001b[0m         \u001b[1;32mif\u001b[0m \u001b[0msp\u001b[0m\u001b[1;33m.\u001b[0m\u001b[0missparse\u001b[0m\u001b[1;33m(\u001b[0m\u001b[0mX\u001b[0m\u001b[1;33m)\u001b[0m\u001b[1;33m:\u001b[0m\u001b[1;33m\u001b[0m\u001b[0m\n\u001b[0;32m    497\u001b[0m             centers = _k_means._centers_sparse(X, labels, n_clusters,\n\u001b[1;32m--> 498\u001b[1;33m                                                distances)\n\u001b[0m\u001b[0;32m    499\u001b[0m         \u001b[1;32melse\u001b[0m\u001b[1;33m:\u001b[0m\u001b[1;33m\u001b[0m\u001b[0m\n\u001b[0;32m    500\u001b[0m             \u001b[0mcenters\u001b[0m \u001b[1;33m=\u001b[0m \u001b[0m_k_means\u001b[0m\u001b[1;33m.\u001b[0m\u001b[0m_centers_dense\u001b[0m\u001b[1;33m(\u001b[0m\u001b[0mX\u001b[0m\u001b[1;33m,\u001b[0m \u001b[0mlabels\u001b[0m\u001b[1;33m,\u001b[0m \u001b[0mn_clusters\u001b[0m\u001b[1;33m,\u001b[0m \u001b[0mdistances\u001b[0m\u001b[1;33m)\u001b[0m\u001b[1;33m\u001b[0m\u001b[0m\n",
      "\u001b[1;31mKeyboardInterrupt\u001b[0m: "
     ]
    },
    {
     "ename": "AttributeError",
     "evalue": "'KMeans' object has no attribute 'labels_'",
     "output_type": "error",
     "traceback": [
      "\u001b[1;31m---------------------------------------------------------------------------\u001b[0m",
      "\u001b[1;31mAttributeError\u001b[0m                            Traceback (most recent call last)",
      "\u001b[1;32m<ipython-input-61-3d668c6ea7b5>\u001b[0m in \u001b[0;36m<module>\u001b[1;34m()\u001b[0m\n\u001b[0;32m      5\u001b[0m \u001b[1;31m#km = MiniBatchKMeans(n_clusters=true_k, init='k-means++', n_init=1,init_size=1000, batch_size=1000,\u001b[0m\u001b[1;33m\u001b[0m\u001b[1;33m\u001b[0m\u001b[0m\n\u001b[0;32m      6\u001b[0m \u001b[0mget_ipython\u001b[0m\u001b[1;33m(\u001b[0m\u001b[1;33m)\u001b[0m\u001b[1;33m.\u001b[0m\u001b[0mmagic\u001b[0m\u001b[1;33m(\u001b[0m\u001b[1;34m'time km2.fit(tfidf_matrix)'\u001b[0m\u001b[1;33m)\u001b[0m\u001b[1;33m\u001b[0m\u001b[0m\n\u001b[1;32m----> 7\u001b[1;33m \u001b[0mclusters\u001b[0m \u001b[1;33m=\u001b[0m \u001b[0mkm2\u001b[0m\u001b[1;33m.\u001b[0m\u001b[0mlabels_\u001b[0m\u001b[1;33m.\u001b[0m\u001b[0mtolist\u001b[0m\u001b[1;33m(\u001b[0m\u001b[1;33m)\u001b[0m\u001b[1;33m\u001b[0m\u001b[0m\n\u001b[0m\u001b[0;32m      8\u001b[0m \u001b[1;33m\u001b[0m\u001b[0m\n",
      "\u001b[1;31mAttributeError\u001b[0m: 'KMeans' object has no attribute 'labels_'"
     ]
    }
   ],
   "source": [
    "#Classic Kmean\n",
    "from sklearn.cluster import KMeans\n",
    "\n",
    "num_clusters = 50\n",
    "km2 = KMeans(n_clusters=num_clusters,init='k-means++', max_iter=100, n_init=1)\n",
    "#km = MiniBatchKMeans(n_clusters=true_k, init='k-means++', n_init=1,init_size=1000, batch_size=1000,\n",
    "%time km2.fit(tfidf_matrix)\n",
    "clusters = km2.labels_.tolist()\n",
    "\n"
   ]
  },
  {
   "cell_type": "code",
   "execution_count": 118,
   "metadata": {},
   "outputs": [
    {
     "data": {
      "text/plain": [
       "1    11338\n",
       "0      857\n",
       "8      183\n",
       "3      172\n",
       "2      162\n",
       "5      144\n",
       "6      143\n",
       "7       98\n",
       "4       91\n",
       "9       15\n",
       "Name: cluster, dtype: int64"
      ]
     },
     "execution_count": 118,
     "metadata": {},
     "output_type": "execute_result"
    }
   ],
   "source": [
    "#df1['cluster'].value_counts()\n",
    "df3['cluster'].value_counts()"
   ]
  },
  {
   "cell_type": "code",
   "execution_count": null,
   "metadata": {
    "collapsed": true
   },
   "outputs": [],
   "source": [
    "Todo :  Visual ngram feature embedding"
   ]
  },
  {
   "cell_type": "markdown",
   "metadata": {},
   "source": [
    "Issues\n",
    "Manual checking the clustered data, since we have event data coming into login pwd cluster which should not be \n"
   ]
  },
  {
   "cell_type": "markdown",
   "metadata": {},
   "source": [
    "# Other methods\n"
   ]
  },
  {
   "cell_type": "raw",
   "metadata": {},
   "source": [
    "LDA  --tried \n",
    "\n",
    "Deep Learning - Autoencoders and Variational Autoencoders followed by KMeans\n",
    "https://www.analyticsvidhya.com/blog/2018/05/essentials-of-deep-learning-trudging-into-unsupervised-deep-learning/\n",
    "DEC - https://github.com/XifengGuo/DEC-keras\n",
    "\n",
    "Gaussian Mixture Model  sklearn.mixture import GaussianMixture\n",
    "SpectralClustering  sklearn.cluster import SpectralClustering\n",
    "DBSCAN -- from sklearn.cluster import DBSCAN\n",
    "MiniBatchKMeans"
   ]
  }
 ],
 "metadata": {
  "kernelspec": {
   "display_name": "Python 3",
   "language": "python",
   "name": "python3"
  },
  "language_info": {
   "codemirror_mode": {
    "name": "ipython",
    "version": 3
   },
   "file_extension": ".py",
   "mimetype": "text/x-python",
   "name": "python",
   "nbconvert_exporter": "python",
   "pygments_lexer": "ipython3",
   "version": "3.6.3"
  }
 },
 "nbformat": 4,
 "nbformat_minor": 1
}
