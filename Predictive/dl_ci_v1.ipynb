{
 "cells": [
  {
   "cell_type": "code",
   "execution_count": 1,
   "metadata": {
    "_uuid": "d6fb32fd69316596e236eab5fb8cf77c848508c3"
   },
   "outputs": [
    {
     "name": "stderr",
     "output_type": "stream",
     "text": [
      "Using TensorFlow backend.\n"
     ]
    }
   ],
   "source": [
    "import pandas as pd\n",
    "import numpy as np\n",
    "import matplotlib.pyplot as plt\n",
    "import seaborn as sns\n",
    "from sklearn.model_selection import train_test_split\n",
    "from sklearn.preprocessing import LabelEncoder\n",
    "from keras.models import Model\n",
    "from keras.layers import LSTM, Activation, Dense, Dropout, Input, Embedding\n",
    "from keras.optimizers import RMSprop\n",
    "from keras.preprocessing.text import Tokenizer\n",
    "from keras.preprocessing import sequence\n",
    "from keras.utils import to_categorical\n",
    "from keras.callbacks import EarlyStopping\n",
    "%matplotlib inline\n",
    "from numpy import argmax\n",
    "from sklearn.preprocessing import OneHotEncoder"
   ]
  },
  {
   "cell_type": "code",
   "execution_count": 2,
   "metadata": {},
   "outputs": [
    {
     "name": "stdout",
     "output_type": "stream",
     "text": [
      "Input Dataframe Shape(rows,cols): (100000, 3)\n"
     ]
    }
   ],
   "source": [
    "xlsx = pd.ExcelFile('data/ag_ci_mar_jun.xlsx')\n",
    "#fields = ['Short description', 'Assignment group']\n",
    "\n",
    "data_sheets = []\n",
    "for sheet in xlsx.sheet_names:\n",
    "    data_sheets.append(pd.read_excel(xlsx,sheet, usecols=[0,1,2]))\n",
    "df = pd.concat(data_sheets)\n",
    "\n",
    "print(\"Input Dataframe Shape(rows,cols):\",df.shape)\n",
    "\n"
   ]
  },
  {
   "cell_type": "code",
   "execution_count": 5,
   "metadata": {
    "collapsed": true
   },
   "outputs": [],
   "source": [
    "#df = pd.read_csv('dump_cat_ag.csv')"
   ]
  },
  {
   "cell_type": "code",
   "execution_count": 2,
   "metadata": {
    "collapsed": true
   },
   "outputs": [],
   "source": [
    "from keras.layers import Flatten\n",
    "from keras.layers.convolutional import Conv1D\n",
    "from keras.layers.convolutional import MaxPooling1D\n",
    "from keras.layers.merge import concatenate"
   ]
  },
  {
   "cell_type": "code",
   "execution_count": 3,
   "metadata": {},
   "outputs": [
    {
     "name": "stdout",
     "output_type": "stream",
     "text": [
      "(100000, 3)\n",
      "(77389, 3)\n"
     ]
    }
   ],
   "source": [
    "df.columns = [c.replace(' ', '_') for c in df.columns]\n",
    "print(df.shape)\n",
    "df= df.drop_duplicates()\n",
    "print(df.shape)"
   ]
  },
  {
   "cell_type": "code",
   "execution_count": 4,
   "metadata": {
    "scrolled": true
   },
   "outputs": [
    {
     "data": {
      "text/html": [
       "<div>\n",
       "<style scoped>\n",
       "    .dataframe tbody tr th:only-of-type {\n",
       "        vertical-align: middle;\n",
       "    }\n",
       "\n",
       "    .dataframe tbody tr th {\n",
       "        vertical-align: top;\n",
       "    }\n",
       "\n",
       "    .dataframe thead th {\n",
       "        text-align: right;\n",
       "    }\n",
       "</style>\n",
       "<table border=\"1\" class=\"dataframe\">\n",
       "  <thead>\n",
       "    <tr style=\"text-align: right;\">\n",
       "      <th></th>\n",
       "      <th>Configuration_item</th>\n",
       "      <th>Short_description</th>\n",
       "      <th>Assignment_group</th>\n",
       "    </tr>\n",
       "  </thead>\n",
       "  <tbody>\n",
       "    <tr>\n",
       "      <th>0</th>\n",
       "      <td>ECISA Cerner Millennium Powerchart</td>\n",
       "      <td>FW: microviewer not displaying antibiotics pro...</td>\n",
       "      <td>DH-ClinApps Pharmacy</td>\n",
       "    </tr>\n",
       "    <tr>\n",
       "      <th>1</th>\n",
       "      <td>Network Account Lock</td>\n",
       "      <td>network---customer wanted his acc to be unlock...</td>\n",
       "      <td>DH-Enterprise IT Service Cntr</td>\n",
       "    </tr>\n",
       "    <tr>\n",
       "      <th>2</th>\n",
       "      <td>Course - Completion Issue</td>\n",
       "      <td>FW: HR Case HRC0041119 has been closed</td>\n",
       "      <td>DHE-HR Tier 2 - Talent Management</td>\n",
       "    </tr>\n",
       "    <tr>\n",
       "      <th>3</th>\n",
       "      <td>Network Account Lock</td>\n",
       "      <td>Network account- locked || user id- djames003</td>\n",
       "      <td>DH-Enterprise IT Service Cntr</td>\n",
       "    </tr>\n",
       "    <tr>\n",
       "      <th>4</th>\n",
       "      <td>Mobile Cart</td>\n",
       "      <td>WOW / Workstation on Wheels || WOW / Workstati...</td>\n",
       "      <td>DH-NC-EUS Sac MGH</td>\n",
       "    </tr>\n",
       "  </tbody>\n",
       "</table>\n",
       "</div>"
      ],
      "text/plain": [
       "                   Configuration_item  \\\n",
       "0  ECISA Cerner Millennium Powerchart   \n",
       "1                Network Account Lock   \n",
       "2           Course - Completion Issue   \n",
       "3                Network Account Lock   \n",
       "4                         Mobile Cart   \n",
       "\n",
       "                                   Short_description  \\\n",
       "0  FW: microviewer not displaying antibiotics pro...   \n",
       "1  network---customer wanted his acc to be unlock...   \n",
       "2             FW: HR Case HRC0041119 has been closed   \n",
       "3      Network account- locked || user id- djames003   \n",
       "4  WOW / Workstation on Wheels || WOW / Workstati...   \n",
       "\n",
       "                    Assignment_group  \n",
       "0               DH-ClinApps Pharmacy  \n",
       "1      DH-Enterprise IT Service Cntr  \n",
       "2  DHE-HR Tier 2 - Talent Management  \n",
       "3      DH-Enterprise IT Service Cntr  \n",
       "4                  DH-NC-EUS Sac MGH  "
      ]
     },
     "execution_count": 4,
     "metadata": {},
     "output_type": "execute_result"
    }
   ],
   "source": [
    "df.head()"
   ]
  },
  {
   "cell_type": "code",
   "execution_count": 7,
   "metadata": {},
   "outputs": [
    {
     "name": "stdout",
     "output_type": "stream",
     "text": [
      "(106371, 3)\n",
      "(106371, 3)\n"
     ]
    }
   ],
   "source": [
    "print(df.shape)\n",
    "df1=df.drop(['Category'], axis=1)\n",
    "#df.drop_duplicates()\n",
    "print(df.shape)"
   ]
  },
  {
   "cell_type": "code",
   "execution_count": 25,
   "metadata": {},
   "outputs": [
    {
     "name": "stdout",
     "output_type": "stream",
     "text": [
      "(63587, 3)\n"
     ]
    }
   ],
   "source": [
    "\n",
    "\n",
    "#print(df.Configuration_item.nunique)\n",
    "df3=df2.groupby(\"Configuration_item\").filter(lambda x: len(x) > 100)\n",
    "#print(df1.shape)\n",
    "#df2=df.groupby(\"Assignment_group\").filter(lambda x: len(x) > 100)\n",
    "print(df3.shape)\n",
    "#df2.dropna()\n",
    "#print(df2.shape)"
   ]
  },
  {
   "cell_type": "code",
   "execution_count": 93,
   "metadata": {},
   "outputs": [
    {
     "name": "stdout",
     "output_type": "stream",
     "text": [
      "45\n"
     ]
    }
   ],
   "source": [
    "df5=df3.groupby(\"Configuration_item\").filter(lambda x: len(x) > 300)\n",
    "print(df5.Configuration_item.nunique())"
   ]
  },
  {
   "cell_type": "code",
   "execution_count": 33,
   "metadata": {
    "scrolled": true
   },
   "outputs": [
    {
     "name": "stdout",
     "output_type": "stream",
     "text": [
      "1442 94\n",
      "186 93\n"
     ]
    }
   ],
   "source": [
    "#get data with at leaset count(assignment group)>200\n",
    "#df1 = df.drop_duplicates()\n",
    "#df2=df1.groupby(\"Assignment_group\").filter(lambda x: len(x) > 300)\n",
    "#(140690, 2)  , 78 outputs\n",
    "#df2=df1.groupby(\"Assignment_group\").filter(lambda x: len(x) > 500)\n",
    "#(128992, 2), 49 \n",
    "#df1=df.groupby(\"Assignment_group\").filter(lambda x: len(x) > 100)\n",
    "#(115650, 2) 28\n",
    "print(df2.Configuration_item.nunique(),df3.Configuration_item.nunique())\n",
    "print(df1.Assignment_group.nunique(),df3.Assignment_group.nunique())\n",
    "#print(df2.groupby(\"Assignment_group\").filter(lambda x: len(x) > 100 )"
   ]
  },
  {
   "cell_type": "code",
   "execution_count": 10,
   "metadata": {
    "scrolled": true
   },
   "outputs": [
    {
     "name": "stdout",
     "output_type": "stream",
     "text": [
      "(17622, 2)\n",
      "(61451, 2)\n"
     ]
    }
   ],
   "source": [
    "#get data with at leaset count(assignment group)>200\n",
    "#df1 = df.drop_duplicates()\n",
    "df3_2 = df2[df2.Assignment_group == 'DH-Enterprise IT Service Cntr']\n",
    "df3_1 = df2[df2.Assignment_group != 'DH-Enterprise IT Service Cntr']\n",
    "df3_0 = df3_2.sample(frac=0.4)\n",
    "print(df3_0.shape)\n",
    "df4= pd.concat([df3_0,df3_1])\n",
    "df4 =df4.sample(frac=1).reset_index(drop=True)\n",
    "print(df4.shape)\n",
    "#print(df2.shape,df2.Assignment_group.nunique())"
   ]
  },
  {
   "cell_type": "code",
   "execution_count": 13,
   "metadata": {
    "collapsed": true
   },
   "outputs": [],
   "source": [
    "dfx = df.groupby(\"Assignment_group\").filter(lambda x: len(x) > 400).sample(frac=0.005)\n",
    "dfx.to_csv('sample_cat_ag.csv')"
   ]
  },
  {
   "cell_type": "code",
   "execution_count": 15,
   "metadata": {
    "collapsed": true
   },
   "outputs": [],
   "source": [
    "a=df.Assignment_group.value_counts()\n",
    "dfxz = pd.DataFrame(index=np.arange(0, 106371),columns=['X'])\n",
    "dfxz =a\n",
    "\n",
    "dfxz.to_csv('ag_groups_list.csv')"
   ]
  },
  {
   "cell_type": "code",
   "execution_count": 31,
   "metadata": {
    "collapsed": true,
    "scrolled": true
   },
   "outputs": [],
   "source": [
    "#dfx['newcol'] = dfx.Assignment_group\n",
    "df4['newcol'] = df4.apply(lambda row: 'EUS Group' if str(row).find('EUS')>0 else row, axis=1)"
   ]
  },
  {
   "cell_type": "code",
   "execution_count": 10,
   "metadata": {},
   "outputs": [
    {
     "data": {
      "text/html": [
       "<div>\n",
       "<style scoped>\n",
       "    .dataframe tbody tr th:only-of-type {\n",
       "        vertical-align: middle;\n",
       "    }\n",
       "\n",
       "    .dataframe tbody tr th {\n",
       "        vertical-align: top;\n",
       "    }\n",
       "\n",
       "    .dataframe thead th {\n",
       "        text-align: right;\n",
       "    }\n",
       "</style>\n",
       "<table border=\"1\" class=\"dataframe\">\n",
       "  <thead>\n",
       "    <tr style=\"text-align: right;\">\n",
       "      <th></th>\n",
       "      <th>Configuration_item</th>\n",
       "      <th>Short_description</th>\n",
       "      <th>Assignment_group</th>\n",
       "    </tr>\n",
       "  </thead>\n",
       "  <tbody>\n",
       "    <tr>\n",
       "      <th>0</th>\n",
       "      <td>ECISA Cerner Millennium Powerchart</td>\n",
       "      <td>FW: microviewer not displaying antibiotics pro...</td>\n",
       "      <td>DH-ClinApps Pharmacy</td>\n",
       "    </tr>\n",
       "    <tr>\n",
       "      <th>1</th>\n",
       "      <td>Network Account Lock</td>\n",
       "      <td>network---customer wanted his acc to be unlock...</td>\n",
       "      <td>DH-Enterprise IT Service Cntr</td>\n",
       "    </tr>\n",
       "    <tr>\n",
       "      <th>2</th>\n",
       "      <td>Course - Completion Issue</td>\n",
       "      <td>FW: HR Case HRC0041119 has been closed</td>\n",
       "      <td>DHE-HR Tier 2 - Talent Management</td>\n",
       "    </tr>\n",
       "    <tr>\n",
       "      <th>3</th>\n",
       "      <td>Network Account Lock</td>\n",
       "      <td>Network account- locked || user id- djames003</td>\n",
       "      <td>DH-Enterprise IT Service Cntr</td>\n",
       "    </tr>\n",
       "    <tr>\n",
       "      <th>4</th>\n",
       "      <td>Mobile Cart</td>\n",
       "      <td>WOW / Workstation on Wheels || WOW / Workstati...</td>\n",
       "      <td>DH-NC-EUS Sac MGH</td>\n",
       "    </tr>\n",
       "  </tbody>\n",
       "</table>\n",
       "</div>"
      ],
      "text/plain": [
       "                   Configuration_item  \\\n",
       "0  ECISA Cerner Millennium Powerchart   \n",
       "1                Network Account Lock   \n",
       "2           Course - Completion Issue   \n",
       "3                Network Account Lock   \n",
       "4                         Mobile Cart   \n",
       "\n",
       "                                   Short_description  \\\n",
       "0  FW: microviewer not displaying antibiotics pro...   \n",
       "1  network---customer wanted his acc to be unlock...   \n",
       "2             FW: HR Case HRC0041119 has been closed   \n",
       "3      Network account- locked || user id- djames003   \n",
       "4  WOW / Workstation on Wheels || WOW / Workstati...   \n",
       "\n",
       "                    Assignment_group  \n",
       "0               DH-ClinApps Pharmacy  \n",
       "1      DH-Enterprise IT Service Cntr  \n",
       "2  DHE-HR Tier 2 - Talent Management  \n",
       "3      DH-Enterprise IT Service Cntr  \n",
       "4                  DH-NC-EUS Sac MGH  "
      ]
     },
     "execution_count": 10,
     "metadata": {},
     "output_type": "execute_result"
    }
   ],
   "source": [
    "#df4=df4.drop(['newcol'],axis=1)\n",
    "df.head()"
   ]
  },
  {
   "cell_type": "code",
   "execution_count": 90,
   "metadata": {},
   "outputs": [
    {
     "data": {
      "text/plain": [
       "Desktop                                                    9779\n",
       "Network Account Issue                                      7331\n",
       "Network Account Lock                                       5755\n",
       "First Call Resolution CI                                   2837\n",
       "Printer                                                    1927\n",
       "FCR - Application ID/Password                              1660\n",
       "Encryption - Desktop/Laptop                                1636\n",
       "Outlook                                                    1549\n",
       "Laptop                                                     1228\n",
       "FCR - End User Resolved                                    1211\n",
       "Missing Icon                                               1135\n",
       "Phone                                                      1063\n",
       "Kyocera - H/W                                               992\n",
       "FLR- Software Installs/Upgrade                              965\n",
       "Gather Information                                          958\n",
       "FCR - Customer Call Back                                    848\n",
       "MS4 PHXASP02                                                766\n",
       "DUO Security                                                753\n",
       "AllScripts                                                  715\n",
       "MS4 PHXASP01                                                692\n",
       "GECB Prod (SAC)                                             680\n",
       "MyJourney                                                   661\n",
       "MS4 PHXASP08                                                615\n",
       "CAREB Cerner Millennium Powerchart                          612\n",
       "Axway MailGate                                              578\n",
       "Course - Completion Issue                                   561\n",
       "Invision/SMS/RCO-Password/Logon                             557\n",
       "VPN                                                         539\n",
       "Scanner - Feed                                              485\n",
       "FCR - Caller Disconnect                                     464\n",
       "                                                           ... \n",
       "Label                                                       187\n",
       "Kyocera (Non KDA issue)                                     187\n",
       "Dragon Medical Network Edition(ENT)                         186\n",
       "Admin Rights                                                181\n",
       "ServiceMatters                                              180\n",
       "MaaS360                                                     156\n",
       "Cerner 724 Downtime PC                                      155\n",
       "Artiva                                                      154\n",
       "Internet Explorer                                           146\n",
       "MEDITECH (GMHHC)                                            144\n",
       "End User Services                                           134\n",
       "FLR-Browser/IE                                              132\n",
       "FLR-Missing Shortcut/Bad Icon                               131\n",
       "FLR- MS Office/Outlook                                      131\n",
       "Cerner Millennium Pathnet General Laboratory 2015.01.19     131\n",
       "NUP/ Account violation                                      127\n",
       "Cerner Millennium QuickOrders 2015.01.19                    124\n",
       "Software Development                                        122\n",
       "Icon/Shortcut/URL Issue                                     119\n",
       "Phishing Threat                                             119\n",
       "Citrix XenApp Desktop 4.5                                   118\n",
       "Total Rewards Portal                                        116\n",
       "Hardware Only                                               116\n",
       "GE Centricity Business v6.0                                 115\n",
       "Security Admin Issue                                        115\n",
       "Horizon/McKesson Homecare                                   113\n",
       "FetaLink                                                    112\n",
       "CAREB Cerner Millennium FirstNet                            111\n",
       "MS4 Access Issue                                            108\n",
       "Scanner - Flatbed                                           101\n",
       "Name: Configuration_item, Length: 94, dtype: int64"
      ]
     },
     "execution_count": 90,
     "metadata": {},
     "output_type": "execute_result"
    }
   ],
   "source": [
    "#print(df4.shape)\n",
    "#df4.Assignment_group = df4.newcol\n",
    "#df4=df4.drop(['Assignment_group'], axis=1)\n",
    "#df4.drop_duplicates()\n",
    "#print(df4.shape)\n",
    "#print(df4.newcol.nunique())\n",
    "#df4.newcol.value_counts()\n",
    "df3.Configuration_item.value_counts()"
   ]
  },
  {
   "cell_type": "code",
   "execution_count": 47,
   "metadata": {},
   "outputs": [
    {
     "name": "stdout",
     "output_type": "stream",
     "text": [
      "(43348, 2)\n"
     ]
    },
    {
     "data": {
      "text/plain": [
       "12"
      ]
     },
     "execution_count": 47,
     "metadata": {},
     "output_type": "execute_result"
    }
   ],
   "source": [
    "print(df4.Assignment_group.nunique())\n",
    "df5=df4.groupby(\"Assignment_group\").filter(lambda x: len(x) > 1000)\n",
    "print(df5.shape)\n",
    "print(df5.Assignment_group.nunique())\n"
   ]
  },
  {
   "cell_type": "code",
   "execution_count": 94,
   "metadata": {},
   "outputs": [
    {
     "name": "stdout",
     "output_type": "stream",
     "text": [
      "(55029,) (55029,)\n"
     ]
    }
   ],
   "source": [
    "#Create input and output data sets\n",
    "X = df5.Short_description\n",
    "Y = df5.Configuration_item\n",
    "#Y_AG = df.Assignment_group\n",
    "print(X.shape,Y.shape)"
   ]
  },
  {
   "cell_type": "code",
   "execution_count": 75,
   "metadata": {
    "collapsed": true
   },
   "outputs": [],
   "source": [
    "Y_AG = df3.Assignment_group"
   ]
  },
  {
   "cell_type": "code",
   "execution_count": 95,
   "metadata": {
    "collapsed": true
   },
   "outputs": [],
   "source": [
    "from nltk.stem import WordNetLemmatizer\n",
    "from nltk.corpus import stopwords\n",
    "stop = stopwords.words('english')\n",
    "lemmer=WordNetLemmatizer()\n",
    "#remove special chars\n",
    "#pat = r'[_]+'\n",
    "#X = X.str.replace(pat, '',regex=True)\n",
    "pat = r'[^A-Za-z ]+'\n",
    "X = X.str.replace(pat, ' ',regex=True)\n",
    "X = X.apply(lambda x: ' '.join([word for word in str(x).split() if word not in (stop)]))\n",
    "X = X.apply(lambda x: ' '.join([lemmer.lemmatize(word) for word in str(x).split()]))\n",
    "\n",
    "#X = X.apply(lambda x: ' '.join([word for word in str(x).split() if word.isalpha() ]))"
   ]
  },
  {
   "cell_type": "code",
   "execution_count": 18,
   "metadata": {},
   "outputs": [
    {
     "name": "stdout",
     "output_type": "stream",
     "text": [
      "752711\n"
     ]
    }
   ],
   "source": [
    "print(sum([len(str(s).split()) for s in X]))\n",
    "#1131417\n",
    "# 951883"
   ]
  },
  {
   "cell_type": "code",
   "execution_count": 96,
   "metadata": {
    "collapsed": true
   },
   "outputs": [],
   "source": [
    "#Encode outputs into N- dim one hot encoded matrix\n",
    "label_encoder = LabelEncoder()\n",
    "integer_encoded = label_encoder.fit_transform(Y)\n",
    "\n",
    "onehot_encoder = OneHotEncoder(sparse=False)\n",
    "integer_encoded = integer_encoded.reshape(len(integer_encoded), 1)\n",
    "onehot_encoded = onehot_encoder.fit_transform(integer_encoded)\n",
    "#print(onehot_encoded)\n",
    "# invert first example to return original, must for return api --how to inverse transform post deploy\n",
    "#inverted = label_encoder.inverse_transform([argmax(onehot_encoded[0, :])])\n",
    "#print(inverted)"
   ]
  },
  {
   "cell_type": "code",
   "execution_count": 97,
   "metadata": {},
   "outputs": [
    {
     "name": "stdout",
     "output_type": "stream",
     "text": [
      "(55029, 45)\n"
     ]
    }
   ],
   "source": [
    "print(onehot_encoded.shape)"
   ]
  },
  {
   "cell_type": "code",
   "execution_count": 17,
   "metadata": {
    "collapsed": true
   },
   "outputs": [],
   "source": [
    "#df_col_len = int(X.len().max())\n",
    "#print(df_col_len)\n"
   ]
  },
  {
   "cell_type": "code",
   "execution_count": 25,
   "metadata": {
    "collapsed": true
   },
   "outputs": [],
   "source": [
    "X1 = X1.astype(str)\n",
    "#print df['strange'].apply(lambda x: len(x))"
   ]
  },
  {
   "cell_type": "code",
   "execution_count": 98,
   "metadata": {
    "_uuid": "aa3386af09469682c66cc53a1830a4e42f0e70b6",
    "scrolled": true
   },
   "outputs": [
    {
     "name": "stdout",
     "output_type": "stream",
     "text": [
      "(46774,) (8255,) (46774, 45) (8255, 45)\n"
     ]
    }
   ],
   "source": [
    "#Split into train and test(15%)\n",
    "X_train,X_test,Y_train,Y_test = train_test_split(X,onehot_encoded,test_size=0.15)\n",
    "print(X_train.shape,X_test.shape,Y_train.shape,Y_test.shape)\n",
    "#(119586,) (21104,) (119586, 78) (21104, 78)"
   ]
  },
  {
   "cell_type": "code",
   "execution_count": 78,
   "metadata": {
    "_uuid": "aa3386af09469682c66cc53a1830a4e42f0e70b6",
    "scrolled": true
   },
   "outputs": [
    {
     "name": "stdout",
     "output_type": "stream",
     "text": [
      "(54048,) (54048,) (9539,) (54048, 94) (9539, 94)\n"
     ]
    }
   ],
   "source": [
    "#Split into train and test(15%)\n",
    "X_train,X_test,X1_train,X1_test,Y_train,Y_test = train_test_split(X,Y_AG,onehot_encoded,test_size=0.15)\n",
    "print(X_train.shape,X1_train.shape,X_test.shape,Y_train.shape,Y_test.shape)\n",
    "#(119586,) (21104,) (119586, 78) (21104, 78)"
   ]
  },
  {
   "cell_type": "code",
   "execution_count": 101,
   "metadata": {
    "_uuid": "bdca14f2b8cd7bd7cb5ee66fd40ea522217c03c6"
   },
   "outputs": [
    {
     "name": "stdout",
     "output_type": "stream",
     "text": [
      "(46774, 30)\n"
     ]
    }
   ],
   "source": [
    "# Tokenize and pad , init max sizes...should find way to eff value max words \n",
    "max_words = 25000\n",
    "max_len = 30 #df_col_len #35\n",
    "tok = Tokenizer(num_words=max_words)\n",
    "tok.fit_on_texts(X)\n",
    "sequences = tok.texts_to_sequences(X_train)\n",
    "sequences_matrix = sequence.pad_sequences(sequences,maxlen=max_len)\n",
    "print(sequences_matrix.shape)"
   ]
  },
  {
   "cell_type": "code",
   "execution_count": 82,
   "metadata": {
    "_uuid": "bdca14f2b8cd7bd7cb5ee66fd40ea522217c03c6"
   },
   "outputs": [
    {
     "name": "stdout",
     "output_type": "stream",
     "text": [
      "(54048, 5)\n"
     ]
    }
   ],
   "source": [
    "# Tokenize and pad , init max sizes...should find way to eff value max words \n",
    "max_words2 = 200\n",
    "max_len2 = 5 #df_col_len #35\n",
    "tok2 = Tokenizer(num_words=max_words)\n",
    "tok2.fit_on_texts(Y_AG)\n",
    "sequences2 = tok2.texts_to_sequences(X1_train)\n",
    "sequences_matrix2 = sequence.pad_sequences(sequences2,maxlen=max_len2)\n",
    "print(sequences_matrix2.shape)"
   ]
  },
  {
   "cell_type": "code",
   "execution_count": 100,
   "metadata": {},
   "outputs": [
    {
     "name": "stdout",
     "output_type": "stream",
     "text": [
      "28487\n"
     ]
    }
   ],
   "source": [
    "# calculate vocabulary size\n",
    "vocab_size = len(tok.word_index) + 1\n",
    "print(vocab_size)"
   ]
  },
  {
   "cell_type": "code",
   "execution_count": 63,
   "metadata": {},
   "outputs": [
    {
     "data": {
      "text/plain": [
       "94"
      ]
     },
     "execution_count": 63,
     "metadata": {},
     "output_type": "execute_result"
    }
   ],
   "source": [
    "Y.nunique()"
   ]
  },
  {
   "cell_type": "code",
   "execution_count": 87,
   "metadata": {
    "_uuid": "78fff25b8be1de575bff071a2027f3dd2b11b911"
   },
   "outputs": [
    {
     "name": "stderr",
     "output_type": "stream",
     "text": [
      "C:\\Users\\124578\\AppData\\Local\\Continuum\\anaconda2\\envs\\py36\\lib\\site-packages\\ipykernel_launcher.py:19: UserWarning: The `Merge` layer is deprecated and will be removed after 08/2017. Use instead layers from `keras.layers.merge`, e.g. `add`, `concatenate`, etc.\n"
     ]
    }
   ],
   "source": [
    "num_classes=Y.nunique()\n",
    "from keras.models import Sequential\n",
    "from keras.layers import Merge, Activation, Dense\n",
    "from keras.layers.recurrent import LSTM\n",
    "\n",
    "model1 = Sequential()\n",
    "model1.add(Embedding(max_words, 50, input_length=max_len))\n",
    "model1.add(Dropout(0.2))\n",
    "model1.add(LSTM(64))\n",
    "model1.add(Dropout(0.2))\n",
    "\n",
    "model2 = Sequential()\n",
    "model2.add(Embedding(max_words2, 20, input_length=max_len2))\n",
    "model2.add(Dropout(0.2))\n",
    "model2.add(LSTM(16))\n",
    "model2.add(Dropout(0.2))\n",
    "\n",
    "model3 = Sequential()\n",
    "model3.add(Merge([model1, model2], mode='concat'))\n",
    "model3.add(Dense(num_classes))\n",
    "model3.add(Activation('softmax'))\n",
    "model3.compile(optimizer='RMSprop', loss='categorical_crossentropy',metrics=['accuracy'])\n",
    "#model.fit([X[:,:m,:], X[:,m:,:]], y)\n"
   ]
  },
  {
   "cell_type": "code",
   "execution_count": 88,
   "metadata": {},
   "outputs": [
    {
     "name": "stdout",
     "output_type": "stream",
     "text": [
      "Train on 43238 samples, validate on 10810 samples\n",
      "Epoch 1/10\n",
      "43238/43238 [==============================] - 72s 2ms/step - loss: 3.3490 - acc: 0.2304 - val_loss: 3.1265 - val_acc: 0.2592\n",
      "Epoch 2/10\n",
      "43238/43238 [==============================] - 63s 1ms/step - loss: 3.0683 - acc: 0.2769 - val_loss: 2.9898 - val_acc: 0.2844\n",
      "Epoch 3/10\n",
      "43238/43238 [==============================] - 65s 2ms/step - loss: 2.9803 - acc: 0.2916 - val_loss: 2.9486 - val_acc: 0.2904\n"
     ]
    }
   ],
   "source": [
    "history = model3.fit([sequences_matrix,sequences_matrix2],Y_train,batch_size=64,epochs=10,\n",
    "          validation_split=0.2,callbacks=[EarlyStopping(monitor='val_loss',min_delta=0.1)])"
   ]
  },
  {
   "cell_type": "code",
   "execution_count": 102,
   "metadata": {
    "_uuid": "78fff25b8be1de575bff071a2027f3dd2b11b911",
    "collapsed": true
   },
   "outputs": [],
   "source": [
    "num_classes=Y.nunique()\n",
    "#define LSTM  model\n",
    "#tweak parameters/layers to inc. eff, smtimes 1D conv also used\n",
    "def RNN():\n",
    "    inputs = Input(name='inputs',shape=[max_len])\n",
    "    layer = Embedding(max_words,50,input_length=max_len)(inputs) #50 dim\n",
    "    layer = LSTM(64,name='RNN_LSTM')(layer)\n",
    "    layer = Dense(256,name='FC1')(layer)\n",
    "    layer = Activation('relu',name='Act_ReLU')(layer)\n",
    "    layer = Dropout(0.4,name='Dropout')(layer)\n",
    "    layer = Dense(num_classes,name='Out_layer')(layer)  #num_classes=# of outputs\n",
    "    layer = Activation('softmax',name='Act_Softmax')(layer)\n",
    "    model = Model(inputs=inputs,outputs=layer)\n",
    "    return model"
   ]
  },
  {
   "cell_type": "code",
   "execution_count": 103,
   "metadata": {
    "_uuid": "a0ede32d4127e8b4990fd74fe97fadef9e565d17"
   },
   "outputs": [
    {
     "name": "stdout",
     "output_type": "stream",
     "text": [
      "_________________________________________________________________\n",
      "Layer (type)                 Output Shape              Param #   \n",
      "=================================================================\n",
      "inputs (InputLayer)          (None, 30)                0         \n",
      "_________________________________________________________________\n",
      "embedding_9 (Embedding)      (None, 30, 50)            1250000   \n",
      "_________________________________________________________________\n",
      "RNN_LSTM (LSTM)              (None, 64)                29440     \n",
      "_________________________________________________________________\n",
      "FC1 (Dense)                  (None, 256)               16640     \n",
      "_________________________________________________________________\n",
      "Act_ReLU (Activation)        (None, 256)               0         \n",
      "_________________________________________________________________\n",
      "Dropout (Dropout)            (None, 256)               0         \n",
      "_________________________________________________________________\n",
      "Out_layer (Dense)            (None, 45)                11565     \n",
      "_________________________________________________________________\n",
      "Act_Softmax (Activation)     (None, 45)                0         \n",
      "=================================================================\n",
      "Total params: 1,307,645\n",
      "Trainable params: 1,307,645\n",
      "Non-trainable params: 0\n",
      "_________________________________________________________________\n"
     ]
    }
   ],
   "source": [
    "#compile model with optimizer -  can use RMSProp or Adam\n",
    "model = RNN()\n",
    "model.summary()\n",
    "model.compile(loss='categorical_crossentropy',optimizer=RMSprop(),metrics=['accuracy'])"
   ]
  },
  {
   "cell_type": "code",
   "execution_count": 104,
   "metadata": {
    "_uuid": "98f6d6318352420ea49c532cda158f715f940f4b"
   },
   "outputs": [
    {
     "name": "stdout",
     "output_type": "stream",
     "text": [
      "Train on 37419 samples, validate on 9355 samples\n",
      "Epoch 1/10\n",
      "37419/37419 [==============================] - 54s 1ms/step - loss: 2.4147 - acc: 0.3612 - val_loss: 1.9711 - val_acc: 0.4540\n",
      "Epoch 2/10\n",
      "37419/37419 [==============================] - 57s 2ms/step - loss: 1.7675 - acc: 0.5065 - val_loss: 1.6324 - val_acc: 0.5489\n",
      "Epoch 3/10\n",
      "37419/37419 [==============================] - 55s 1ms/step - loss: 1.4808 - acc: 0.5818 - val_loss: 1.4363 - val_acc: 0.5974\n",
      "Epoch 4/10\n",
      "37419/37419 [==============================] - 52s 1ms/step - loss: 1.3054 - acc: 0.6307 - val_loss: 1.3411 - val_acc: 0.6304\n"
     ]
    }
   ],
   "source": [
    "#execute the model, early stopping if model stops converging, batch size can be tweaked. 20% data for validation each epoch\n",
    "history = model.fit(sequences_matrix,Y_train,batch_size=64,epochs=10,\n",
    "          validation_split=0.2,callbacks=[EarlyStopping(monitor='val_loss',min_delta=0.1)])\n",
    "#Epoch 6/10\n",
    "#95668/95668 [==============================] - 141s 1ms/step - loss: 1.2015 - acc: 0.7190 - val_loss: 1.3778 - val_acc: 0.7008"
   ]
  },
  {
   "cell_type": "code",
   "execution_count": 64,
   "metadata": {
    "collapsed": true
   },
   "outputs": [],
   "source": [
    "from keras import backend as K\n",
    "#K.clear_session()"
   ]
  },
  {
   "cell_type": "code",
   "execution_count": 105,
   "metadata": {
    "_uuid": "80036135a11387d952becaf2fecf653a65c02328",
    "collapsed": true
   },
   "outputs": [],
   "source": [
    "#Create sequences for test data\n",
    "test_sequences = tok.texts_to_sequences(X_test)\n",
    "test_sequences_matrix = sequence.pad_sequences(test_sequences,maxlen=max_len)"
   ]
  },
  {
   "cell_type": "code",
   "execution_count": 106,
   "metadata": {
    "_uuid": "3e121ab83f4a0b9f7376ab24aa25d67051171f89",
    "scrolled": true
   },
   "outputs": [
    {
     "name": "stdout",
     "output_type": "stream",
     "text": [
      "8255/8255 [==============================] - 6s 682us/step\n",
      "Test set\n",
      "  Loss: 1.314\n",
      "  Accuracy: 63.840%\n"
     ]
    }
   ],
   "source": [
    "#Calculate accuracy on test data\n",
    "accr = model.evaluate(test_sequences_matrix,Y_test)\n",
    "print('Test set\\n  Loss: {:0.3f}\\n  Accuracy: {:0.3%}'.format(accr[0],accr[1]))"
   ]
  },
  {
   "cell_type": "code",
   "execution_count": 53,
   "metadata": {},
   "outputs": [
    {
     "name": "stdout",
     "output_type": "stream",
     "text": [
      "(63587, 3)\n",
      "(127, 3)\n"
     ]
    }
   ],
   "source": [
    "print(df3.shape)\n",
    "df4=df3.sample(frac=0.002)\n",
    "print(df4.shape)\n",
    "df4.to_csv('ci_ag_sample.csv')"
   ]
  },
  {
   "cell_type": "code",
   "execution_count": 54,
   "metadata": {},
   "outputs": [
    {
     "name": "stdout",
     "output_type": "stream",
     "text": [
      "(127,) (127,)\n"
     ]
    }
   ],
   "source": [
    "#load unseen data for validation\n",
    "df_val = pd.read_csv('ci_ag_sample.csv')\n",
    "Xnew=df_val.Short_description.astype(str)\n",
    "Ynew_orig = df_val.Configuration_item\n",
    "Ynew_orig2 = df_val.Assignment_group\n",
    "#Assignment_group\n",
    "print(Xnew.shape,Ynew_orig.shape)"
   ]
  },
  {
   "cell_type": "code",
   "execution_count": 57,
   "metadata": {
    "collapsed": true
   },
   "outputs": [],
   "source": [
    "Ynew_orig2 = df_val.Assignment_group"
   ]
  },
  {
   "cell_type": "code",
   "execution_count": 55,
   "metadata": {
    "collapsed": true
   },
   "outputs": [],
   "source": [
    "#convert unseen data to word tokens\n",
    "Xnew_2 = sequence.pad_sequences(tok.texts_to_sequences(Xnew),maxlen=max_len)"
   ]
  },
  {
   "cell_type": "code",
   "execution_count": 56,
   "metadata": {
    "collapsed": true
   },
   "outputs": [],
   "source": [
    "#predict output on unseen data\n",
    "ynew = model.predict(Xnew_2)"
   ]
  },
  {
   "cell_type": "code",
   "execution_count": 58,
   "metadata": {},
   "outputs": [
    {
     "name": "stdout",
     "output_type": "stream",
     "text": [
      "(127, 5)\n"
     ]
    }
   ],
   "source": [
    "dfzz = pd.DataFrame(index=np.arange(0, len(Xnew)),columns=['X', 'Pred', 'Orig','Prob','Asg_Grp'])\n",
    "for i in range(len(Xnew)):\n",
    "    dfzz.iloc[i]  = [Xnew[i], label_encoder.inverse_transform([argmax(ynew[i, :])]),Ynew_orig[i],np.max(ynew[i, :]),Ynew_orig2[i]]\n",
    "dfzz.to_csv('ci_ag_sample_pred.csv')\n",
    "print(dfzz.shape)"
   ]
  },
  {
   "cell_type": "code",
   "execution_count": 74,
   "metadata": {},
   "outputs": [
    {
     "name": "stdout",
     "output_type": "stream",
     "text": [
      "\n",
      "X=Kimberly Hepler Powerchart Opening Multiple Charts,\n",
      "Predicted=['DH-ClinApps NAS'],\n",
      "Original=DH-ClinApps Core\n",
      "0.503406\n",
      "\n",
      "X=Volume Space Nearly Full warning event san Volume Space Nearly Full,\n",
      "Predicted=['DH-Storage Services'],\n",
      "Original=DH-Storage Services\n",
      "0.999743\n",
      "\n",
      "X=Allscripts Unable login User ID jphanthaphonsy HDUV done Reset password Able login Issue resolved,\n",
      "Predicted=['DH-Enterprise IT Service Cntr'],\n",
      "Original=DH-Enterprise IT Service Cntr\n",
      "0.999185\n",
      "\n",
      "X=Network account Issue Unable log User locked User ID,\n",
      "Predicted=['DH-Enterprise IT Service Cntr'],\n",
      "Original=DH-Enterprise IT Service Cntr\n",
      "0.980345\n",
      "\n",
      "X=Desktop II application slow II IP,\n",
      "Predicted=['DH-Enterprise IT Service Cntr'],\n",
      "Original=DH-Enterprise IT Service Cntr\n",
      "0.441777\n",
      "\n",
      "X=The monitor shoows signal error,\n",
      "Predicted=['DH-SW-EUS StJoseph'],\n",
      "Original=DH-NC-EUS Red Bluff\n",
      "0.282447\n",
      "\n",
      "X=Lawson login issue guided login employee number network password,\n",
      "Predicted=['DH-Enterprise IT Service Cntr'],\n",
      "Original=DH-Enterprise IT Service Cntr\n",
      "0.991659\n",
      "\n",
      "X=Invision password reset userid,\n",
      "Predicted=['DH-Enterprise IT Service Cntr'],\n",
      "Original=DH-Enterprise IT Service Cntr\n",
      "0.984095\n",
      "\n",
      "X=Artiva TIER MFT CFT SEND payload partner failed Letters Mercy Hospitals Bakersfield CMPF,\n",
      "Predicted=['DHE-Integration Svs MFT'],\n",
      "Original=DHE-Integration Svs MFT\n",
      "0.99946\n",
      "\n",
      "X=Outlook Unable connect Dev id,\n",
      "Predicted=['DH-Enterprise IT Service Cntr'],\n",
      "Original=DH-Enterprise IT Service Cntr\n",
      "0.398643\n",
      "\n",
      "X=Icons need added Devid,\n",
      "Predicted=['DH-Enterprise IT Service Cntr'],\n",
      "Original=DH-Enterprise IT Service Cntr\n",
      "0.487678\n",
      "\n",
      "X=Unable login Userid Systen name,\n",
      "Predicted=['DH-Enterprise IT Service Cntr'],\n",
      "Original=DH-Enterprise IT Service Cntr\n",
      "0.934411\n",
      "\n",
      "X=desktop RGA cable need replaced,\n",
      "Predicted=['DH-SW-EUS Chandler'],\n",
      "Original=DH-SW-EUS StJoseph\n",
      "0.433069\n",
      "\n",
      "X=Axway mailgate account locked support ehrdocs com,\n",
      "Predicted=['DH-Enterprise IT Service Cntr'],\n",
      "Original=DH-Enterprise IT Service Cntr\n",
      "0.933555\n",
      "\n",
      "X=I need voicemail password reset I also need name associated phone Right show Janet I call I assuming p,\n",
      "Predicted=['DH-Helpdesk RRE'],\n",
      "Original=DH-SW-Telcom Chandler\n",
      "0.359175\n",
      "\n",
      "X=CHW mdf main crmc MAIN CRMC AP Not Associated With Controller,\n",
      "Predicted=['DHE-NS-Data'],\n",
      "Original=DHE-NS-Data\n",
      "0.991188\n",
      "\n",
      "X=application missing Dignity health folder ip add dev id dep labor delivery loc Mercy Gilbert Medical Cen,\n",
      "Predicted=['DH-SW-EUS StJoseph'],\n",
      "Original=DH-SW-EUS Gilbert\n",
      "0.462984\n",
      "\n",
      "X=network customer wanted acc unlocked user id itatlonghari unlocked network account customer able login issue resolved,\n",
      "Predicted=['DH-Enterprise IT Service Cntr'],\n",
      "Original=DH-Enterprise IT Service Cntr\n",
      "0.99952\n",
      "\n",
      "X=network account account locked user name KRuiz unlocked issue reso,\n",
      "Predicted=['DH-Enterprise IT Service Cntr'],\n",
      "Original=DH-Enterprise IT Service Cntr\n",
      "0.993041\n",
      "\n",
      "X=Internet Browser Internet Browser Issue,\n",
      "Predicted=['DH-Enterprise IT Service Cntr'],\n",
      "Original=DH-Mail\n",
      "0.503116\n",
      "\n",
      "X=Kyocera printer blurry image print,\n",
      "Predicted=['DH-MPS Kyocera'],\n",
      "Original=DH-MPS Kyocera\n",
      "0.943912\n",
      "\n",
      "X=CHW bay sfmh mob Network Outage,\n",
      "Predicted=['DHE-NS-Data'],\n",
      "Original=DHE-NS-Data\n",
      "0.999876\n",
      "\n",
      "X=Outlook getting security prompt password issue resolved,\n",
      "Predicted=['DH-Enterprise IT Service Cntr'],\n",
      "Original=DH-Enterprise IT Service Cntr\n",
      "0.989369\n",
      "\n",
      "X=Citrix Printer Issue Citrix Printer Issue,\n",
      "Predicted=['DH-Enterprise IT Service Cntr'],\n",
      "Original=DH-SC-EUS SLA StMary\n",
      "0.343796\n",
      "\n",
      "X=Active Job Completed Exit Status,\n",
      "Predicted=['DH-Data Protection Services'],\n",
      "Original=DH-Data Protection Services\n",
      "0.81583\n",
      "\n",
      "X=Network id Unable login user id removed lock ble login able work,\n",
      "Predicted=['DH-Enterprise IT Service Cntr'],\n",
      "Original=DH-Enterprise IT Service Cntr\n",
      "0.987158\n",
      "\n",
      "X=PC Monitor Keyboard Mouse PC Monitor Keyboard Mouse Issue,\n",
      "Predicted=['DH-SW-EUS Chandler'],\n",
      "Original=DH-SW-EUS Gilbert\n",
      "0.753446\n",
      "\n",
      "X=sjr app chw edu Packet good percentage Threshold set packet good,\n",
      "Predicted=['DHE-Command Center'],\n",
      "Original=DHE-Command Center\n",
      "0.998373\n",
      "\n",
      "X=Teleracking Monitor II dept Telematry floor II impacted multiple,\n",
      "Predicted=['DH-SW-EUS Chandler'],\n",
      "Original=DH-NC-EUS Sac MET\n",
      "0.416917\n",
      "\n",
      "X=CHANGE MASTER CHW mdf main mgmc Port Status Problem,\n",
      "Predicted=['DHE-NS-Data'],\n",
      "Original=DHE-NS-Data\n",
      "0.993579\n",
      "\n",
      "X=zOther Standard Application Issue Helpdesk Standard Application Issue,\n",
      "Predicted=['DH-SW-EUS StJoseph'],\n",
      "Original=DH-ClinApps Surgery\n",
      "0.258565\n",
      "\n",
      "X=ROUNDING CABLE MANAGEMENT,\n",
      "Predicted=['DH-SW-EUS Chandler'],\n",
      "Original=DH-SW-EUS Gilbert\n",
      "0.811807\n",
      "\n",
      "X=Chrome launched popup admin credential,\n",
      "Predicted=['DH-Enterprise IT Service Cntr'],\n",
      "Original=DH-Enterprise IT Service Cntr\n",
      "0.871779\n",
      "\n",
      "X=Upgrade PC,\n",
      "Predicted=['DH-SW-EUS StJoseph'],\n",
      "Original=DH-SC-EUS SLA StMary\n",
      "0.31082\n",
      "\n",
      "X=Flowcast Unable login username Magonzalez,\n",
      "Predicted=['DH-Enterprise IT Service Cntr'],\n",
      "Original=DH-Enterprise IT Service Cntr\n",
      "0.918586\n",
      "\n",
      "X=ADH UMA association Lawson Russell Paulette,\n",
      "Predicted=['DH-Helpdesk RRE'],\n",
      "Original=DHE-Identity Management Ops\n",
      "0.349599\n",
      "\n",
      "X=Jabber Unable login,\n",
      "Predicted=['DH-Enterprise IT Service Cntr'],\n",
      "Original=DH-Enterprise IT Service Cntr\n",
      "0.821083\n",
      "\n",
      "X=Powerchart Single Physician unable sign note Nurses,\n",
      "Predicted=['DH-ClinApps NAS'],\n",
      "Original=DH-ClinApps CPOE\n",
      "0.800734\n",
      "\n",
      "X=Learning Cybersecurity,\n",
      "Predicted=['DH-Helpdesk RRE'],\n",
      "Original=DHE-HR Tier 2 - Talent Management\n",
      "0.290848\n",
      "\n",
      "X=Network Login issue User ID jbaysa hduv done reset share password Issue resolved,\n",
      "Predicted=['DH-Enterprise IT Service Cntr'],\n",
      "Original=DH-Enterprise IT Service Cntr\n",
      "0.998786\n",
      "\n",
      "X=CHW sac chwmf sj Syslog Critical,\n",
      "Predicted=['DHE-NS-Data'],\n",
      "Original=DHE-Non-IT FACILITIES\n",
      "0.998311\n",
      "\n",
      "X=phx vapp chw edu CPU Utilization Threshold set utilization,\n",
      "Predicted=['DHE-Command Center'],\n",
      "Original=DHE-Command Center\n",
      "0.999755\n",
      "\n",
      "X=Disk space PC Perfomrance issue,\n",
      "Predicted=['DH-MPS Kyocera'],\n",
      "Original=DH-SW-EUS StJoseph\n",
      "0.482591\n",
      "\n",
      "X=Allscripts locked user id hduv done password reset issue fixed Susan able login,\n",
      "Predicted=['DH-Enterprise IT Service Cntr'],\n",
      "Original=DH-Enterprise IT Service Cntr\n",
      "0.997893\n",
      "\n",
      "X=Access unable place order draft note,\n",
      "Predicted=['DH-SW-EUS StJoseph'],\n",
      "Original=DH-ClinApps CPOE\n",
      "0.277583\n",
      "\n",
      "X=Outlook unable receive email user id,\n",
      "Predicted=['DH-Enterprise IT Service Cntr'],\n",
      "Original=DH-Enterprise IT Service Cntr\n",
      "0.913803\n",
      "\n",
      "X=Pause Backups Clients Test Policies Failing NBU Comm Test,\n",
      "Predicted=['DH-Storage Services'],\n",
      "Original=DH-Data Protection Services\n",
      "0.232972\n",
      "\n",
      "X=ADT Other Desktop Issue Other Desktop Issue Scanners running extremely slow signature week,\n",
      "Predicted=['DH-SW-EUS Chandler'],\n",
      "Original=DHE-RCM-AppOp-Applications\n",
      "0.445919\n",
      "\n",
      "X=Data Cross From Invision Cerner Firstnet,\n",
      "Predicted=['DH-Helpdesk RRE'],\n",
      "Original=DHE-RCM-AppOpSupport-Invision\n",
      "0.297762\n",
      "\n",
      "X=Problem Amber Light Flashing Asset Location S,\n",
      "Predicted=['DHE-Command Center'],\n",
      "Original=DHE-Command Center\n",
      "0.965754\n"
     ]
    }
   ],
   "source": [
    "#Print unseen data, predicted value, original value\n",
    "for i in range(50):\n",
    "    print(\"\\nX=%s,\\nPredicted=%s,\\nOriginal=%s\" % (Xnew[i], label_encoder.inverse_transform([argmax(ynew[i, :])]),Ynew_orig[i]))\n",
    "    print(np.max(ynew[i, :]))\n",
    "    #print(\"\")\n",
    "    #print(ynew[i, :])"
   ]
  },
  {
   "cell_type": "code",
   "execution_count": 107,
   "metadata": {},
   "outputs": [
    {
     "name": "stdout",
     "output_type": "stream",
     "text": [
      "Saved model to disk\n"
     ]
    }
   ],
   "source": [
    "import pickle\n",
    "with open('../model/2/tokenizer_ci.pickle', 'wb') as handle:\n",
    "    pickle.dump(tok, handle, protocol=pickle.HIGHEST_PROTOCOL)\n",
    "with open('../model/2/le_ci.pickle', 'wb') as handle:\n",
    "    pickle.dump(label_encoder, handle, protocol=pickle.HIGHEST_PROTOCOL)\n",
    "model_json = model.to_json()\n",
    "with open(\"../model/2/model_ci.json\", \"w\") as json_file:\n",
    "    json_file.write(model_json)\n",
    "model.save_weights(\"../model/2/model_ci.h5\")\n",
    "print(\"Saved model to disk\")"
   ]
  },
  {
   "cell_type": "code",
   "execution_count": 55,
   "metadata": {
    "scrolled": true
   },
   "outputs": [
    {
     "name": "stdout",
     "output_type": "stream",
     "text": [
      "dict_keys(['val_loss', 'val_acc', 'loss', 'acc'])\n"
     ]
    },
    {
     "data": {
      "image/png": "[encoded data removed]",
      "text/plain": [
       "<matplotlib.figure.Figure at 0x2b8d88e8eb8>"
      ]
     },
     "metadata": {},
     "output_type": "display_data"
    },
    {
     "data": {
      "image/png": "[encoded data removed]",
      "text/plain": [
       "<matplotlib.figure.Figure at 0x2b8d89214e0>"
      ]
     },
     "metadata": {},
     "output_type": "display_data"
    }
   ],
   "source": [
    "print(history.history.keys())\n",
    "# summarize history for accuracy\n",
    "plt.plot(history.history['acc'])\n",
    "plt.plot(history.history['val_acc'])\n",
    "plt.title('Model Accuracy')\n",
    "plt.ylabel('accuracy')\n",
    "plt.xlabel('epoch')\n",
    "plt.legend(['train', 'validate'], loc='upper left')\n",
    "plt.show()\n",
    "# summarize history for loss\n",
    "plt.plot(history.history['loss'])\n",
    "plt.plot(history.history['val_loss'])\n",
    "plt.title('Model Loss')\n",
    "plt.ylabel('loss')\n",
    "plt.xlabel('epoch')\n",
    "plt.legend(['train', 'validate'], loc='upper left')\n",
    "plt.show()"
   ]
  },
  {
   "cell_type": "code",
   "execution_count": 42,
   "metadata": {
    "collapsed": true
   },
   "outputs": [],
   "source": [
    "# Import what's needed for the Functions API\n",
    "import matplotlib.pyplot as plt\n",
    "import scikitplot as skplt\n",
    "\n",
    "from sklearn.metrics import roc_curve, auc\n",
    "from textwrap import wrap\n",
    "#from sklearn import svm, datasets\n",
    "from sklearn.metrics import confusion_matrix"
   ]
  },
  {
   "cell_type": "code",
   "execution_count": 43,
   "metadata": {
    "collapsed": true
   },
   "outputs": [],
   "source": [
    "#labels = [ '\\n'.join(wrap(l, 20)) for l in labels ]\n",
    "# Plot a confusion matrix.\n",
    "# cm is the confusion matrix, names are the names of the classes.\n",
    "def plot_confusion_matrix(cm, names, title='Confusion matrix', cmap=plt.cm.Blues):\n",
    "    plt.imshow(cm, interpolation='nearest', cmap=cmap)\n",
    "    plt.title(title)\n",
    "    plt.colorbar()\n",
    "    names = [ '\\n'.join(wrap(l, 20)) for l in names ]\n",
    "    tick_marks = np.arange(len(names))\n",
    "    plt.xticks(tick_marks, names, rotation=90)\n",
    "    plt.yticks(tick_marks, names)\n",
    "    plt.tight_layout()\n",
    "    plt.ylabel('True label')\n",
    "    plt.xlabel('Predicted label')\n",
    "# Plot an ROC. pred - the predictions, y - the expected output.\n",
    "def plot_roc(pred,y):\n",
    "    fpr, tpr, _ = roc_curve(y, pred)\n",
    "    roc_auc = auc(fpr, tpr)\n",
    "\n",
    "    plt.figure()\n",
    "    plt.plot(fpr, tpr, label='ROC curve (area = %0.2f)' % roc_auc)\n",
    "    plt.plot([0, 1], [0, 1], 'k--')\n",
    "    plt.xlim([0.0, 1.0])\n",
    "    plt.ylim([0.0, 1.05])\n",
    "    plt.xlabel('False Positive Rate')\n",
    "    plt.ylabel('True Positive Rate')\n",
    "    plt.title('Receiver Operating Characteristic (ROC)')\n",
    "    plt.legend(loc=\"lower right\")\n",
    "    plt.show()"
   ]
  },
  {
   "cell_type": "code",
   "execution_count": 66,
   "metadata": {},
   "outputs": [
    {
     "name": "stdout",
     "output_type": "stream",
     "text": [
      "(6503,) (6503, 12) (6503,)\n"
     ]
    }
   ],
   "source": [
    "pred = model.predict(test_sequences_matrix)\n",
    "pred = np.argmax(pred,axis=1)\n",
    "y_test2 = np.argmax(Y_test,axis=1)\n",
    "\n",
    "print(pred.shape,Y_test.shape,y_test2.shape)"
   ]
  },
  {
   "cell_type": "code",
   "execution_count": 67,
   "metadata": {
    "scrolled": true
   },
   "outputs": [
    {
     "data": {
      "image/png": "[encoded data removed]",
      "text/plain": [
       "<matplotlib.figure.Figure at 0x26f810ebcf8>"
      ]
     },
     "metadata": {},
     "output_type": "display_data"
    }
   ],
   "source": [
    "#confusion matrix\n",
    "# Get current size\n",
    "fig_size = plt.rcParams[\"figure.figsize\"]\n",
    " \n",
    "# Prints: [8.0, 6.0]\n",
    "#print (\"Current size:\", fig_size)\n",
    " \n",
    "# Set figure width to 12 and height to 9\n",
    "fig_size[0] = 10\n",
    "fig_size[1] = 8\n",
    "plt.rcParams[\"figure.figsize\"] = fig_size\n",
    "\n",
    "labels= label_encoder.classes_\n",
    "    \n",
    "# Compute confusion matrix\n",
    "cm = confusion_matrix(y_test2, pred)\n",
    "np.set_printoptions(precision=2)\n",
    "#print('Confusion matrix, without normalization')\n",
    "#print(cm)\n",
    "#plt.figure()\n",
    "#plot_confusion_matrix(cm, labels)\n",
    "\n",
    "# Normalize the confusion matrix by row (i.e by the number of samples\n",
    "# in each class)\n",
    "cm_normalized = cm.astype('float') / cm.sum(axis=1)[:, np.newaxis]\n",
    "#print('Normalized confusion matrix')\n",
    "#print(cm_normalized)\n",
    "plt.figure()\n",
    "plot_confusion_matrix(cm_normalized, labels, title='Normalized confusion matrix')\n",
    "plt.savefig('cm_ag_2.png', dpi=100)\n",
    "plt.show()"
   ]
  },
  {
   "cell_type": "code",
   "execution_count": 67,
   "metadata": {},
   "outputs": [
    {
     "data": {
      "text/plain": [
       "Text(0.5,1,'Data distribution')"
      ]
     },
     "execution_count": 67,
     "metadata": {},
     "output_type": "execute_result"
    },
    {
     "data": {
      "image/png": "[encoded data removed]",
      "text/plain": [
       "<matplotlib.figure.Figure at 0x2b8d8cb6668>"
      ]
     },
     "metadata": {},
     "output_type": "display_data"
    }
   ],
   "source": [
    "sns.countplot(Y)\n",
    "names1 = [ '\\n'.join(wrap(l, 20)) for l in labels ]\n",
    "tick_marks = np.arange(len(names1))\n",
    "plt.xticks(tick_marks, names1, rotation=45)\n",
    "plt.ylabel('Label')\n",
    "plt.title('Data distribution')"
   ]
  },
  {
   "cell_type": "code",
   "execution_count": 79,
   "metadata": {},
   "outputs": [
    {
     "name": "stdout",
     "output_type": "stream",
     "text": [
      "                               precision    recall  f1-score   support\n",
      "\n",
      "DH-Enterprise IT Service Cntr       0.84      0.65      0.73       262\n",
      "           DHE-Command Center       0.78      0.95      0.86       289\n",
      "                  DHE-NS-Data       0.88      0.92      0.90      2654\n",
      "      DHE-Integration Svs MFT       0.38      0.42      0.40       291\n",
      "          DH-Storage Services       0.89      0.88      0.88       205\n",
      "              DH-ClinApps NAS       0.55      0.46      0.51       185\n",
      "           DH-SW-EUS Chandler       0.29      0.40      0.33       270\n",
      "  DH-Data Protection Services       0.94      0.93      0.93       191\n",
      "               DH-MPS Kyocera       0.97      0.87      0.92       762\n",
      "           DH-SW-EUS StJoseph       0.89      0.94      0.92       236\n",
      "              DH-Helpdesk RRE       0.99      0.98      0.98      1008\n",
      "                 DHE-SecAdmin       0.00      0.00      0.00       150\n",
      "\n",
      "                  avg / total       0.83      0.84      0.83      6503\n",
      "\n"
     ]
    },
    {
     "name": "stderr",
     "output_type": "stream",
     "text": [
      "C:\\Users\\124578\\AppData\\Local\\Continuum\\anaconda2\\envs\\py36\\lib\\site-packages\\sklearn\\metrics\\classification.py:1135: UndefinedMetricWarning: Precision and F-score are ill-defined and being set to 0.0 in labels with no predicted samples.\n",
      "  'precision', 'predicted', average, warn_for)\n"
     ]
    }
   ],
   "source": [
    "from sklearn import metrics\n",
    "print(metrics.classification_report(y_test2, pred, \n",
    "                                    target_names=df5.Assignment_group.unique()))"
   ]
  },
  {
   "cell_type": "code",
   "execution_count": null,
   "metadata": {
    "collapsed": true
   },
   "outputs": [],
   "source": []
  }
 ],
 "metadata": {
  "kernelspec": {
   "display_name": "Python 3",
   "language": "python",
   "name": "python3"
  },
  "language_info": {
   "codemirror_mode": {
    "name": "ipython",
    "version": 3
   },
   "file_extension": ".py",
   "mimetype": "text/x-python",
   "name": "python",
   "nbconvert_exporter": "python",
   "pygments_lexer": "ipython3",
   "version": "3.6.3"
  }
 },
 "nbformat": 4,
 "nbformat_minor": 1
}
