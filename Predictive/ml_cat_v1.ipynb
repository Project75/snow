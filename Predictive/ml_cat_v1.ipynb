{
 "cells": [
  {
   "cell_type": "code",
   "execution_count": 10,
   "metadata": {
    "collapsed": true
   },
   "outputs": [],
   "source": [
    "import pandas as pd\n",
    "df = pd.read_csv('dump_cat.csv')\n"
   ]
  },
  {
   "cell_type": "code",
   "execution_count": 39,
   "metadata": {
    "collapsed": true
   },
   "outputs": [],
   "source": [
    "import matplotlib.pyplot as plt\n",
    "import numpy as np\n",
    "from sklearn.metrics import confusion_matrix\n",
    "from sklearn.model_selection import train_test_split"
   ]
  },
  {
   "cell_type": "code",
   "execution_count": 3,
   "metadata": {},
   "outputs": [
    {
     "data": {
      "text/html": [
       "<div>\n",
       "<style scoped>\n",
       "    .dataframe tbody tr th:only-of-type {\n",
       "        vertical-align: middle;\n",
       "    }\n",
       "\n",
       "    .dataframe tbody tr th {\n",
       "        vertical-align: top;\n",
       "    }\n",
       "\n",
       "    .dataframe thead th {\n",
       "        text-align: right;\n",
       "    }\n",
       "</style>\n",
       "<table border=\"1\" class=\"dataframe\">\n",
       "  <thead>\n",
       "    <tr style=\"text-align: right;\">\n",
       "      <th></th>\n",
       "      <th>Unnamed: 0</th>\n",
       "      <th>Short_description</th>\n",
       "      <th>Category</th>\n",
       "    </tr>\n",
       "  </thead>\n",
       "  <tbody>\n",
       "    <tr>\n",
       "      <th>0</th>\n",
       "      <td>0</td>\n",
       "      <td>'phx-vapp-770.chw.edu':CPU Utilization is '96'...</td>\n",
       "      <td>Server</td>\n",
       "    </tr>\n",
       "    <tr>\n",
       "      <th>1</th>\n",
       "      <td>1</td>\n",
       "      <td>nmscust02-1 : CHW-as1-k21-main-edc  { Ethernet...</td>\n",
       "      <td>Network</td>\n",
       "    </tr>\n",
       "    <tr>\n",
       "      <th>2</th>\n",
       "      <td>2</td>\n",
       "      <td>'chw-viis-512.chw.edu':CPU Utilization is '97'...</td>\n",
       "      <td>Server</td>\n",
       "    </tr>\n",
       "    <tr>\n",
       "      <th>3</th>\n",
       "      <td>3</td>\n",
       "      <td>nmscust02-3 : CHW-as1-idf2-infusion-agch : 10....</td>\n",
       "      <td>Network</td>\n",
       "    </tr>\n",
       "    <tr>\n",
       "      <th>4</th>\n",
       "      <td>4</td>\n",
       "      <td>Exchange Mailbox task not running</td>\n",
       "      <td>Server</td>\n",
       "    </tr>\n",
       "  </tbody>\n",
       "</table>\n",
       "</div>"
      ],
      "text/plain": [
       "   Unnamed: 0                                  Short_description Category\n",
       "0           0  'phx-vapp-770.chw.edu':CPU Utilization is '96'...   Server\n",
       "1           1  nmscust02-1 : CHW-as1-k21-main-edc  { Ethernet...  Network\n",
       "2           2  'chw-viis-512.chw.edu':CPU Utilization is '97'...   Server\n",
       "3           3  nmscust02-3 : CHW-as1-idf2-infusion-agch : 10....  Network\n",
       "4           4                  Exchange Mailbox task not running   Server"
      ]
     },
     "execution_count": 3,
     "metadata": {},
     "output_type": "execute_result"
    }
   ],
   "source": [
    "#df = df[pd.notnull(df['Consumer complaint narrative'])]\n",
    "df.head()"
   ]
  },
  {
   "cell_type": "code",
   "execution_count": 11,
   "metadata": {},
   "outputs": [
    {
     "data": {
      "text/plain": [
       "(98223, 3)"
      ]
     },
     "execution_count": 11,
     "metadata": {},
     "output_type": "execute_result"
    }
   ],
   "source": [
    "df.shape"
   ]
  },
  {
   "cell_type": "code",
   "execution_count": 12,
   "metadata": {},
   "outputs": [
    {
     "name": "stdout",
     "output_type": "stream",
     "text": [
      "<class 'pandas.core.frame.DataFrame'>\n",
      "RangeIndex: 98223 entries, 0 to 98222\n",
      "Data columns (total 2 columns):\n",
      "Short_description    98222 non-null object\n",
      "Category             98223 non-null object\n",
      "dtypes: object(2)\n",
      "memory usage: 1.5+ MB\n"
     ]
    }
   ],
   "source": [
    "\n",
    "df=df.drop(columns=['Unnamed: 0'])\n",
    "df.info()"
   ]
  },
  {
   "cell_type": "code",
   "execution_count": 15,
   "metadata": {},
   "outputs": [
    {
     "name": "stdout",
     "output_type": "stream",
     "text": [
      "(97655, 2)\n"
     ]
    }
   ],
   "source": [
    "#get data with at leaset count(assignment group)>200\n",
    "df1 = df.drop_duplicates()\n",
    "print(df1.shape)\n"
   ]
  },
  {
   "cell_type": "code",
   "execution_count": 21,
   "metadata": {},
   "outputs": [
    {
     "name": "stdout",
     "output_type": "stream",
     "text": [
      "(67867, 2)\n"
     ]
    }
   ],
   "source": [
    "df1_1 = df1[df1.Category.isin(['Application','End User Services','Security']) ]\n",
    "print(df1_1.shape)\n"
   ]
  },
  {
   "cell_type": "code",
   "execution_count": 22,
   "metadata": {},
   "outputs": [
    {
     "name": "stdout",
     "output_type": "stream",
     "text": [
      "(33934, 2)\n"
     ]
    }
   ],
   "source": [
    "df1_2 = df1_1.sample(frac=0.5).reset_index(drop=True)\n",
    "print(df1_2.shape)"
   ]
  },
  {
   "cell_type": "code",
   "execution_count": 23,
   "metadata": {},
   "outputs": [
    {
     "name": "stdout",
     "output_type": "stream",
     "text": [
      "(29788, 2)\n"
     ]
    }
   ],
   "source": [
    "df1_3 = df1[~df1.Category.isin(['Application','End User Services','Security']) ]\n",
    "print(df1_3.shape)\n"
   ]
  },
  {
   "cell_type": "code",
   "execution_count": 20,
   "metadata": {},
   "outputs": [
    {
     "name": "stdout",
     "output_type": "stream",
     "text": [
      "(24729, 2)\n"
     ]
    }
   ],
   "source": [
    "print(df1_2.shape)"
   ]
  },
  {
   "cell_type": "code",
   "execution_count": 24,
   "metadata": {},
   "outputs": [
    {
     "name": "stdout",
     "output_type": "stream",
     "text": [
      "(63722, 2)\n"
     ]
    }
   ],
   "source": [
    "df2= pd.concat([df1_2,df1_3])\n",
    "print(df2.shape)\n"
   ]
  },
  {
   "cell_type": "code",
   "execution_count": 27,
   "metadata": {},
   "outputs": [
    {
     "data": {
      "text/plain": [
       "End User Services    12351\n",
       "Application          11695\n",
       "Security              9888\n",
       "Server                9559\n",
       "Network               7041\n",
       "HelpDesk              6529\n",
       "EAI Interface         2199\n",
       "Telecom               2140\n",
       "Human Resources        948\n",
       "Storage                775\n",
       "EAI Component          597\n",
       "Name: Category, dtype: int64"
      ]
     },
     "execution_count": 27,
     "metadata": {},
     "output_type": "execute_result"
    }
   ],
   "source": [
    "df2.Category.value_counts()"
   ]
  },
  {
   "cell_type": "code",
   "execution_count": 28,
   "metadata": {
    "collapsed": true
   },
   "outputs": [],
   "source": [
    "df=df2"
   ]
  },
  {
   "cell_type": "code",
   "execution_count": null,
   "metadata": {
    "collapsed": true
   },
   "outputs": [],
   "source": [
    "df3 = df2.sample(frac=0.5).reset_index(drop=True)\n",
    "print(df3.shape)"
   ]
  },
  {
   "cell_type": "code",
   "execution_count": 6,
   "metadata": {
    "collapsed": true
   },
   "outputs": [],
   "source": [
    "df.to_csv('dump_cat2.csv',index=False)"
   ]
  },
  {
   "cell_type": "code",
   "execution_count": 6,
   "metadata": {
    "collapsed": true
   },
   "outputs": [],
   "source": [
    "df=df.sample(frac=0.5).reset_index(drop=True)"
   ]
  },
  {
   "cell_type": "code",
   "execution_count": 29,
   "metadata": {
    "collapsed": true
   },
   "outputs": [],
   "source": [
    "df['category_id'] = df['Category'].factorize()[0]\n",
    "from io import StringIO\n",
    "category_id_df = df[['Category','category_id']].drop_duplicates().sort_values('category_id')\n",
    "category_to_id = dict(category_id_df.values)\n",
    "id_to_category = dict(category_id_df[[ 'category_id','Category']].values)"
   ]
  },
  {
   "cell_type": "code",
   "execution_count": 30,
   "metadata": {},
   "outputs": [
    {
     "data": {
      "text/html": [
       "<div>\n",
       "<style scoped>\n",
       "    .dataframe tbody tr th:only-of-type {\n",
       "        vertical-align: middle;\n",
       "    }\n",
       "\n",
       "    .dataframe tbody tr th {\n",
       "        vertical-align: top;\n",
       "    }\n",
       "\n",
       "    .dataframe thead th {\n",
       "        text-align: right;\n",
       "    }\n",
       "</style>\n",
       "<table border=\"1\" class=\"dataframe\">\n",
       "  <thead>\n",
       "    <tr style=\"text-align: right;\">\n",
       "      <th></th>\n",
       "      <th>Short_description</th>\n",
       "      <th>Category</th>\n",
       "      <th>category_id</th>\n",
       "    </tr>\n",
       "  </thead>\n",
       "  <tbody>\n",
       "    <tr>\n",
       "      <th>0</th>\n",
       "      <td>Run DBAN on the following pcs(see details)</td>\n",
       "      <td>End User Services</td>\n",
       "      <td>0</td>\n",
       "    </tr>\n",
       "    <tr>\n",
       "      <th>1</th>\n",
       "      <td>keyboard is sticky and keys are sticking Room ...</td>\n",
       "      <td>End User Services</td>\n",
       "      <td>0</td>\n",
       "    </tr>\n",
       "    <tr>\n",
       "      <th>2</th>\n",
       "      <td>Desktop//freezed after restart//Devid sjheonc0...</td>\n",
       "      <td>End User Services</td>\n",
       "      <td>0</td>\n",
       "    </tr>\n",
       "    <tr>\n",
       "      <th>3</th>\n",
       "      <td>Cerner Firstnet-- need patient to be removed</td>\n",
       "      <td>Application</td>\n",
       "      <td>1</td>\n",
       "    </tr>\n",
       "    <tr>\n",
       "      <th>4</th>\n",
       "      <td>Label printer issue-SJRXADT16</td>\n",
       "      <td>End User Services</td>\n",
       "      <td>0</td>\n",
       "    </tr>\n",
       "  </tbody>\n",
       "</table>\n",
       "</div>"
      ],
      "text/plain": [
       "                                   Short_description           Category  \\\n",
       "0        Run DBAN on the following pcs(see details)   End User Services   \n",
       "1  keyboard is sticky and keys are sticking Room ...  End User Services   \n",
       "2  Desktop//freezed after restart//Devid sjheonc0...  End User Services   \n",
       "3      Cerner Firstnet-- need patient to be removed         Application   \n",
       "4                      Label printer issue-SJRXADT16  End User Services   \n",
       "\n",
       "   category_id  \n",
       "0            0  \n",
       "1            0  \n",
       "2            0  \n",
       "3            1  \n",
       "4            0  "
      ]
     },
     "execution_count": 30,
     "metadata": {},
     "output_type": "execute_result"
    }
   ],
   "source": [
    "df.head()"
   ]
  },
  {
   "cell_type": "code",
   "execution_count": 31,
   "metadata": {
    "scrolled": true
   },
   "outputs": [
    {
     "data": {
      "image/png": "[encoded data removed]",
      "text/plain": [
       "<matplotlib.figure.Figure at 0x185dee63e80>"
      ]
     },
     "metadata": {},
     "output_type": "display_data"
    }
   ],
   "source": [
    "\n",
    "fig = plt.figure(figsize=(8,6))\n",
    "df.groupby('Category').Short_description.count().plot.bar(ylim=0)\n",
    "plt.show()"
   ]
  },
  {
   "cell_type": "code",
   "execution_count": 33,
   "metadata": {
    "collapsed": true
   },
   "outputs": [],
   "source": [
    "from nltk.stem import WordNetLemmatizer\n",
    "from nltk.corpus import stopwords\n",
    "stop = stopwords.words('english')\n",
    "lemmer=WordNetLemmatizer()\n",
    "#remove special chars\n",
    "pat = r'[_]+'\n",
    "df.Short_description = df.Short_description.str.replace(pat, '',regex=True)\n",
    "pat = r'[^A-Za-z0-9 ]+'\n",
    "df.Short_description = df.Short_description.str.replace(pat, '',regex=True)\n",
    "df.Short_description = df.Short_description.apply(lambda x: ' '.join([lemmer.lemmatize(word) for word in str(x).split()]))\n",
    "df.Short_description = df.Short_description.apply(lambda x: ' '.join([word for word in str(x).split() if word not in (stop)]))\n",
    "\n",
    "df.Short_description = df.Short_description.apply(lambda x: ' '.join([word for word in str(x).split() if word.isalpha() ]))"
   ]
  },
  {
   "cell_type": "code",
   "execution_count": 32,
   "metadata": {},
   "outputs": [
    {
     "data": {
      "text/plain": [
       "(63722, 3)"
      ]
     },
     "execution_count": 32,
     "metadata": {},
     "output_type": "execute_result"
    }
   ],
   "source": [
    "df.shape"
   ]
  },
  {
   "cell_type": "code",
   "execution_count": 34,
   "metadata": {},
   "outputs": [
    {
     "data": {
      "text/plain": [
       "(63722, 8812)"
      ]
     },
     "execution_count": 34,
     "metadata": {},
     "output_type": "execute_result"
    }
   ],
   "source": [
    "from sklearn.feature_extraction.text import TfidfVectorizer\n",
    "\n",
    "tfidf = TfidfVectorizer(sublinear_tf=True, min_df=5, norm='l2', encoding='latin-1', ngram_range=(1, 2), stop_words='english')\n",
    "\n",
    "features = tfidf.fit_transform(df.Short_description).toarray()\n",
    "labels = df.category_id\n",
    "features.shape"
   ]
  },
  {
   "cell_type": "code",
   "execution_count": 11,
   "metadata": {},
   "outputs": [
    {
     "ename": "MemoryError",
     "evalue": "",
     "output_type": "error",
     "traceback": [
      "\u001b[1;31m---------------------------------------------------------------------------\u001b[0m",
      "\u001b[1;31mMemoryError\u001b[0m                               Traceback (most recent call last)",
      "\u001b[1;32m<ipython-input-11-7c0c01e9005c>\u001b[0m in \u001b[0;36m<module>\u001b[1;34m()\u001b[0m\n\u001b[0;32m     20\u001b[0m \u001b[1;32mfor\u001b[0m \u001b[0mimodel\u001b[0m \u001b[1;32min\u001b[0m \u001b[0mmodels\u001b[0m\u001b[1;33m:\u001b[0m\u001b[1;33m\u001b[0m\u001b[0m\n\u001b[0;32m     21\u001b[0m   \u001b[0mmodel_name\u001b[0m \u001b[1;33m=\u001b[0m \u001b[0mimodel\u001b[0m\u001b[1;33m.\u001b[0m\u001b[0m__class__\u001b[0m\u001b[1;33m.\u001b[0m\u001b[0m__name__\u001b[0m\u001b[1;33m\u001b[0m\u001b[0m\n\u001b[1;32m---> 22\u001b[1;33m   \u001b[0maccuracies\u001b[0m \u001b[1;33m=\u001b[0m \u001b[0mcross_val_score\u001b[0m\u001b[1;33m(\u001b[0m\u001b[0mimodel\u001b[0m\u001b[1;33m,\u001b[0m \u001b[0mfeatures\u001b[0m\u001b[1;33m,\u001b[0m \u001b[0mlabels\u001b[0m\u001b[1;33m,\u001b[0m \u001b[0mscoring\u001b[0m\u001b[1;33m=\u001b[0m\u001b[1;34m'accuracy'\u001b[0m\u001b[1;33m,\u001b[0m \u001b[0mcv\u001b[0m\u001b[1;33m=\u001b[0m\u001b[0mCV\u001b[0m\u001b[1;33m)\u001b[0m\u001b[1;33m\u001b[0m\u001b[0m\n\u001b[0m\u001b[0;32m     23\u001b[0m   \u001b[1;32mfor\u001b[0m \u001b[0mfold_idx\u001b[0m\u001b[1;33m,\u001b[0m \u001b[0maccuracy\u001b[0m \u001b[1;32min\u001b[0m \u001b[0menumerate\u001b[0m\u001b[1;33m(\u001b[0m\u001b[0maccuracies\u001b[0m\u001b[1;33m)\u001b[0m\u001b[1;33m:\u001b[0m\u001b[1;33m\u001b[0m\u001b[0m\n\u001b[0;32m     24\u001b[0m     \u001b[0mentries\u001b[0m\u001b[1;33m.\u001b[0m\u001b[0mappend\u001b[0m\u001b[1;33m(\u001b[0m\u001b[1;33m(\u001b[0m\u001b[0mmodel_name\u001b[0m\u001b[1;33m,\u001b[0m \u001b[0mfold_idx\u001b[0m\u001b[1;33m,\u001b[0m \u001b[0maccuracy\u001b[0m\u001b[1;33m)\u001b[0m\u001b[1;33m)\u001b[0m\u001b[1;33m\u001b[0m\u001b[0m\n",
      "\u001b[1;32m~\\AppData\\Local\\Continuum\\anaconda2\\envs\\py36\\lib\\site-packages\\sklearn\\model_selection\\_validation.py\u001b[0m in \u001b[0;36mcross_val_score\u001b[1;34m(estimator, X, y, groups, scoring, cv, n_jobs, verbose, fit_params, pre_dispatch)\u001b[0m\n\u001b[0;32m    340\u001b[0m                                 \u001b[0mn_jobs\u001b[0m\u001b[1;33m=\u001b[0m\u001b[0mn_jobs\u001b[0m\u001b[1;33m,\u001b[0m \u001b[0mverbose\u001b[0m\u001b[1;33m=\u001b[0m\u001b[0mverbose\u001b[0m\u001b[1;33m,\u001b[0m\u001b[1;33m\u001b[0m\u001b[0m\n\u001b[0;32m    341\u001b[0m                                 \u001b[0mfit_params\u001b[0m\u001b[1;33m=\u001b[0m\u001b[0mfit_params\u001b[0m\u001b[1;33m,\u001b[0m\u001b[1;33m\u001b[0m\u001b[0m\n\u001b[1;32m--> 342\u001b[1;33m                                 pre_dispatch=pre_dispatch)\n\u001b[0m\u001b[0;32m    343\u001b[0m     \u001b[1;32mreturn\u001b[0m \u001b[0mcv_results\u001b[0m\u001b[1;33m[\u001b[0m\u001b[1;34m'test_score'\u001b[0m\u001b[1;33m]\u001b[0m\u001b[1;33m\u001b[0m\u001b[0m\n\u001b[0;32m    344\u001b[0m \u001b[1;33m\u001b[0m\u001b[0m\n",
      "\u001b[1;32m~\\AppData\\Local\\Continuum\\anaconda2\\envs\\py36\\lib\\site-packages\\sklearn\\model_selection\\_validation.py\u001b[0m in \u001b[0;36mcross_validate\u001b[1;34m(estimator, X, y, groups, scoring, cv, n_jobs, verbose, fit_params, pre_dispatch, return_train_score)\u001b[0m\n\u001b[0;32m    204\u001b[0m             \u001b[0mfit_params\u001b[0m\u001b[1;33m,\u001b[0m \u001b[0mreturn_train_score\u001b[0m\u001b[1;33m=\u001b[0m\u001b[0mreturn_train_score\u001b[0m\u001b[1;33m,\u001b[0m\u001b[1;33m\u001b[0m\u001b[0m\n\u001b[0;32m    205\u001b[0m             return_times=True)\n\u001b[1;32m--> 206\u001b[1;33m         for train, test in cv.split(X, y, groups))\n\u001b[0m\u001b[0;32m    207\u001b[0m \u001b[1;33m\u001b[0m\u001b[0m\n\u001b[0;32m    208\u001b[0m     \u001b[1;32mif\u001b[0m \u001b[0mreturn_train_score\u001b[0m\u001b[1;33m:\u001b[0m\u001b[1;33m\u001b[0m\u001b[0m\n",
      "\u001b[1;32m~\\AppData\\Local\\Continuum\\anaconda2\\envs\\py36\\lib\\site-packages\\sklearn\\externals\\joblib\\parallel.py\u001b[0m in \u001b[0;36m__call__\u001b[1;34m(self, iterable)\u001b[0m\n\u001b[0;32m    777\u001b[0m             \u001b[1;31m# was dispatched. In particular this covers the edge\u001b[0m\u001b[1;33m\u001b[0m\u001b[1;33m\u001b[0m\u001b[0m\n\u001b[0;32m    778\u001b[0m             \u001b[1;31m# case of Parallel used with an exhausted iterator.\u001b[0m\u001b[1;33m\u001b[0m\u001b[1;33m\u001b[0m\u001b[0m\n\u001b[1;32m--> 779\u001b[1;33m             \u001b[1;32mwhile\u001b[0m \u001b[0mself\u001b[0m\u001b[1;33m.\u001b[0m\u001b[0mdispatch_one_batch\u001b[0m\u001b[1;33m(\u001b[0m\u001b[0miterator\u001b[0m\u001b[1;33m)\u001b[0m\u001b[1;33m:\u001b[0m\u001b[1;33m\u001b[0m\u001b[0m\n\u001b[0m\u001b[0;32m    780\u001b[0m                 \u001b[0mself\u001b[0m\u001b[1;33m.\u001b[0m\u001b[0m_iterating\u001b[0m \u001b[1;33m=\u001b[0m \u001b[1;32mTrue\u001b[0m\u001b[1;33m\u001b[0m\u001b[0m\n\u001b[0;32m    781\u001b[0m             \u001b[1;32melse\u001b[0m\u001b[1;33m:\u001b[0m\u001b[1;33m\u001b[0m\u001b[0m\n",
      "\u001b[1;32m~\\AppData\\Local\\Continuum\\anaconda2\\envs\\py36\\lib\\site-packages\\sklearn\\externals\\joblib\\parallel.py\u001b[0m in \u001b[0;36mdispatch_one_batch\u001b[1;34m(self, iterator)\u001b[0m\n\u001b[0;32m    623\u001b[0m                 \u001b[1;32mreturn\u001b[0m \u001b[1;32mFalse\u001b[0m\u001b[1;33m\u001b[0m\u001b[0m\n\u001b[0;32m    624\u001b[0m             \u001b[1;32melse\u001b[0m\u001b[1;33m:\u001b[0m\u001b[1;33m\u001b[0m\u001b[0m\n\u001b[1;32m--> 625\u001b[1;33m                 \u001b[0mself\u001b[0m\u001b[1;33m.\u001b[0m\u001b[0m_dispatch\u001b[0m\u001b[1;33m(\u001b[0m\u001b[0mtasks\u001b[0m\u001b[1;33m)\u001b[0m\u001b[1;33m\u001b[0m\u001b[0m\n\u001b[0m\u001b[0;32m    626\u001b[0m                 \u001b[1;32mreturn\u001b[0m \u001b[1;32mTrue\u001b[0m\u001b[1;33m\u001b[0m\u001b[0m\n\u001b[0;32m    627\u001b[0m \u001b[1;33m\u001b[0m\u001b[0m\n",
      "\u001b[1;32m~\\AppData\\Local\\Continuum\\anaconda2\\envs\\py36\\lib\\site-packages\\sklearn\\externals\\joblib\\parallel.py\u001b[0m in \u001b[0;36m_dispatch\u001b[1;34m(self, batch)\u001b[0m\n\u001b[0;32m    586\u001b[0m         \u001b[0mdispatch_timestamp\u001b[0m \u001b[1;33m=\u001b[0m \u001b[0mtime\u001b[0m\u001b[1;33m.\u001b[0m\u001b[0mtime\u001b[0m\u001b[1;33m(\u001b[0m\u001b[1;33m)\u001b[0m\u001b[1;33m\u001b[0m\u001b[0m\n\u001b[0;32m    587\u001b[0m         \u001b[0mcb\u001b[0m \u001b[1;33m=\u001b[0m \u001b[0mBatchCompletionCallBack\u001b[0m\u001b[1;33m(\u001b[0m\u001b[0mdispatch_timestamp\u001b[0m\u001b[1;33m,\u001b[0m \u001b[0mlen\u001b[0m\u001b[1;33m(\u001b[0m\u001b[0mbatch\u001b[0m\u001b[1;33m)\u001b[0m\u001b[1;33m,\u001b[0m \u001b[0mself\u001b[0m\u001b[1;33m)\u001b[0m\u001b[1;33m\u001b[0m\u001b[0m\n\u001b[1;32m--> 588\u001b[1;33m         \u001b[0mjob\u001b[0m \u001b[1;33m=\u001b[0m \u001b[0mself\u001b[0m\u001b[1;33m.\u001b[0m\u001b[0m_backend\u001b[0m\u001b[1;33m.\u001b[0m\u001b[0mapply_async\u001b[0m\u001b[1;33m(\u001b[0m\u001b[0mbatch\u001b[0m\u001b[1;33m,\u001b[0m \u001b[0mcallback\u001b[0m\u001b[1;33m=\u001b[0m\u001b[0mcb\u001b[0m\u001b[1;33m)\u001b[0m\u001b[1;33m\u001b[0m\u001b[0m\n\u001b[0m\u001b[0;32m    589\u001b[0m         \u001b[0mself\u001b[0m\u001b[1;33m.\u001b[0m\u001b[0m_jobs\u001b[0m\u001b[1;33m.\u001b[0m\u001b[0mappend\u001b[0m\u001b[1;33m(\u001b[0m\u001b[0mjob\u001b[0m\u001b[1;33m)\u001b[0m\u001b[1;33m\u001b[0m\u001b[0m\n\u001b[0;32m    590\u001b[0m \u001b[1;33m\u001b[0m\u001b[0m\n",
      "\u001b[1;32m~\\AppData\\Local\\Continuum\\anaconda2\\envs\\py36\\lib\\site-packages\\sklearn\\externals\\joblib\\_parallel_backends.py\u001b[0m in \u001b[0;36mapply_async\u001b[1;34m(self, func, callback)\u001b[0m\n\u001b[0;32m    109\u001b[0m     \u001b[1;32mdef\u001b[0m \u001b[0mapply_async\u001b[0m\u001b[1;33m(\u001b[0m\u001b[0mself\u001b[0m\u001b[1;33m,\u001b[0m \u001b[0mfunc\u001b[0m\u001b[1;33m,\u001b[0m \u001b[0mcallback\u001b[0m\u001b[1;33m=\u001b[0m\u001b[1;32mNone\u001b[0m\u001b[1;33m)\u001b[0m\u001b[1;33m:\u001b[0m\u001b[1;33m\u001b[0m\u001b[0m\n\u001b[0;32m    110\u001b[0m         \u001b[1;34m\"\"\"Schedule a func to be run\"\"\"\u001b[0m\u001b[1;33m\u001b[0m\u001b[0m\n\u001b[1;32m--> 111\u001b[1;33m         \u001b[0mresult\u001b[0m \u001b[1;33m=\u001b[0m \u001b[0mImmediateResult\u001b[0m\u001b[1;33m(\u001b[0m\u001b[0mfunc\u001b[0m\u001b[1;33m)\u001b[0m\u001b[1;33m\u001b[0m\u001b[0m\n\u001b[0m\u001b[0;32m    112\u001b[0m         \u001b[1;32mif\u001b[0m \u001b[0mcallback\u001b[0m\u001b[1;33m:\u001b[0m\u001b[1;33m\u001b[0m\u001b[0m\n\u001b[0;32m    113\u001b[0m             \u001b[0mcallback\u001b[0m\u001b[1;33m(\u001b[0m\u001b[0mresult\u001b[0m\u001b[1;33m)\u001b[0m\u001b[1;33m\u001b[0m\u001b[0m\n",
      "\u001b[1;32m~\\AppData\\Local\\Continuum\\anaconda2\\envs\\py36\\lib\\site-packages\\sklearn\\externals\\joblib\\_parallel_backends.py\u001b[0m in \u001b[0;36m__init__\u001b[1;34m(self, batch)\u001b[0m\n\u001b[0;32m    330\u001b[0m         \u001b[1;31m# Don't delay the application, to avoid keeping the input\u001b[0m\u001b[1;33m\u001b[0m\u001b[1;33m\u001b[0m\u001b[0m\n\u001b[0;32m    331\u001b[0m         \u001b[1;31m# arguments in memory\u001b[0m\u001b[1;33m\u001b[0m\u001b[1;33m\u001b[0m\u001b[0m\n\u001b[1;32m--> 332\u001b[1;33m         \u001b[0mself\u001b[0m\u001b[1;33m.\u001b[0m\u001b[0mresults\u001b[0m \u001b[1;33m=\u001b[0m \u001b[0mbatch\u001b[0m\u001b[1;33m(\u001b[0m\u001b[1;33m)\u001b[0m\u001b[1;33m\u001b[0m\u001b[0m\n\u001b[0m\u001b[0;32m    333\u001b[0m \u001b[1;33m\u001b[0m\u001b[0m\n\u001b[0;32m    334\u001b[0m     \u001b[1;32mdef\u001b[0m \u001b[0mget\u001b[0m\u001b[1;33m(\u001b[0m\u001b[0mself\u001b[0m\u001b[1;33m)\u001b[0m\u001b[1;33m:\u001b[0m\u001b[1;33m\u001b[0m\u001b[0m\n",
      "\u001b[1;32m~\\AppData\\Local\\Continuum\\anaconda2\\envs\\py36\\lib\\site-packages\\sklearn\\externals\\joblib\\parallel.py\u001b[0m in \u001b[0;36m__call__\u001b[1;34m(self)\u001b[0m\n\u001b[0;32m    129\u001b[0m \u001b[1;33m\u001b[0m\u001b[0m\n\u001b[0;32m    130\u001b[0m     \u001b[1;32mdef\u001b[0m \u001b[0m__call__\u001b[0m\u001b[1;33m(\u001b[0m\u001b[0mself\u001b[0m\u001b[1;33m)\u001b[0m\u001b[1;33m:\u001b[0m\u001b[1;33m\u001b[0m\u001b[0m\n\u001b[1;32m--> 131\u001b[1;33m         \u001b[1;32mreturn\u001b[0m \u001b[1;33m[\u001b[0m\u001b[0mfunc\u001b[0m\u001b[1;33m(\u001b[0m\u001b[1;33m*\u001b[0m\u001b[0margs\u001b[0m\u001b[1;33m,\u001b[0m \u001b[1;33m**\u001b[0m\u001b[0mkwargs\u001b[0m\u001b[1;33m)\u001b[0m \u001b[1;32mfor\u001b[0m \u001b[0mfunc\u001b[0m\u001b[1;33m,\u001b[0m \u001b[0margs\u001b[0m\u001b[1;33m,\u001b[0m \u001b[0mkwargs\u001b[0m \u001b[1;32min\u001b[0m \u001b[0mself\u001b[0m\u001b[1;33m.\u001b[0m\u001b[0mitems\u001b[0m\u001b[1;33m]\u001b[0m\u001b[1;33m\u001b[0m\u001b[0m\n\u001b[0m\u001b[0;32m    132\u001b[0m \u001b[1;33m\u001b[0m\u001b[0m\n\u001b[0;32m    133\u001b[0m     \u001b[1;32mdef\u001b[0m \u001b[0m__len__\u001b[0m\u001b[1;33m(\u001b[0m\u001b[0mself\u001b[0m\u001b[1;33m)\u001b[0m\u001b[1;33m:\u001b[0m\u001b[1;33m\u001b[0m\u001b[0m\n",
      "\u001b[1;32m~\\AppData\\Local\\Continuum\\anaconda2\\envs\\py36\\lib\\site-packages\\sklearn\\externals\\joblib\\parallel.py\u001b[0m in \u001b[0;36m<listcomp>\u001b[1;34m(.0)\u001b[0m\n\u001b[0;32m    129\u001b[0m \u001b[1;33m\u001b[0m\u001b[0m\n\u001b[0;32m    130\u001b[0m     \u001b[1;32mdef\u001b[0m \u001b[0m__call__\u001b[0m\u001b[1;33m(\u001b[0m\u001b[0mself\u001b[0m\u001b[1;33m)\u001b[0m\u001b[1;33m:\u001b[0m\u001b[1;33m\u001b[0m\u001b[0m\n\u001b[1;32m--> 131\u001b[1;33m         \u001b[1;32mreturn\u001b[0m \u001b[1;33m[\u001b[0m\u001b[0mfunc\u001b[0m\u001b[1;33m(\u001b[0m\u001b[1;33m*\u001b[0m\u001b[0margs\u001b[0m\u001b[1;33m,\u001b[0m \u001b[1;33m**\u001b[0m\u001b[0mkwargs\u001b[0m\u001b[1;33m)\u001b[0m \u001b[1;32mfor\u001b[0m \u001b[0mfunc\u001b[0m\u001b[1;33m,\u001b[0m \u001b[0margs\u001b[0m\u001b[1;33m,\u001b[0m \u001b[0mkwargs\u001b[0m \u001b[1;32min\u001b[0m \u001b[0mself\u001b[0m\u001b[1;33m.\u001b[0m\u001b[0mitems\u001b[0m\u001b[1;33m]\u001b[0m\u001b[1;33m\u001b[0m\u001b[0m\n\u001b[0m\u001b[0;32m    132\u001b[0m \u001b[1;33m\u001b[0m\u001b[0m\n\u001b[0;32m    133\u001b[0m     \u001b[1;32mdef\u001b[0m \u001b[0m__len__\u001b[0m\u001b[1;33m(\u001b[0m\u001b[0mself\u001b[0m\u001b[1;33m)\u001b[0m\u001b[1;33m:\u001b[0m\u001b[1;33m\u001b[0m\u001b[0m\n",
      "\u001b[1;32m~\\AppData\\Local\\Continuum\\anaconda2\\envs\\py36\\lib\\site-packages\\sklearn\\model_selection\\_validation.py\u001b[0m in \u001b[0;36m_fit_and_score\u001b[1;34m(estimator, X, y, scorer, train, test, verbose, parameters, fit_params, return_train_score, return_parameters, return_n_test_samples, return_times, error_score)\u001b[0m\n\u001b[0;32m    447\u001b[0m \u001b[1;33m\u001b[0m\u001b[0m\n\u001b[0;32m    448\u001b[0m     \u001b[0mX_train\u001b[0m\u001b[1;33m,\u001b[0m \u001b[0my_train\u001b[0m \u001b[1;33m=\u001b[0m \u001b[0m_safe_split\u001b[0m\u001b[1;33m(\u001b[0m\u001b[0mestimator\u001b[0m\u001b[1;33m,\u001b[0m \u001b[0mX\u001b[0m\u001b[1;33m,\u001b[0m \u001b[0my\u001b[0m\u001b[1;33m,\u001b[0m \u001b[0mtrain\u001b[0m\u001b[1;33m)\u001b[0m\u001b[1;33m\u001b[0m\u001b[0m\n\u001b[1;32m--> 449\u001b[1;33m     \u001b[0mX_test\u001b[0m\u001b[1;33m,\u001b[0m \u001b[0my_test\u001b[0m \u001b[1;33m=\u001b[0m \u001b[0m_safe_split\u001b[0m\u001b[1;33m(\u001b[0m\u001b[0mestimator\u001b[0m\u001b[1;33m,\u001b[0m \u001b[0mX\u001b[0m\u001b[1;33m,\u001b[0m \u001b[0my\u001b[0m\u001b[1;33m,\u001b[0m \u001b[0mtest\u001b[0m\u001b[1;33m,\u001b[0m \u001b[0mtrain\u001b[0m\u001b[1;33m)\u001b[0m\u001b[1;33m\u001b[0m\u001b[0m\n\u001b[0m\u001b[0;32m    450\u001b[0m \u001b[1;33m\u001b[0m\u001b[0m\n\u001b[0;32m    451\u001b[0m     \u001b[0mis_multimetric\u001b[0m \u001b[1;33m=\u001b[0m \u001b[1;32mnot\u001b[0m \u001b[0mcallable\u001b[0m\u001b[1;33m(\u001b[0m\u001b[0mscorer\u001b[0m\u001b[1;33m)\u001b[0m\u001b[1;33m\u001b[0m\u001b[0m\n",
      "\u001b[1;32m~\\AppData\\Local\\Continuum\\anaconda2\\envs\\py36\\lib\\site-packages\\sklearn\\utils\\metaestimators.py\u001b[0m in \u001b[0;36m_safe_split\u001b[1;34m(estimator, X, y, indices, train_indices)\u001b[0m\n\u001b[0;32m    198\u001b[0m             \u001b[0mX_subset\u001b[0m \u001b[1;33m=\u001b[0m \u001b[0mX\u001b[0m\u001b[1;33m[\u001b[0m\u001b[0mnp\u001b[0m\u001b[1;33m.\u001b[0m\u001b[0mix_\u001b[0m\u001b[1;33m(\u001b[0m\u001b[0mindices\u001b[0m\u001b[1;33m,\u001b[0m \u001b[0mtrain_indices\u001b[0m\u001b[1;33m)\u001b[0m\u001b[1;33m]\u001b[0m\u001b[1;33m\u001b[0m\u001b[0m\n\u001b[0;32m    199\u001b[0m     \u001b[1;32melse\u001b[0m\u001b[1;33m:\u001b[0m\u001b[1;33m\u001b[0m\u001b[0m\n\u001b[1;32m--> 200\u001b[1;33m         \u001b[0mX_subset\u001b[0m \u001b[1;33m=\u001b[0m \u001b[0msafe_indexing\u001b[0m\u001b[1;33m(\u001b[0m\u001b[0mX\u001b[0m\u001b[1;33m,\u001b[0m \u001b[0mindices\u001b[0m\u001b[1;33m)\u001b[0m\u001b[1;33m\u001b[0m\u001b[0m\n\u001b[0m\u001b[0;32m    201\u001b[0m \u001b[1;33m\u001b[0m\u001b[0m\n\u001b[0;32m    202\u001b[0m     \u001b[1;32mif\u001b[0m \u001b[0my\u001b[0m \u001b[1;32mis\u001b[0m \u001b[1;32mnot\u001b[0m \u001b[1;32mNone\u001b[0m\u001b[1;33m:\u001b[0m\u001b[1;33m\u001b[0m\u001b[0m\n",
      "\u001b[1;32m~\\AppData\\Local\\Continuum\\anaconda2\\envs\\py36\\lib\\site-packages\\sklearn\\utils\\__init__.py\u001b[0m in \u001b[0;36msafe_indexing\u001b[1;34m(X, indices)\u001b[0m\n\u001b[0;32m    158\u001b[0m                                    indices.dtype.kind == 'i'):\n\u001b[0;32m    159\u001b[0m             \u001b[1;31m# This is often substantially faster than X[indices]\u001b[0m\u001b[1;33m\u001b[0m\u001b[1;33m\u001b[0m\u001b[0m\n\u001b[1;32m--> 160\u001b[1;33m             \u001b[1;32mreturn\u001b[0m \u001b[0mX\u001b[0m\u001b[1;33m.\u001b[0m\u001b[0mtake\u001b[0m\u001b[1;33m(\u001b[0m\u001b[0mindices\u001b[0m\u001b[1;33m,\u001b[0m \u001b[0maxis\u001b[0m\u001b[1;33m=\u001b[0m\u001b[1;36m0\u001b[0m\u001b[1;33m)\u001b[0m\u001b[1;33m\u001b[0m\u001b[0m\n\u001b[0m\u001b[0;32m    161\u001b[0m         \u001b[1;32melse\u001b[0m\u001b[1;33m:\u001b[0m\u001b[1;33m\u001b[0m\u001b[0m\n\u001b[0;32m    162\u001b[0m             \u001b[1;32mreturn\u001b[0m \u001b[0mX\u001b[0m\u001b[1;33m[\u001b[0m\u001b[0mindices\u001b[0m\u001b[1;33m]\u001b[0m\u001b[1;33m\u001b[0m\u001b[0m\n",
      "\u001b[1;31mMemoryError\u001b[0m: "
     ]
    }
   ],
   "source": [
    "from sklearn.linear_model import SGDClassifier\n",
    "from sklearn.linear_model import LogisticRegression\n",
    "#from sklearn.ensemble import RandomForestClassifier\n",
    "#from sklearn.naive_bayes import MultinomialNB\n",
    "from sklearn.svm import LinearSVC\n",
    "\n",
    "from sklearn.model_selection import cross_val_score\n",
    "\n",
    "\n",
    "models = [\n",
    "    #RandomForestClassifier(n_estimators=200, max_depth=3, random_state=0),\n",
    "    LinearSVC()#,\n",
    "    #MultinomialNB(),\n",
    "    #LogisticRegression()\n",
    "    #SGDClassifier(),\n",
    "]\n",
    "CV = 5\n",
    "cv_df = pd.DataFrame(index=range(CV * len(models)))\n",
    "entries = []\n",
    "for imodel in models:\n",
    "  model_name = imodel.__class__.__name__\n",
    "  accuracies = cross_val_score(imodel, features, labels, scoring='accuracy', cv=CV)\n",
    "  for fold_idx, accuracy in enumerate(accuracies):\n",
    "    entries.append((model_name, fold_idx, accuracy))\n",
    "cv_df = pd.DataFrame(entries, columns=['model_name', 'fold_idx', 'accuracy'])"
   ]
  },
  {
   "cell_type": "code",
   "execution_count": 97,
   "metadata": {},
   "outputs": [
    {
     "data": {
      "text/plain": [
       "model_name\n",
       "LinearSVC    0.56415\n",
       "Name: accuracy, dtype: float64"
      ]
     },
     "execution_count": 97,
     "metadata": {},
     "output_type": "execute_result"
    }
   ],
   "source": [
    "import seaborn as sns\n",
    "\n",
    "sns.boxplot(x='model_name', y='accuracy', data=cv_df)\n",
    "sns.stripplot(x='model_name', y='accuracy', data=cv_df, \n",
    "              size=8, jitter=True, edgecolor=\"gray\", linewidth=2)\n",
    "#plt.show()\n",
    "\n",
    "cv_df.groupby('model_name').accuracy.mean()"
   ]
  },
  {
   "cell_type": "code",
   "execution_count": 35,
   "metadata": {
    "collapsed": true
   },
   "outputs": [],
   "source": [
    "\n",
    "\n",
    "\n",
    "X_train, X_test, y_train, y_test, indices_train, indices_test = train_test_split(features, labels, df.index, test_size=0.33, random_state=0)\n"
   ]
  },
  {
   "cell_type": "code",
   "execution_count": 36,
   "metadata": {},
   "outputs": [
    {
     "name": "stdout",
     "output_type": "stream",
     "text": [
      "(42693, 8812) (42693,)\n"
     ]
    }
   ],
   "source": [
    "print(X_train.shape, y_train.shape)"
   ]
  },
  {
   "cell_type": "code",
   "execution_count": 99,
   "metadata": {
    "collapsed": true
   },
   "outputs": [],
   "source": [
    "from imblearn.over_sampling import SMOTE\n",
    "sm = SMOTE(random_state=12)\n"
   ]
  },
  {
   "cell_type": "code",
   "execution_count": 100,
   "metadata": {
    "collapsed": true
   },
   "outputs": [],
   "source": [
    "X_train_sm, y_train_sm = sm.fit_sample(X_train, y_train)"
   ]
  },
  {
   "cell_type": "code",
   "execution_count": 101,
   "metadata": {
    "collapsed": true
   },
   "outputs": [],
   "source": [
    "X_test_sm, y_test_sm = sm.fit_sample(X_test, y_test)"
   ]
  },
  {
   "cell_type": "code",
   "execution_count": 50,
   "metadata": {},
   "outputs": [
    {
     "name": "stdout",
     "output_type": "stream",
     "text": [
      "(31302, 4025) (31302,)\n"
     ]
    }
   ],
   "source": [
    "print(X_train_sm.shape, y_train_sm.shape)"
   ]
  },
  {
   "cell_type": "code",
   "execution_count": 37,
   "metadata": {},
   "outputs": [
    {
     "data": {
      "text/plain": [
       "array([8268, 7841, 6667, 6336, 4716, 1485,  640, 4395,  409,  496, 1440], dtype=int64)"
      ]
     },
     "execution_count": 37,
     "metadata": {},
     "output_type": "execute_result"
    }
   ],
   "source": [
    "np.bincount(y_train)"
   ]
  },
  {
   "cell_type": "code",
   "execution_count": 136,
   "metadata": {
    "collapsed": true
   },
   "outputs": [],
   "source": [
    "#unique, counts = np.unique(y_train, return_counts=True)\n",
    "#dict(zip(unique, counts))"
   ]
  },
  {
   "cell_type": "code",
   "execution_count": 65,
   "metadata": {},
   "outputs": [
    {
     "data": {
      "text/plain": [
       "array([428, 428, 428, 428, 428, 428, 428, 428, 428, 428, 428, 428, 428,\n",
       "       428, 428, 428, 428, 428, 428, 428, 428, 428, 428, 428, 428, 428,\n",
       "       428, 428, 428, 428, 428, 428, 428, 428, 428, 428, 428], dtype=int64)"
      ]
     },
     "execution_count": 65,
     "metadata": {},
     "output_type": "execute_result"
    }
   ],
   "source": [
    "np.bincount(y_test_sm)"
   ]
  },
  {
   "cell_type": "code",
   "execution_count": 40,
   "metadata": {},
   "outputs": [
    {
     "data": {
      "text/plain": [
       "LinearSVC(C=1.0, class_weight=None, dual=True, fit_intercept=True,\n",
       "     intercept_scaling=1, loss='squared_hinge', max_iter=1000,\n",
       "     multi_class='ovr', penalty='l2', random_state=None, tol=0.0001,\n",
       "     verbose=0)"
      ]
     },
     "execution_count": 40,
     "metadata": {},
     "output_type": "execute_result"
    }
   ],
   "source": [
    "from sklearn.svm import LinearSVC\n",
    "model = LinearSVC()\n",
    "model.fit(X_train, y_train)\n",
    "#y_pred = model.predict(X_test)"
   ]
  },
  {
   "cell_type": "code",
   "execution_count": 41,
   "metadata": {
    "collapsed": true
   },
   "outputs": [],
   "source": [
    "y_pred = model.predict(X_test)\n",
    "\n",
    "conf_mat = confusion_matrix(y_test, y_pred)"
   ]
  },
  {
   "cell_type": "code",
   "execution_count": 103,
   "metadata": {
    "collapsed": true
   },
   "outputs": [],
   "source": [
    "y_pred_sm = model.predict(X_test_sm)\n",
    "\n",
    "conf_mat = confusion_matrix(y_test_sm, y_pred_sm)"
   ]
  },
  {
   "cell_type": "code",
   "execution_count": 43,
   "metadata": {
    "scrolled": true
   },
   "outputs": [
    {
     "data": {
      "image/png": "[encoded data removed]",
      "text/plain": [
       "<matplotlib.figure.Figure at 0x185e0ea96d8>"
      ]
     },
     "metadata": {},
     "output_type": "display_data"
    },
    {
     "data": {
      "image/png": "[encoded data removed]",
      "text/plain": [
       "<matplotlib.figure.Figure at 0x185e5f04cf8>"
      ]
     },
     "metadata": {},
     "output_type": "display_data"
    }
   ],
   "source": [
    "\n",
    "import itertools\n",
    "cm_normalized = conf_mat.astype('float') / conf_mat.sum(axis=1)[:, np.newaxis]\n",
    "\n",
    "fig_size = plt.rcParams[\"figure.figsize\"]\n",
    "fig_size[0] = 10\n",
    "fig_size[1] = 8\n",
    "plt.rcParams[\"figure.figsize\"] = fig_size\n",
    "#print('Normalized confusion matrix')\n",
    "#print(cm_normalized)\n",
    "plt.figure()\n",
    "\n",
    "plt.imshow(cm_normalized, interpolation='nearest', cmap=plt.cm.Blues)\n",
    "#plt.title(title)\n",
    "plt.colorbar()\n",
    "names=category_id_df.Category.values#, yticklabels=category_id_df.Assignment_group.values\n",
    "#names = [ '\\n'.join(wrap(l, 20)) for l in names ]\n",
    "tick_marks = np.arange(len(names))\n",
    "plt.xticks(tick_marks, names, rotation=90)\n",
    "plt.yticks(tick_marks, names)\n",
    "plt.tight_layout()\n",
    "plt.ylabel('True label')\n",
    "plt.xlabel('Predicted label')\n",
    "\n",
    "#thresh = cm_normalized.max() / 1.5\n",
    "#for i, j in itertools.product(range(cm_normalized.shape[0]), range(cm_normalized.shape[1])):\n",
    "#        plt.text(j, i, \"{:0.2f}\".format(cm_normalized[i, j]),\n",
    "#        horizontalalignment=\"center\",\n",
    "#        color=\"white\" if cm_normalized[i, j] > thresh else \"black\")\n",
    "\n",
    "plt.savefig('cm_cat_ml1.png', dpi=100)\n",
    "plt.show()"
   ]
  },
  {
   "cell_type": "code",
   "execution_count": 33,
   "metadata": {
    "scrolled": false
   },
   "outputs": [
    {
     "data": {
      "text/plain": [
       "LinearSVC(C=1.0, class_weight=None, dual=True, fit_intercept=True,\n",
       "     intercept_scaling=1, loss='squared_hinge', max_iter=1000,\n",
       "     multi_class='ovr', penalty='l2', random_state=None, tol=0.0001,\n",
       "     verbose=0)"
      ]
     },
     "execution_count": 33,
     "metadata": {},
     "output_type": "execute_result"
    }
   ],
   "source": [
    "model.fit(features, labels)"
   ]
  },
  {
   "cell_type": "code",
   "execution_count": 45,
   "metadata": {
    "scrolled": true
   },
   "outputs": [
    {
     "name": "stdout",
     "output_type": "stream",
     "text": [
      "                   precision    recall  f1-score   support\n",
      "\n",
      "End User Services       0.75      0.81      0.78      4083\n",
      "      Application       0.68      0.75      0.72      3854\n",
      "         Security       0.85      0.88      0.86      3221\n",
      "           Server       0.94      0.92      0.93      3223\n",
      "          Network       0.96      0.97      0.97      2325\n",
      "    EAI Interface       0.96      0.96      0.96       714\n",
      "  Human Resources       0.67      0.63      0.65       308\n",
      "         HelpDesk       0.61      0.40      0.49      2134\n",
      "    EAI Component       0.97      0.91      0.94       188\n",
      "          Storage       0.97      0.96      0.97       279\n",
      "          Telecom       0.93      0.91      0.92       700\n",
      "\n",
      "      avg / total       0.81      0.81      0.81     21029\n",
      "\n"
     ]
    }
   ],
   "source": [
    "from sklearn import metrics\n",
    "print(metrics.classification_report(y_test, y_pred, \n",
    "                                    target_names=df['Category'].unique()))"
   ]
  },
  {
   "cell_type": "code",
   "execution_count": 109,
   "metadata": {},
   "outputs": [
    {
     "ename": "NameError",
     "evalue": "name 'accuracy_score' is not defined",
     "output_type": "error",
     "traceback": [
      "\u001b[1;31m---------------------------------------------------------------------------\u001b[0m",
      "\u001b[1;31mNameError\u001b[0m                                 Traceback (most recent call last)",
      "\u001b[1;32m<ipython-input-109-e793b59a24dc>\u001b[0m in \u001b[0;36m<module>\u001b[1;34m()\u001b[0m\n\u001b[0;32m      5\u001b[0m \u001b[0mpredictions\u001b[0m \u001b[1;33m=\u001b[0m \u001b[1;33m[\u001b[0m\u001b[0mround\u001b[0m\u001b[1;33m(\u001b[0m\u001b[0mvalue\u001b[0m\u001b[1;33m)\u001b[0m \u001b[1;32mfor\u001b[0m \u001b[0mvalue\u001b[0m \u001b[1;32min\u001b[0m \u001b[0my_pred2\u001b[0m\u001b[1;33m]\u001b[0m\u001b[1;33m\u001b[0m\u001b[0m\n\u001b[0;32m      6\u001b[0m \u001b[1;31m# evaluate predictions\u001b[0m\u001b[1;33m\u001b[0m\u001b[1;33m\u001b[0m\u001b[0m\n\u001b[1;32m----> 7\u001b[1;33m \u001b[0maccuracy2\u001b[0m \u001b[1;33m=\u001b[0m \u001b[0maccuracy_score\u001b[0m\u001b[1;33m(\u001b[0m\u001b[0my_test2\u001b[0m\u001b[1;33m,\u001b[0m \u001b[0mpredictions\u001b[0m\u001b[1;33m)\u001b[0m\u001b[1;33m\u001b[0m\u001b[0m\n\u001b[0m\u001b[0;32m      8\u001b[0m \u001b[0mprint\u001b[0m\u001b[1;33m(\u001b[0m\u001b[1;34m\"Accuracy: %.2f%%\"\u001b[0m \u001b[1;33m%\u001b[0m \u001b[1;33m(\u001b[0m\u001b[0maccuracy\u001b[0m \u001b[1;33m*\u001b[0m \u001b[1;36m100.0\u001b[0m\u001b[1;33m)\u001b[0m\u001b[1;33m)\u001b[0m\u001b[1;33m\u001b[0m\u001b[0m\n",
      "\u001b[1;31mNameError\u001b[0m: name 'accuracy_score' is not defined"
     ]
    }
   ],
   "source": [
    "model2 = XGBClassifier()\n",
    "model2.fit(X_train, y_train)\n",
    "# make predictions for test data\n",
    "y_pred2 = model2.predict(X_test)\n",
    "predictions = [round(value) for value in y_pred2]\n",
    "# evaluate predictions\n",
    "accuracy2 = accuracy_score(y_test2, predictions)\n",
    "print(\"Accuracy: %.2f%%\" % (accuracy * 100.0))"
   ]
  },
  {
   "cell_type": "code",
   "execution_count": 111,
   "metadata": {},
   "outputs": [
    {
     "name": "stdout",
     "output_type": "stream",
     "text": [
      "Accuracy: 52.67%\n"
     ]
    }
   ],
   "source": [
    "from sklearn.metrics import accuracy_score\n",
    "accuracy2 = accuracy_score(y_test, predictions)\n",
    "print(\"Accuracy: %.2f%%\" % (accuracy2 * 100.0))"
   ]
  },
  {
   "cell_type": "code",
   "execution_count": null,
   "metadata": {
    "collapsed": true
   },
   "outputs": [],
   "source": []
  },
  {
   "cell_type": "code",
   "execution_count": 78,
   "metadata": {},
   "outputs": [
    {
     "name": "stdout",
     "output_type": "stream",
     "text": [
      "\"Monitor   How to increase the brightness\"\n",
      "  - Predicted as: 'DH-SW-EUS Phoenix'\n",
      "\n",
      "\"Kyocera Printer Issue  Kyocera Printer Issue\"\n",
      "  - Predicted as: 'DH-MPS Kyocera'\n",
      "\n",
      "\"Emergency Account Disablement  user ID   Need to be disabled Immediately\"\n",
      "  - Predicted as: 'DHE-SecAdmin'\n",
      "\n",
      "\"Network account lock username  \"\n",
      "  - Predicted as: 'DH-Enterprise IT Service Cntr'\n",
      "\n",
      "\"printer  patient data not printing up from cerner \"\n",
      "  - Predicted as: 'DH-ClinApps NAS'\n",
      "\n",
      "\"network account   password reset  user name  HDUV  done \"\n",
      "  - Predicted as: 'DH-Enterprise IT Service Cntr'\n",
      "\n",
      "\"Helpdesk - Clinical Application Issue\"\n",
      "  - Predicted as: 'DH-ClinApps CPOE'\n",
      "\n",
      "\"Cerner  Access Level is incorrectly provisioned   \"\n",
      "  - Predicted as: 'DHE-SecAdmin'\n",
      "\n"
     ]
    }
   ],
   "source": [
    "texts = [\"Monitor   How to increase the brightness\",\n",
    "         \"Kyocera Printer Issue  Kyocera Printer Issue\",\n",
    "         \"Emergency Account Disablement  user ID   Need to be disabled Immediately\",\n",
    "         \"Network account lock username  \",\n",
    "         \"printer  patient data not printing up from cerner \",\n",
    "         \"network account   password reset  user name  HDUV  done \",\n",
    "         \"Helpdesk - Clinical Application Issue\",\n",
    "        \"Cerner  Access Level is incorrectly provisioned   \"]\n",
    "text_features = tfidf.transform(texts)\n",
    "predictions = model.predict(text_features)\n",
    "for text, predicted in zip(texts, predictions):\n",
    "  print('\"{}\"'.format(text))\n",
    "  print(\"  - Predicted as: '{}'\".format(id_to_category[predicted]))\n",
    "  print(\"\")"
   ]
  },
  {
   "cell_type": "code",
   "execution_count": 54,
   "metadata": {},
   "outputs": [
    {
     "name": "stdout",
     "output_type": "stream",
     "text": [
      "\"Monitor   How to increase the brightness\"\n",
      "  - Predicted as: 'DH-SC-EUS StJohnRMC'\n",
      "\n",
      "\"Kyocera Printer Issue  Kyocera Printer Issue\"\n",
      "  - Predicted as: 'DH-MPS Kyocera'\n",
      "\n",
      "\"Emergency Account Disablement  user ID   Need to be disabled Immediately\"\n",
      "  - Predicted as: 'DHE-SecAdmin'\n",
      "\n",
      "\"Network account lock username  \"\n",
      "  - Predicted as: 'DH-Enterprise IT Service Cntr'\n",
      "\n",
      "\"printer  patient data not printing up from cerner \"\n",
      "  - Predicted as: 'DH-ClinApps NAS'\n",
      "\n",
      "\"network account   password reset  user name  HDUV  done \"\n",
      "  - Predicted as: 'DH-Enterprise IT Service Cntr'\n",
      "\n"
     ]
    }
   ],
   "source": [
    "texts = [\"Monitor   How to increase the brightness\",\n",
    "         \"Kyocera Printer Issue  Kyocera Printer Issue\",\n",
    "         \"Emergency Account Disablement  user ID   Need to be disabled Immediately\",\n",
    "         \"Network account lock username  \",\n",
    "         \"printer  patient data not printing up from cerner \",\n",
    "         \"network account   password reset  user name  HDUV  done \"]\n",
    "text_features = tfidf.transform(texts)\n",
    "predictions = model.predict(text_features)\n",
    "for text, predicted in zip(texts, predictions):\n",
    "  print('\"{}\"'.format(text))\n",
    "  print(\"  - Predicted as: '{}'\".format(id_to_category[predicted]))\n",
    "  print(\"\")"
   ]
  },
  {
   "cell_type": "code",
   "execution_count": 33,
   "metadata": {},
   "outputs": [
    {
     "name": "stdout",
     "output_type": "stream",
     "text": [
      "                                   precision    recall  f1-score   support\n",
      "\n",
      "    DH-Enterprise IT Service Cntr       0.87      0.97      0.92      8256\n",
      "               DH-NC-EUS Stockton       0.32      0.25      0.28       149\n",
      "                DH-SW-EUS Gilbert       0.32      0.36      0.34        85\n",
      "         DHE-RCM-AppOpSupport-MS4       0.68      0.51      0.59       127\n",
      "                  DH-ClinApps HIM       0.37      0.26      0.30        54\n",
      "                  DH-Helpdesk RRE       0.25      0.15      0.18       255\n",
      "     DH-SC-EUS SLA CalifornHospMC       0.35      0.29      0.31        98\n",
      "                DH-NC-EUS Sac MGH       0.47      0.35      0.40       104\n",
      "                DH-NC-EUS Sac MET       0.62      0.47      0.54       128\n",
      "                  DH-ClinApps NAS       0.62      0.63      0.63       252\n",
      "              DH-SC-EUS StJohnRMC       0.31      0.25      0.28       155\n",
      "             DH-ClinApps Pharmacy       0.62      0.61      0.62        92\n",
      "DHE-HR Tier 2 - Talent Management       0.96      0.94      0.95       400\n",
      "      DH-SC-EUS NLA NrthrdgRoscoe       0.56      0.31      0.40       129\n",
      "                DH-GB-EUS Sequoia       0.27      0.17      0.21        70\n",
      "          DH-SC-EUS-SBD-Community       0.33      0.20      0.25        80\n",
      "               DH-SW-EUS StJoseph       0.29      0.22      0.25       318\n",
      "                DH-NC-EUS Sac DDO       0.28      0.18      0.22        62\n",
      "                     DHE-SecAdmin       0.43      0.27      0.33       158\n",
      "                 DH-ClinApps CPOE       0.54      0.53      0.53       118\n",
      "            DH-SW-EUS StRoseSiena       0.31      0.13      0.18        91\n",
      "          DH-NC-Telcom Sacramento       0.65      0.82      0.73        74\n",
      "               DH-SW-EUS Chandler       0.50      0.44      0.47       199\n",
      "                DH-SW-EUS Phoenix       0.32      0.25      0.28       143\n",
      "              DH-GB-EUS Dominican       0.40      0.24      0.30       123\n",
      "                 DH-NC-EUS Merced       0.27      0.14      0.19        84\n",
      "                  DH-ClinApps Lab       0.68      0.59      0.64        69\n",
      "        DH-SC-EUS Bakersfield BMH       0.30      0.27      0.28       132\n",
      "                DH-NC-EUS Redding       0.28      0.29      0.29       157\n",
      "               DH-NC-EUS Sac MSJH       0.41      0.31      0.35        85\n",
      "                   DH-MPS Kyocera       0.74      0.84      0.79       212\n",
      "     DHE-Information Security Ops       0.72      0.40      0.51        73\n",
      "                 DH-SC-EUS Marian       0.40      0.49      0.44        67\n",
      "                   DH-SW-EUS DHMG       0.49      0.33      0.40        78\n",
      "             DH-SC-EUS SLA StMary       0.29      0.21      0.25        70\n",
      "        DH-GB-EUS StMaryMedCenter       0.53      0.24      0.33        68\n",
      "        DH-SC-EUS Bakersfield MHB       0.40      0.24      0.30        95\n",
      "\n",
      "                      avg / total       0.73      0.77      0.74     12910\n",
      "\n"
     ]
    }
   ],
   "source": [
    "from sklearn import metrics\n",
    "print(metrics.classification_report(y_test, y_pred, \n",
    "                                    target_names=df['Assignment_group'].unique()))"
   ]
  },
  {
   "cell_type": "code",
   "execution_count": null,
   "metadata": {
    "collapsed": true
   },
   "outputs": [],
   "source": [
    "from IPython.display import display\n",
    "\n",
    "for predicted in category_id_df.category_id:\n",
    "  for actual in category_id_df.category_id:\n",
    "    if predicted != actual and conf_mat[actual, predicted] >= 6:\n",
    "      print(\"'{}' predicted as '{}' : {} examples.\".format(id_to_category[actual], id_to_category[predicted], conf_mat[actual, predicted]))\n",
    "      display(df.loc[indices_test[(y_test == actual) & (y_pred == predicted)]][['Assignment_group', 'Short_description']])\n",
    "      print('')"
   ]
  },
  {
   "cell_type": "code",
   "execution_count": 11,
   "metadata": {
    "scrolled": false
   },
   "outputs": [
    {
     "name": "stdout",
     "output_type": "stream",
     "text": [
      "# 'DH-ClinApps CPOE':\n",
      "  . Most correlated unigrams:\n",
      "       . ipet\n",
      "       . physician\n",
      "  . Most correlated bigrams:\n",
      "       . physician issue\n",
      "       . cerner physician\n",
      "# 'DH-ClinApps HIM':\n",
      "  . Most correlated unigrams:\n",
      "       . deficiency\n",
      "       . kofax\n",
      "  . Most correlated bigrams:\n",
      "       . report request\n",
      "       . deficiency analysis\n",
      "# 'DH-ClinApps Lab':\n",
      "  . Most correlated unigrams:\n",
      "       . lab\n",
      "       . pathnet\n",
      "  . Most correlated bigrams:\n",
      "       . cerner pathnet\n",
      "       . cerner lab\n",
      "# 'DH-ClinApps NAS':\n",
      "  . Most correlated unigrams:\n",
      "       . shell\n",
      "       . patient\n",
      "  . Most correlated bigrams:\n",
      "       . horizon homecare\n",
      "       . tracking shell\n",
      "# 'DH-ClinApps Pharmacy':\n",
      "  . Most correlated unigrams:\n",
      "       . medication\n",
      "       . sr\n",
      "  . Most correlated bigrams:\n",
      "       . iv infusion\n",
      "       . cerner pharmnet\n",
      "# 'DH-Enterprise IT Service Cntr':\n",
      "  . Most correlated unigrams:\n",
      "       . login\n",
      "       . account\n",
      "  . Most correlated bigrams:\n",
      "       . unable login\n",
      "       . network account\n",
      "# 'DH-GB-EUS Dominican':\n",
      "  . Most correlated unigrams:\n",
      "       . hannah\n",
      "       . dsc\n",
      "  . Most correlated bigrams:\n",
      "       . hospital dsc\n",
      "       . loc dominican\n",
      "# 'DH-GB-EUS Sequoia':\n",
      "  . Most correlated unigrams:\n",
      "       . services\n",
      "       . sequoia\n",
      "  . Most correlated bigrams:\n",
      "       . sequoia health\n",
      "       . loc sequoia\n",
      "# 'DH-GB-EUS StMaryMedCenter':\n",
      "  . Most correlated unigrams:\n",
      "       . francisco\n",
      "       . sf\n",
      "  . Most correlated bigrams:\n",
      "       . francisco smmc\n",
      "       . center san\n",
      "# 'DH-Helpdesk RRE':\n",
      "  . Most correlated unigrams:\n",
      "       . rre\n",
      "       . installation\n",
      "  . Most correlated bigrams:\n",
      "       . icon needs\n",
      "       . needs installed\n",
      "# 'DH-MPS Kyocera':\n",
      "  . Most correlated unigrams:\n",
      "       . paper\n",
      "       . kyocera\n",
      "  . Most correlated bigrams:\n",
      "       . paper jam\n",
      "       . kyocera printer\n",
      "# 'DH-NC-EUS Merced':\n",
      "  . Most correlated unigrams:\n",
      "       . merced\n",
      "       . mmcm\n",
      "  . Most correlated bigrams:\n",
      "       . center merced\n",
      "       . merced mmcm\n",
      "# 'DH-NC-EUS Redding':\n",
      "  . Most correlated unigrams:\n",
      "       . mmcr\n",
      "       . redding\n",
      "  . Most correlated bigrams:\n",
      "       . redding mmcr\n",
      "       . center redding\n",
      "# 'DH-NC-EUS Sac DDO':\n",
      "  . Most correlated unigrams:\n",
      "       . hc\n",
      "       . remediate\n",
      "  . Most correlated bigrams:\n",
      "       . mercy hc\n",
      "       . hc sacramento\n",
      "# 'DH-NC-EUS Sac MET':\n",
      "  . Most correlated unigrams:\n",
      "       . maintenance\n",
      "       . preventive\n",
      "  . Most correlated bigrams:\n",
      "       . preventive maintenance\n",
      "       . hospital rounding\n",
      "# 'DH-NC-EUS Sac MGH':\n",
      "  . Most correlated unigrams:\n",
      "       . mgh\n",
      "       . rounding\n",
      "  . Most correlated bigrams:\n",
      "       . maintenance performed\n",
      "       . performed rounding\n",
      "# 'DH-NC-EUS Sac MSJH':\n",
      "  . Most correlated unigrams:\n",
      "       . msjmc\n",
      "       . vsyncrestorer\n",
      "  . Most correlated bigrams:\n",
      "       . vsyncrestorer installed\n",
      "       . needs vsyncrestorer\n",
      "# 'DH-NC-EUS Stockton':\n",
      "  . Most correlated unigrams:\n",
      "       . stockton\n",
      "       . sjmc\n",
      "  . Most correlated bigrams:\n",
      "       . center stockton\n",
      "       . joseph medical\n",
      "# 'DH-NC-Telcom Sacramento':\n",
      "  . Most correlated unigrams:\n",
      "       . avaya\n",
      "       . phone\n",
      "  . Most correlated bigrams:\n",
      "       . spectra link\n",
      "       . black box\n",
      "# 'DH-SC-EUS Bakersfield BMH':\n",
      "  . Most correlated unigrams:\n",
      "       . amcore\n",
      "       . bmh\n",
      "  . Most correlated bigrams:\n",
      "       . bakersfield memorial\n",
      "       . hospital bmh\n",
      "# 'DH-SC-EUS Bakersfield MHB':\n",
      "  . Most correlated unigrams:\n",
      "       . bluetooth\n",
      "       . mhb\n",
      "  . Most correlated bigrams:\n",
      "       . hospital bakersfield\n",
      "       . bakersfield mhb\n",
      "# 'DH-SC-EUS Marian':\n",
      "  . Most correlated unigrams:\n",
      "       . workstation\n",
      "       . wheels\n",
      "  . Most correlated bigrams:\n",
      "       . workstation wheels\n",
      "       . wow workstation\n",
      "# 'DH-SC-EUS NLA NrthrdgRoscoe':\n",
      "  . Most correlated unigrams:\n",
      "       . roscoe\n",
      "       . northridge\n",
      "  . Most correlated bigrams:\n",
      "       . northridge hospital\n",
      "       . loc northridge\n",
      "# 'DH-SC-EUS SLA CalifornHospMC':\n",
      "  . Most correlated unigrams:\n",
      "       . 742\n",
      "       . california\n",
      "  . Most correlated bigrams:\n",
      "       . 213 742\n",
      "       . california hospital\n",
      "# 'DH-SC-EUS SLA StMary':\n",
      "  . Most correlated unigrams:\n",
      "       . lb\n",
      "       . beach\n",
      "  . Most correlated bigrams:\n",
      "       . long beach\n",
      "       . center long\n",
      "# 'DH-SC-EUS StJohnRMC':\n",
      "  . Most correlated unigrams:\n",
      "       . sjrmc\n",
      "       . johns\n",
      "  . Most correlated bigrams:\n",
      "       . st johns\n",
      "       . johns regional\n",
      "# 'DH-SC-EUS-SBD-Community':\n",
      "  . Most correlated unigrams:\n",
      "       . chsb\n",
      "       . bernardino\n",
      "  . Most correlated bigrams:\n",
      "       . san bernardino\n",
      "       . loc community\n",
      "# 'DH-SW-EUS Chandler':\n",
      "  . Most correlated unigrams:\n",
      "       . crmc\n",
      "       . tower\n",
      "  . Most correlated bigrams:\n",
      "       . cable management\n",
      "       . rounding tower\n",
      "# 'DH-SW-EUS DHMG':\n",
      "  . Most correlated unigrams:\n",
      "       . flowcasting\n",
      "       . fix\n",
      "  . Most correlated bigrams:\n",
      "       . turn computer\n",
      "       . install dragon\n",
      "# 'DH-SW-EUS Gilbert':\n",
      "  . Most correlated unigrams:\n",
      "       . 2nd\n",
      "       . mgmc\n",
      "  . Most correlated bigrams:\n",
      "       . mgmc 2nd\n",
      "       . rounding mgmc\n",
      "# 'DH-SW-EUS Phoenix':\n",
      "  . Most correlated unigrams:\n",
      "       . corporate\n",
      "       . phoenix\n",
      "  . Most correlated bigrams:\n",
      "       . corporate office\n",
      "       . office phoenix\n",
      "# 'DH-SW-EUS StJoseph':\n",
      "  . Most correlated unigrams:\n",
      "       . joseph\n",
      "       . sjhmc\n",
      "  . Most correlated bigrams:\n",
      "       . center sjhmc\n",
      "       . joseph hospital\n",
      "# 'DH-SW-EUS StRoseSiena':\n",
      "  . Most correlated unigrams:\n",
      "       . rose\n",
      "       . siena\n",
      "  . Most correlated bigrams:\n",
      "       . hospital siena\n",
      "       . siena srdh\n",
      "# 'DHE-HR Tier 2 - Talent Management':\n",
      "  . Most correlated unigrams:\n",
      "       . evaluation\n",
      "       . performance\n",
      "  . Most correlated bigrams:\n",
      "       . journey performance\n",
      "       . performance evaluation\n",
      "# 'DHE-Information Security Ops':\n",
      "  . Most correlated unigrams:\n",
      "       . securelink\n",
      "       . phishing\n",
      "  . Most correlated bigrams:\n",
      "       . secure link\n",
      "       . phishing email\n",
      "# 'DHE-RCM-AppOpSupport-MS4':\n",
      "  . Most correlated unigrams:\n",
      "       . ms4\n",
      "       . facesheets\n",
      "  . Most correlated bigrams:\n",
      "       . print ms4\n",
      "       . print facesheets\n",
      "# 'DHE-SecAdmin':\n",
      "  . Most correlated unigrams:\n",
      "       . emergency\n",
      "       . disablement\n",
      "  . Most correlated bigrams:\n",
      "       . emergency account\n",
      "       . account disablement\n"
     ]
    }
   ],
   "source": [
    "from sklearn.feature_selection import chi2\n",
    "import numpy as np\n",
    "\n",
    "N = 2\n",
    "for Assignment_group, category_id in sorted(category_to_id.items()):\n",
    "  features_chi2 = chi2(features, labels == category_id)\n",
    "  indices = np.argsort(features_chi2[0])\n",
    "  feature_names = np.array(tfidf.get_feature_names())[indices]\n",
    "  unigrams = [v for v in feature_names if len(v.split(' ')) == 1]\n",
    "  bigrams = [v for v in feature_names if len(v.split(' ')) == 2]\n",
    "  print(\"# '{}':\".format(Assignment_group))\n",
    "  print(\"  . Most correlated unigrams:\\n       . {}\".format('\\n       . '.join(unigrams[-N:])))\n",
    "  print(\"  . Most correlated bigrams:\\n       . {}\".format('\\n       . '.join(bigrams[-N:])))"
   ]
  },
  {
   "cell_type": "code",
   "execution_count": 53,
   "metadata": {
    "scrolled": false
   },
   "outputs": [
    {
     "name": "stdout",
     "output_type": "stream",
     "text": [
      "# 'DH-ClinApps CPOE':\n",
      "  . Top unigrams:\n",
      "       . mptl\n",
      "       . ipet\n",
      "  . Top bigrams:\n",
      "       . task list\n",
      "       . dynamic documentation\n",
      "# 'DH-ClinApps NAS':\n",
      "  . Top unigrams:\n",
      "       . homecare\n",
      "       . patient\n",
      "  . Top bigrams:\n",
      "       . information crossing\n",
      "       . careaware connect\n",
      "# 'DH-Enterprise IT Service Cntr':\n",
      "  . Top unigrams:\n",
      "       . resolved\n",
      "       . guided\n",
      "  . Top bigrams:\n",
      "       . issue resolved\n",
      "       . needs reset\n",
      "# 'DH-GB-EUS Dominican':\n",
      "  . Top unigrams:\n",
      "       . dominican\n",
      "       . dscdadt16\n",
      "  . Top bigrams:\n",
      "       . loc dominican\n",
      "       . scanner error\n",
      "# 'DH-Helpdesk RRE':\n",
      "  . Top unigrams:\n",
      "       . installation\n",
      "       . rre\n",
      "  . Top bigrams:\n",
      "       . installed username\n",
      "       . need install\n",
      "# 'DH-MPS Kyocera':\n",
      "  . Top unigrams:\n",
      "       . kyocera\n",
      "       . paper\n",
      "  . Top bigrams:\n",
      "       . kyocera unable\n",
      "       . kyocera working\n",
      "# 'DH-NC-EUS Redding':\n",
      "  . Top unigrams:\n",
      "       . mmcr\n",
      "       . meds\n",
      "  . Top bigrams:\n",
      "       . error windows\n",
      "       . 10 11\n",
      "# 'DH-NC-EUS Sac MET':\n",
      "  . Top unigrams:\n",
      "       . methodist\n",
      "       . dmo\n",
      "  . Top bigrams:\n",
      "       . hospital rounding\n",
      "       . computer wow\n",
      "# 'DH-NC-EUS Stockton':\n",
      "  . Top unigrams:\n",
      "       . rubicon\n",
      "       . 179\n",
      "  . Top bigrams:\n",
      "       . 10 179\n",
      "       . joseph medical\n",
      "# 'DH-SC-EUS Bakersfield BMH':\n",
      "  . Top unigrams:\n",
      "       . rounding\n",
      "       . bmh\n",
      "  . Top bigrams:\n",
      "       . print printer\n",
      "       . printer user\n",
      "# 'DH-SC-EUS NLA NrthrdgRoscoe':\n",
      "  . Top unigrams:\n",
      "       . northridge\n",
      "       . aware\n",
      "  . Top bigrams:\n",
      "       . fix issue\n",
      "       . loc northridge\n",
      "# 'DH-SC-EUS StJohnRMC':\n",
      "  . Top unigrams:\n",
      "       . alcove\n",
      "       . sjrmc\n",
      "  . Top bigrams:\n",
      "       . power cord\n",
      "       . 10 25\n",
      "# 'DH-SW-EUS Chandler':\n",
      "  . Top unigrams:\n",
      "       . ascom\n",
      "       . crmc\n",
      "  . Top bigrams:\n",
      "       . cable management\n",
      "       . missing ms4\n",
      "# 'DH-SW-EUS Phoenix':\n",
      "  . Top unigrams:\n",
      "       . dell\n",
      "       . dameware\n",
      "  . Top bigrams:\n",
      "       . keeps restarting\n",
      "       . corporate office\n",
      "# 'DH-SW-EUS StJoseph':\n",
      "  . Top unigrams:\n",
      "       . danielsen\n",
      "       . rco\n",
      "  . Top bigrams:\n",
      "       . joseph hospital\n",
      "       . robert danielsen\n",
      "# 'DHE-HR Tier 2 - Talent Management':\n",
      "  . Top unigrams:\n",
      "       . learning\n",
      "       . evaluation\n",
      "  . Top bigrams:\n",
      "       . request task\n",
      "       . performance ticket\n",
      "# 'DHE-RCM-AppOpSupport-MS4':\n",
      "  . Top unigrams:\n",
      "       . ms4\n",
      "       . accounts\n",
      "  . Top bigrams:\n",
      "       . ms4 phxasp05\n",
      "       . ms4 unable\n",
      "# 'DHE-SecAdmin':\n",
      "  . Top unigrams:\n",
      "       . ldap\n",
      "       . hie\n",
      "  . Top bigrams:\n",
      "       . powerchart access\n",
      "       . cerner access\n"
     ]
    }
   ],
   "source": [
    "from sklearn.feature_selection import chi2\n",
    "\n",
    "N = 2\n",
    "for Product, category_id in sorted(category_to_id.items()):\n",
    "  indices = np.argsort(model.coef_[category_id])\n",
    "  feature_names = np.array(tfidf.get_feature_names())[indices]\n",
    "  unigrams = [v for v in reversed(feature_names) if len(v.split(' ')) == 1][:N]\n",
    "  bigrams = [v for v in reversed(feature_names) if len(v.split(' ')) == 2][:N]\n",
    "  print(\"# '{}':\".format(Product))\n",
    "  print(\"  . Top unigrams:\\n       . {}\".format('\\n       . '.join(unigrams)))\n",
    "  #print(\"  . Top bigrams:\\n       . {}\".format('\\n       . '.join(bigrams)))"
   ]
  },
  {
   "cell_type": "code",
   "execution_count": 74,
   "metadata": {},
   "outputs": [
    {
     "name": "stdout",
     "output_type": "stream",
     "text": [
      "             precision    recall  f1-score   support\n",
      "\n",
      "          0       0.22      0.21      0.21       146\n",
      "          1       0.57      0.74      0.64       118\n",
      "          2       0.45      0.42      0.43       265\n",
      "          3       0.52      0.56      0.54       117\n",
      "          4       0.73      0.61      0.66       264\n",
      "          5       0.31      0.28      0.29       145\n",
      "          6       0.96      0.95      0.96       342\n",
      "          7       0.31      0.33      0.32       129\n",
      "          8       0.37      0.28      0.32       283\n",
      "          9       0.49      0.53      0.51       173\n",
      "         10       0.53      0.70      0.60       105\n",
      "         11       0.61      0.47      0.53       209\n",
      "         12       0.31      0.41      0.35       147\n",
      "         13       0.32      0.42      0.36       118\n",
      "         14       0.23      0.35      0.28       133\n",
      "         15       0.35      0.33      0.34       183\n",
      "         16       0.83      0.83      0.83       227\n",
      "         17       0.78      0.70      0.74       419\n",
      "\n",
      "avg / total       0.55      0.54      0.54      3523\n",
      "\n",
      "0.540448481408\n"
     ]
    }
   ],
   "source": [
    "from sklearn.metrics import classification_report, confusion_matrix, accuracy_score\n",
    "\n",
    "#print(confusion_matrix(y_test,y_pred))  \n",
    "print(classification_report(y_test,y_pred))  \n",
    "print(accuracy_score(y_test, y_pred))  "
   ]
  }
 ],
 "metadata": {
  "kernelspec": {
   "display_name": "Python 3",
   "language": "python",
   "name": "python3"
  },
  "language_info": {
   "codemirror_mode": {
    "name": "ipython",
    "version": 3
   },
   "file_extension": ".py",
   "mimetype": "text/x-python",
   "name": "python",
   "nbconvert_exporter": "python",
   "pygments_lexer": "ipython3",
   "version": "3.6.3"
  }
 },
 "nbformat": 4,
 "nbformat_minor": 2
}
